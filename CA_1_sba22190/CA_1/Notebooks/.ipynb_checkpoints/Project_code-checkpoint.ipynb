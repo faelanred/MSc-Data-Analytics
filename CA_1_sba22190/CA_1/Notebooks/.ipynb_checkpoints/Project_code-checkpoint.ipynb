{
 "cells": [
  {
   "cell_type": "code",
   "execution_count": 20,
   "id": "a5a92cf6",
   "metadata": {},
   "outputs": [],
   "source": [
    "#Importing my commonly used libraries\n",
    "import pandas as pd\n",
    "import seaborn as sns\n",
    "import matplotlib.pyplot as plt\n",
    "import numpy as np \n",
    "import datetime as dt"
   ]
  },
  {
   "cell_type": "markdown",
   "id": "041e9971",
   "metadata": {},
   "source": [
    "# Phase 1: Importing Data Sets & Preparing Data For Analysis"
   ]
  },
  {
   "cell_type": "markdown",
   "id": "6ed6a38a",
   "metadata": {},
   "source": [
    "### (a) preparing the DCC cycle counts dataset, found <a href=\"https://data.gov.ie/dataset/dublin-city-centre-cycle-counts/resource/6af0c3fd-954c-4009-baa2-01401abee28d\">here</a>"
   ]
  },
  {
   "cell_type": "code",
   "execution_count": 21,
   "id": "73635c78",
   "metadata": {
    "scrolled": false
   },
   "outputs": [],
   "source": [
    "cycle_counts_df = pd.read_csv('cycle-counts.csv')\n",
    "cycle_counts_df[\"Time\"] = pd.to_datetime(cycle_counts_df[\"Time\"], infer_datetime_format=True)"
   ]
  },
  {
   "cell_type": "code",
   "execution_count": 22,
   "id": "8f31fefd",
   "metadata": {},
   "outputs": [
    {
     "data": {
      "text/html": [
       "<div>\n",
       "<style scoped>\n",
       "    .dataframe tbody tr th:only-of-type {\n",
       "        vertical-align: middle;\n",
       "    }\n",
       "\n",
       "    .dataframe tbody tr th {\n",
       "        vertical-align: top;\n",
       "    }\n",
       "\n",
       "    .dataframe thead th {\n",
       "        text-align: right;\n",
       "    }\n",
       "</style>\n",
       "<table border=\"1\" class=\"dataframe\">\n",
       "  <thead>\n",
       "    <tr style=\"text-align: right;\">\n",
       "      <th></th>\n",
       "      <th>Time</th>\n",
       "      <th>Charleville Mall</th>\n",
       "      <th>Charleville Mall Cyclist IN</th>\n",
       "      <th>Charleville Mall Cyclist OUT</th>\n",
       "      <th>Clontarf - James Larkin Rd</th>\n",
       "      <th>Clontarf - James Larkin Rd Cyclist IN</th>\n",
       "      <th>Clontarf - James Larkin Rd Cyclist OUT</th>\n",
       "      <th>Clontarf - Pebble Beach Carpark</th>\n",
       "      <th>Clontarf - Pebble Beach Carpark Cyclist IN</th>\n",
       "      <th>Clontarf - Pebble Beach Carpark Cyclist OUT</th>\n",
       "      <th>...</th>\n",
       "      <th>Grove Road Totem OUT</th>\n",
       "      <th>Grove Road Totem IN</th>\n",
       "      <th>North Strand Rd N/B</th>\n",
       "      <th>North Strand Rd S/B</th>\n",
       "      <th>Richmond Street Cyclists 1</th>\n",
       "      <th>Richmond Street Cyclists 1 Cyclist IN</th>\n",
       "      <th>Richmond Street Cyclists 1 Cyclist OUT</th>\n",
       "      <th>Richmond Street Cyclists 2</th>\n",
       "      <th>Richmond Street Cyclists 2  Cyclist IN</th>\n",
       "      <th>Richmond Street Cyclists 2  Cyclist OUT</th>\n",
       "    </tr>\n",
       "  </thead>\n",
       "  <tbody>\n",
       "    <tr>\n",
       "      <th>0</th>\n",
       "      <td>2022-01-01 00:00:00</td>\n",
       "      <td>0.0</td>\n",
       "      <td>0.0</td>\n",
       "      <td>0.0</td>\n",
       "      <td>0.0</td>\n",
       "      <td>0.0</td>\n",
       "      <td>0.0</td>\n",
       "      <td>6.0</td>\n",
       "      <td>4.0</td>\n",
       "      <td>2.0</td>\n",
       "      <td>...</td>\n",
       "      <td>3.0</td>\n",
       "      <td>1.0</td>\n",
       "      <td>3.0</td>\n",
       "      <td>1.0</td>\n",
       "      <td>9.0</td>\n",
       "      <td>1.0</td>\n",
       "      <td>8.0</td>\n",
       "      <td>4.0</td>\n",
       "      <td>0.0</td>\n",
       "      <td>4.0</td>\n",
       "    </tr>\n",
       "    <tr>\n",
       "      <th>1</th>\n",
       "      <td>2022-01-01 01:00:00</td>\n",
       "      <td>2.0</td>\n",
       "      <td>0.0</td>\n",
       "      <td>2.0</td>\n",
       "      <td>2.0</td>\n",
       "      <td>1.0</td>\n",
       "      <td>1.0</td>\n",
       "      <td>1.0</td>\n",
       "      <td>0.0</td>\n",
       "      <td>1.0</td>\n",
       "      <td>...</td>\n",
       "      <td>9.0</td>\n",
       "      <td>8.0</td>\n",
       "      <td>7.0</td>\n",
       "      <td>5.0</td>\n",
       "      <td>6.0</td>\n",
       "      <td>0.0</td>\n",
       "      <td>6.0</td>\n",
       "      <td>1.0</td>\n",
       "      <td>0.0</td>\n",
       "      <td>1.0</td>\n",
       "    </tr>\n",
       "    <tr>\n",
       "      <th>2</th>\n",
       "      <td>2022-01-01 02:00:00</td>\n",
       "      <td>0.0</td>\n",
       "      <td>0.0</td>\n",
       "      <td>0.0</td>\n",
       "      <td>2.0</td>\n",
       "      <td>1.0</td>\n",
       "      <td>1.0</td>\n",
       "      <td>4.0</td>\n",
       "      <td>0.0</td>\n",
       "      <td>4.0</td>\n",
       "      <td>...</td>\n",
       "      <td>7.0</td>\n",
       "      <td>0.0</td>\n",
       "      <td>2.0</td>\n",
       "      <td>3.0</td>\n",
       "      <td>9.0</td>\n",
       "      <td>0.0</td>\n",
       "      <td>9.0</td>\n",
       "      <td>6.0</td>\n",
       "      <td>0.0</td>\n",
       "      <td>6.0</td>\n",
       "    </tr>\n",
       "    <tr>\n",
       "      <th>3</th>\n",
       "      <td>2022-01-01 03:00:00</td>\n",
       "      <td>1.0</td>\n",
       "      <td>1.0</td>\n",
       "      <td>0.0</td>\n",
       "      <td>1.0</td>\n",
       "      <td>1.0</td>\n",
       "      <td>0.0</td>\n",
       "      <td>2.0</td>\n",
       "      <td>0.0</td>\n",
       "      <td>2.0</td>\n",
       "      <td>...</td>\n",
       "      <td>5.0</td>\n",
       "      <td>4.0</td>\n",
       "      <td>5.0</td>\n",
       "      <td>0.0</td>\n",
       "      <td>6.0</td>\n",
       "      <td>0.0</td>\n",
       "      <td>6.0</td>\n",
       "      <td>2.0</td>\n",
       "      <td>0.0</td>\n",
       "      <td>2.0</td>\n",
       "    </tr>\n",
       "    <tr>\n",
       "      <th>4</th>\n",
       "      <td>2022-01-01 04:00:00</td>\n",
       "      <td>1.0</td>\n",
       "      <td>0.0</td>\n",
       "      <td>1.0</td>\n",
       "      <td>1.0</td>\n",
       "      <td>1.0</td>\n",
       "      <td>0.0</td>\n",
       "      <td>1.0</td>\n",
       "      <td>0.0</td>\n",
       "      <td>1.0</td>\n",
       "      <td>...</td>\n",
       "      <td>4.0</td>\n",
       "      <td>5.0</td>\n",
       "      <td>2.0</td>\n",
       "      <td>1.0</td>\n",
       "      <td>2.0</td>\n",
       "      <td>0.0</td>\n",
       "      <td>2.0</td>\n",
       "      <td>0.0</td>\n",
       "      <td>0.0</td>\n",
       "      <td>0.0</td>\n",
       "    </tr>\n",
       "  </tbody>\n",
       "</table>\n",
       "<p>5 rows × 33 columns</p>\n",
       "</div>"
      ],
      "text/plain": [
       "                 Time  Charleville Mall  Charleville Mall Cyclist IN  \\\n",
       "0 2022-01-01 00:00:00               0.0                          0.0   \n",
       "1 2022-01-01 01:00:00               2.0                          0.0   \n",
       "2 2022-01-01 02:00:00               0.0                          0.0   \n",
       "3 2022-01-01 03:00:00               1.0                          1.0   \n",
       "4 2022-01-01 04:00:00               1.0                          0.0   \n",
       "\n",
       "   Charleville Mall Cyclist OUT  Clontarf - James Larkin Rd  \\\n",
       "0                           0.0                         0.0   \n",
       "1                           2.0                         2.0   \n",
       "2                           0.0                         2.0   \n",
       "3                           0.0                         1.0   \n",
       "4                           1.0                         1.0   \n",
       "\n",
       "   Clontarf - James Larkin Rd Cyclist IN  \\\n",
       "0                                    0.0   \n",
       "1                                    1.0   \n",
       "2                                    1.0   \n",
       "3                                    1.0   \n",
       "4                                    1.0   \n",
       "\n",
       "   Clontarf - James Larkin Rd Cyclist OUT  Clontarf - Pebble Beach Carpark  \\\n",
       "0                                     0.0                              6.0   \n",
       "1                                     1.0                              1.0   \n",
       "2                                     1.0                              4.0   \n",
       "3                                     0.0                              2.0   \n",
       "4                                     0.0                              1.0   \n",
       "\n",
       "   Clontarf - Pebble Beach Carpark Cyclist IN  \\\n",
       "0                                         4.0   \n",
       "1                                         0.0   \n",
       "2                                         0.0   \n",
       "3                                         0.0   \n",
       "4                                         0.0   \n",
       "\n",
       "   Clontarf - Pebble Beach Carpark Cyclist OUT  ...  Grove Road Totem OUT  \\\n",
       "0                                          2.0  ...                   3.0   \n",
       "1                                          1.0  ...                   9.0   \n",
       "2                                          4.0  ...                   7.0   \n",
       "3                                          2.0  ...                   5.0   \n",
       "4                                          1.0  ...                   4.0   \n",
       "\n",
       "   Grove Road Totem IN  North Strand Rd N/B  North Strand Rd S/B  \\\n",
       "0                  1.0                  3.0                  1.0   \n",
       "1                  8.0                  7.0                  5.0   \n",
       "2                  0.0                  2.0                  3.0   \n",
       "3                  4.0                  5.0                  0.0   \n",
       "4                  5.0                  2.0                  1.0   \n",
       "\n",
       "   Richmond Street Cyclists 1  Richmond Street Cyclists 1 Cyclist IN  \\\n",
       "0                         9.0                                    1.0   \n",
       "1                         6.0                                    0.0   \n",
       "2                         9.0                                    0.0   \n",
       "3                         6.0                                    0.0   \n",
       "4                         2.0                                    0.0   \n",
       "\n",
       "   Richmond Street Cyclists 1 Cyclist OUT  Richmond Street Cyclists 2   \\\n",
       "0                                     8.0                          4.0   \n",
       "1                                     6.0                          1.0   \n",
       "2                                     9.0                          6.0   \n",
       "3                                     6.0                          2.0   \n",
       "4                                     2.0                          0.0   \n",
       "\n",
       "   Richmond Street Cyclists 2  Cyclist IN  \\\n",
       "0                                     0.0   \n",
       "1                                     0.0   \n",
       "2                                     0.0   \n",
       "3                                     0.0   \n",
       "4                                     0.0   \n",
       "\n",
       "   Richmond Street Cyclists 2  Cyclist OUT  \n",
       "0                                      4.0  \n",
       "1                                      1.0  \n",
       "2                                      6.0  \n",
       "3                                      2.0  \n",
       "4                                      0.0  \n",
       "\n",
       "[5 rows x 33 columns]"
      ]
     },
     "execution_count": 22,
     "metadata": {},
     "output_type": "execute_result"
    }
   ],
   "source": [
    "cycle_counts_df.head()"
   ]
  },
  {
   "cell_type": "code",
   "execution_count": 23,
   "id": "a9a2da68",
   "metadata": {},
   "outputs": [],
   "source": [
    "#North strand S/B appears to have a few thousand null values, so lets look at this\n",
    "#It appears as though this sensor went off line during the year and has yet to be repaired.\n",
    "#we will drop it for now and come back to it later\n",
    "cycle_counts_df = cycle_counts_df.drop(\"North Strand Rd S/B\", axis = 1)"
   ]
  },
  {
   "cell_type": "code",
   "execution_count": 24,
   "id": "7d210fdf",
   "metadata": {},
   "outputs": [
    {
     "data": {
      "text/plain": [
       "Time                                           0\n",
       "Charleville Mall                               0\n",
       "Charleville Mall Cyclist IN                    0\n",
       "Charleville Mall Cyclist OUT                   0\n",
       "Clontarf - James Larkin Rd                     0\n",
       "Clontarf - James Larkin Rd Cyclist IN          0\n",
       "Clontarf - James Larkin Rd Cyclist OUT         0\n",
       "Clontarf - Pebble Beach Carpark                0\n",
       "Clontarf - Pebble Beach Carpark Cyclist IN     0\n",
       "Clontarf - Pebble Beach Carpark Cyclist OUT    0\n",
       "Drumcondra Cyclists 1                          0\n",
       "Drumcondra Cyclists 1 Cyclist IN               0\n",
       "Drumcondra Cyclists 1 Cyclist OUT              0\n",
       "Drumcondra Cyclists 2                          0\n",
       "Drumcondra Cyclists 2 Cyclist IN               0\n",
       "Drumcondra Cyclists 2 Cyclist OUT              0\n",
       "Griffith Avenue (Clare Rd Side)                0\n",
       "Griffith Avenue (Clare Rd Side) Cyclist IN     0\n",
       "Griffith Avenue (Clare Rd Side) Cyclist OUT    0\n",
       "Griffith Avenue (Lane Side)                    0\n",
       "Griffith Avenue (Lane Side) Cyclist IN         0\n",
       "Griffith Avenue (Lane Side) Cyclist OUT        0\n",
       "Grove Road Totem                               0\n",
       "Grove Road Totem OUT                           0\n",
       "Grove Road Totem IN                            0\n",
       "North Strand Rd N/B                            0\n",
       "Richmond Street Cyclists 1                     0\n",
       "Richmond Street Cyclists 1 Cyclist IN          0\n",
       "Richmond Street Cyclists 1 Cyclist OUT         0\n",
       "Richmond Street Cyclists 2                     0\n",
       "Richmond Street Cyclists 2  Cyclist IN         0\n",
       "Richmond Street Cyclists 2  Cyclist OUT        0\n",
       "dtype: int64"
      ]
     },
     "execution_count": 24,
     "metadata": {},
     "output_type": "execute_result"
    }
   ],
   "source": [
    "#We can see that this croublesome column is gone and we can now \n",
    "#impute missing values. In this case it may be unwise to use mean values\n",
    "#as this would create an anomoly during quiet hours\n",
    "#since counts never change massively hour on hour we will use the backfill method\n",
    "cycle_counts_df.fillna(method = 'bfill', inplace = True)\n",
    "cycle_counts_df.isna().sum()\n",
    "#ready to go ahead with time and date formatting now! \n"
   ]
  },
  {
   "cell_type": "markdown",
   "id": "576d951f",
   "metadata": {},
   "source": [
    "This dataset is absolutely huge as it has been recording results every hour, on the hour, since the beginning of 2022. We wish to attempt to run a clustering algorithm on this in order to try group travel patterns at certain times of the day, this would be awaward with the dataset as is. To addrress this we will instead group the counts into time blocks for each location. These time blocks will represent times of high commuting activity. We will take rush-hour times to be 6:30-10am & 4-7:30pm, outside of these times we have \"daytime = 10am-3pm\" and \"night-time = 8pm-6am\"."
   ]
  },
  {
   "cell_type": "code",
   "execution_count": 25,
   "id": "fa47ef2e",
   "metadata": {},
   "outputs": [
    {
     "data": {
      "text/html": [
       "<div>\n",
       "<style scoped>\n",
       "    .dataframe tbody tr th:only-of-type {\n",
       "        vertical-align: middle;\n",
       "    }\n",
       "\n",
       "    .dataframe tbody tr th {\n",
       "        vertical-align: top;\n",
       "    }\n",
       "\n",
       "    .dataframe thead th {\n",
       "        text-align: right;\n",
       "    }\n",
       "</style>\n",
       "<table border=\"1\" class=\"dataframe\">\n",
       "  <thead>\n",
       "    <tr style=\"text-align: right;\">\n",
       "      <th></th>\n",
       "      <th>Time</th>\n",
       "      <th>Charleville Mall</th>\n",
       "      <th>Charleville Mall Cyclist IN</th>\n",
       "      <th>Charleville Mall Cyclist OUT</th>\n",
       "      <th>Clontarf - James Larkin Rd</th>\n",
       "      <th>Clontarf - James Larkin Rd Cyclist IN</th>\n",
       "      <th>Clontarf - James Larkin Rd Cyclist OUT</th>\n",
       "      <th>Clontarf - Pebble Beach Carpark</th>\n",
       "      <th>Clontarf - Pebble Beach Carpark Cyclist IN</th>\n",
       "      <th>Clontarf - Pebble Beach Carpark Cyclist OUT</th>\n",
       "      <th>...</th>\n",
       "      <th>Richmond Street Cyclists 1</th>\n",
       "      <th>Richmond Street Cyclists 1 Cyclist IN</th>\n",
       "      <th>Richmond Street Cyclists 1 Cyclist OUT</th>\n",
       "      <th>Richmond Street Cyclists 2</th>\n",
       "      <th>Richmond Street Cyclists 2  Cyclist IN</th>\n",
       "      <th>Richmond Street Cyclists 2  Cyclist OUT</th>\n",
       "      <th>Time of Day</th>\n",
       "      <th>Day Type</th>\n",
       "      <th>Hour</th>\n",
       "      <th>Clustering Category</th>\n",
       "    </tr>\n",
       "  </thead>\n",
       "  <tbody>\n",
       "    <tr>\n",
       "      <th>0</th>\n",
       "      <td>2022-01-01 00:00:00</td>\n",
       "      <td>0.0</td>\n",
       "      <td>0.0</td>\n",
       "      <td>0.0</td>\n",
       "      <td>0.0</td>\n",
       "      <td>0.0</td>\n",
       "      <td>0.0</td>\n",
       "      <td>6.0</td>\n",
       "      <td>4.0</td>\n",
       "      <td>2.0</td>\n",
       "      <td>...</td>\n",
       "      <td>9.0</td>\n",
       "      <td>1.0</td>\n",
       "      <td>8.0</td>\n",
       "      <td>4.0</td>\n",
       "      <td>0.0</td>\n",
       "      <td>4.0</td>\n",
       "      <td>00:00:00</td>\n",
       "      <td>Weekend</td>\n",
       "      <td>Overnight</td>\n",
       "      <td>Weekend Overnight</td>\n",
       "    </tr>\n",
       "    <tr>\n",
       "      <th>1</th>\n",
       "      <td>2022-01-01 01:00:00</td>\n",
       "      <td>2.0</td>\n",
       "      <td>0.0</td>\n",
       "      <td>2.0</td>\n",
       "      <td>2.0</td>\n",
       "      <td>1.0</td>\n",
       "      <td>1.0</td>\n",
       "      <td>1.0</td>\n",
       "      <td>0.0</td>\n",
       "      <td>1.0</td>\n",
       "      <td>...</td>\n",
       "      <td>6.0</td>\n",
       "      <td>0.0</td>\n",
       "      <td>6.0</td>\n",
       "      <td>1.0</td>\n",
       "      <td>0.0</td>\n",
       "      <td>1.0</td>\n",
       "      <td>01:00:00</td>\n",
       "      <td>Weekend</td>\n",
       "      <td>Overnight</td>\n",
       "      <td>Weekend Overnight</td>\n",
       "    </tr>\n",
       "    <tr>\n",
       "      <th>2</th>\n",
       "      <td>2022-01-01 02:00:00</td>\n",
       "      <td>0.0</td>\n",
       "      <td>0.0</td>\n",
       "      <td>0.0</td>\n",
       "      <td>2.0</td>\n",
       "      <td>1.0</td>\n",
       "      <td>1.0</td>\n",
       "      <td>4.0</td>\n",
       "      <td>0.0</td>\n",
       "      <td>4.0</td>\n",
       "      <td>...</td>\n",
       "      <td>9.0</td>\n",
       "      <td>0.0</td>\n",
       "      <td>9.0</td>\n",
       "      <td>6.0</td>\n",
       "      <td>0.0</td>\n",
       "      <td>6.0</td>\n",
       "      <td>02:00:00</td>\n",
       "      <td>Weekend</td>\n",
       "      <td>Overnight</td>\n",
       "      <td>Weekend Overnight</td>\n",
       "    </tr>\n",
       "    <tr>\n",
       "      <th>3</th>\n",
       "      <td>2022-01-01 03:00:00</td>\n",
       "      <td>1.0</td>\n",
       "      <td>1.0</td>\n",
       "      <td>0.0</td>\n",
       "      <td>1.0</td>\n",
       "      <td>1.0</td>\n",
       "      <td>0.0</td>\n",
       "      <td>2.0</td>\n",
       "      <td>0.0</td>\n",
       "      <td>2.0</td>\n",
       "      <td>...</td>\n",
       "      <td>6.0</td>\n",
       "      <td>0.0</td>\n",
       "      <td>6.0</td>\n",
       "      <td>2.0</td>\n",
       "      <td>0.0</td>\n",
       "      <td>2.0</td>\n",
       "      <td>03:00:00</td>\n",
       "      <td>Weekend</td>\n",
       "      <td>Overnight</td>\n",
       "      <td>Weekend Overnight</td>\n",
       "    </tr>\n",
       "    <tr>\n",
       "      <th>4</th>\n",
       "      <td>2022-01-01 04:00:00</td>\n",
       "      <td>1.0</td>\n",
       "      <td>0.0</td>\n",
       "      <td>1.0</td>\n",
       "      <td>1.0</td>\n",
       "      <td>1.0</td>\n",
       "      <td>0.0</td>\n",
       "      <td>1.0</td>\n",
       "      <td>0.0</td>\n",
       "      <td>1.0</td>\n",
       "      <td>...</td>\n",
       "      <td>2.0</td>\n",
       "      <td>0.0</td>\n",
       "      <td>2.0</td>\n",
       "      <td>0.0</td>\n",
       "      <td>0.0</td>\n",
       "      <td>0.0</td>\n",
       "      <td>04:00:00</td>\n",
       "      <td>Weekend</td>\n",
       "      <td>Overnight</td>\n",
       "      <td>Weekend Overnight</td>\n",
       "    </tr>\n",
       "  </tbody>\n",
       "</table>\n",
       "<p>5 rows × 36 columns</p>\n",
       "</div>"
      ],
      "text/plain": [
       "                 Time  Charleville Mall  Charleville Mall Cyclist IN  \\\n",
       "0 2022-01-01 00:00:00               0.0                          0.0   \n",
       "1 2022-01-01 01:00:00               2.0                          0.0   \n",
       "2 2022-01-01 02:00:00               0.0                          0.0   \n",
       "3 2022-01-01 03:00:00               1.0                          1.0   \n",
       "4 2022-01-01 04:00:00               1.0                          0.0   \n",
       "\n",
       "   Charleville Mall Cyclist OUT  Clontarf - James Larkin Rd  \\\n",
       "0                           0.0                         0.0   \n",
       "1                           2.0                         2.0   \n",
       "2                           0.0                         2.0   \n",
       "3                           0.0                         1.0   \n",
       "4                           1.0                         1.0   \n",
       "\n",
       "   Clontarf - James Larkin Rd Cyclist IN  \\\n",
       "0                                    0.0   \n",
       "1                                    1.0   \n",
       "2                                    1.0   \n",
       "3                                    1.0   \n",
       "4                                    1.0   \n",
       "\n",
       "   Clontarf - James Larkin Rd Cyclist OUT  Clontarf - Pebble Beach Carpark  \\\n",
       "0                                     0.0                              6.0   \n",
       "1                                     1.0                              1.0   \n",
       "2                                     1.0                              4.0   \n",
       "3                                     0.0                              2.0   \n",
       "4                                     0.0                              1.0   \n",
       "\n",
       "   Clontarf - Pebble Beach Carpark Cyclist IN  \\\n",
       "0                                         4.0   \n",
       "1                                         0.0   \n",
       "2                                         0.0   \n",
       "3                                         0.0   \n",
       "4                                         0.0   \n",
       "\n",
       "   Clontarf - Pebble Beach Carpark Cyclist OUT  ...  \\\n",
       "0                                          2.0  ...   \n",
       "1                                          1.0  ...   \n",
       "2                                          4.0  ...   \n",
       "3                                          2.0  ...   \n",
       "4                                          1.0  ...   \n",
       "\n",
       "   Richmond Street Cyclists 1  Richmond Street Cyclists 1 Cyclist IN  \\\n",
       "0                         9.0                                    1.0   \n",
       "1                         6.0                                    0.0   \n",
       "2                         9.0                                    0.0   \n",
       "3                         6.0                                    0.0   \n",
       "4                         2.0                                    0.0   \n",
       "\n",
       "   Richmond Street Cyclists 1 Cyclist OUT  Richmond Street Cyclists 2   \\\n",
       "0                                     8.0                          4.0   \n",
       "1                                     6.0                          1.0   \n",
       "2                                     9.0                          6.0   \n",
       "3                                     6.0                          2.0   \n",
       "4                                     2.0                          0.0   \n",
       "\n",
       "   Richmond Street Cyclists 2  Cyclist IN  \\\n",
       "0                                     0.0   \n",
       "1                                     0.0   \n",
       "2                                     0.0   \n",
       "3                                     0.0   \n",
       "4                                     0.0   \n",
       "\n",
       "   Richmond Street Cyclists 2  Cyclist OUT  Time of Day  Day Type       Hour  \\\n",
       "0                                      4.0     00:00:00   Weekend  Overnight   \n",
       "1                                      1.0     01:00:00   Weekend  Overnight   \n",
       "2                                      6.0     02:00:00   Weekend  Overnight   \n",
       "3                                      2.0     03:00:00   Weekend  Overnight   \n",
       "4                                      0.0     04:00:00   Weekend  Overnight   \n",
       "\n",
       "   Clustering Category  \n",
       "0    Weekend Overnight  \n",
       "1    Weekend Overnight  \n",
       "2    Weekend Overnight  \n",
       "3    Weekend Overnight  \n",
       "4    Weekend Overnight  \n",
       "\n",
       "[5 rows x 36 columns]"
      ]
     },
     "execution_count": 25,
     "metadata": {},
     "output_type": "execute_result"
    }
   ],
   "source": [
    "cycle_counts_df['Time of Day'] = [dt.datetime.time(d) for d in cycle_counts_df['Time']] \n",
    "Day = cycle_counts_df.Time.dt.dayofweek\n",
    "cycle_counts_df['Day Type'] = np.where(Day <= 4, 'Weekday', 'Weekend')\n",
    "def time_category(x):\n",
    "    \n",
    "    if x.time() < dt.time(6):\n",
    "        return 'Overnight'\n",
    "    elif x.time() < dt.time(11):\n",
    "        return 'Morning Rush-hour'\n",
    "    elif x.time() < dt.time(16):\n",
    "        return 'Daytime'\n",
    "    elif x.time() < dt.time(20):\n",
    "        return 'Evening Rush-hour'\n",
    "    else:\n",
    "        return 'Overnight'\n",
    "    \n",
    "    \n",
    "    \n",
    "cycle_counts_df['Hour'] = cycle_counts_df['Time'].apply(time_category)\n",
    "cycle_counts_df['Clustering Category'] = cycle_counts_df['Day Type'] + ' ' + cycle_counts_df['Hour']\n",
    "cycle_counts_df.head()"
   ]
  },
  {
   "cell_type": "code",
   "execution_count": 26,
   "id": "cda4858d",
   "metadata": {
    "scrolled": false
   },
   "outputs": [
    {
     "data": {
      "text/plain": [
       "Index(['Time', 'Charleville Mall', 'Charleville Mall Cyclist IN',\n",
       "       'Charleville Mall Cyclist OUT', 'Clontarf - James Larkin Rd',\n",
       "       'Clontarf - James Larkin Rd Cyclist IN',\n",
       "       'Clontarf - James Larkin Rd Cyclist OUT',\n",
       "       'Clontarf - Pebble Beach Carpark',\n",
       "       'Clontarf - Pebble Beach Carpark Cyclist IN',\n",
       "       'Clontarf - Pebble Beach Carpark Cyclist OUT', 'Drumcondra Cyclists 1',\n",
       "       'Drumcondra Cyclists 1 Cyclist IN', 'Drumcondra Cyclists 1 Cyclist OUT',\n",
       "       'Drumcondra Cyclists 2', 'Drumcondra Cyclists 2 Cyclist IN',\n",
       "       'Drumcondra Cyclists 2 Cyclist OUT', 'Griffith Avenue (Clare Rd Side)',\n",
       "       'Griffith Avenue (Clare Rd Side) Cyclist IN',\n",
       "       'Griffith Avenue (Clare Rd Side) Cyclist OUT',\n",
       "       'Griffith Avenue (Lane Side)', 'Griffith Avenue (Lane Side) Cyclist IN',\n",
       "       'Griffith Avenue (Lane Side) Cyclist OUT', 'Grove Road Totem',\n",
       "       'Grove Road Totem OUT', 'Grove Road Totem IN', 'North Strand Rd N/B',\n",
       "       'Richmond Street Cyclists 1', 'Richmond Street Cyclists 1 Cyclist IN',\n",
       "       'Richmond Street Cyclists 1 Cyclist OUT', 'Richmond Street Cyclists 2 ',\n",
       "       'Richmond Street Cyclists 2  Cyclist IN',\n",
       "       'Richmond Street Cyclists 2  Cyclist OUT', 'Time of Day', 'Day Type',\n",
       "       'Hour', 'Clustering Category'],\n",
       "      dtype='object')"
      ]
     },
     "execution_count": 26,
     "metadata": {},
     "output_type": "execute_result"
    }
   ],
   "source": [
    "cycle_counts_df.columns"
   ]
  },
  {
   "cell_type": "markdown",
   "id": "3f411f74",
   "metadata": {},
   "source": [
    "Now that we have the days and times clustered, we want to prepare the data for a clustering algorithm. To do this we want the rows to represent the counter locations & the columns to show the usage at dthe different day/time clusters defined above"
   ]
  },
  {
   "cell_type": "code",
   "execution_count": 55,
   "id": "7ab9c36c",
   "metadata": {},
   "outputs": [
    {
     "name": "stderr",
     "output_type": "stream",
     "text": [
      "C:\\Users\\faela\\AppData\\Local\\Temp/ipykernel_13368/965566061.py:1: FutureWarning: Indexing with multiple keys (implicitly converted to a tuple of keys) will be deprecated, use a list instead.\n",
      "  test = cycle_counts_df.groupby(['Clustering Category'], as_index=False)['Charleville Mall', 'Charleville Mall Cyclist IN', 'Charleville Mall Cyclist OUT', 'Clontarf - James Larkin Rd','Clontarf - James Larkin Rd Cyclist IN','Clontarf - James Larkin Rd Cyclist OUT','Clontarf - Pebble Beach Carpark','Clontarf - Pebble Beach Carpark Cyclist IN','Clontarf - Pebble Beach Carpark Cyclist OUT', 'Drumcondra Cyclists 1','Drumcondra Cyclists 1 Cyclist IN', 'Drumcondra Cyclists 1 Cyclist OUT','Drumcondra Cyclists 2', 'Drumcondra Cyclists 2 Cyclist IN','Drumcondra Cyclists 2 Cyclist OUT', 'Griffith Avenue (Clare Rd Side)','Griffith Avenue (Clare Rd Side) Cyclist IN','Griffith Avenue (Clare Rd Side) Cyclist OUT','Griffith Avenue (Lane Side)', 'Griffith Avenue (Lane Side) Cyclist IN','Griffith Avenue (Lane Side) Cyclist OUT', 'Grove Road Totem','Grove Road Totem OUT', 'Grove Road Totem IN', 'North Strand Rd N/B', 'Richmond Street Cyclists 1','Richmond Street Cyclists 1 Cyclist IN','Richmond Street Cyclists 1 Cyclist OUT', 'Richmond Street Cyclists 2 ','Richmond Street Cyclists 2  Cyclist IN','Richmond Street Cyclists 2  Cyclist OUT'  ].sum()\n"
     ]
    },
    {
     "data": {
      "text/html": [
       "<div>\n",
       "<style scoped>\n",
       "    .dataframe tbody tr th:only-of-type {\n",
       "        vertical-align: middle;\n",
       "    }\n",
       "\n",
       "    .dataframe tbody tr th {\n",
       "        vertical-align: top;\n",
       "    }\n",
       "\n",
       "    .dataframe thead th {\n",
       "        text-align: right;\n",
       "    }\n",
       "</style>\n",
       "<table border=\"1\" class=\"dataframe\">\n",
       "  <thead>\n",
       "    <tr style=\"text-align: right;\">\n",
       "      <th>Clustering Category</th>\n",
       "      <th>Weekday Daytime</th>\n",
       "      <th>Weekday Evening Rush-hour</th>\n",
       "      <th>Weekday Morning Rush-hour</th>\n",
       "      <th>Weekday Overnight</th>\n",
       "      <th>Weekend Daytime</th>\n",
       "      <th>Weekend Evening Rush-hour</th>\n",
       "      <th>Weekend Morning Rush-hour</th>\n",
       "      <th>Weekend Overnight</th>\n",
       "    </tr>\n",
       "  </thead>\n",
       "  <tbody>\n",
       "    <tr>\n",
       "      <th>Charleville Mall</th>\n",
       "      <td>16840.0</td>\n",
       "      <td>28264.0</td>\n",
       "      <td>35030.0</td>\n",
       "      <td>8427.0</td>\n",
       "      <td>6271.0</td>\n",
       "      <td>4253.0</td>\n",
       "      <td>2884.0</td>\n",
       "      <td>2673.0</td>\n",
       "    </tr>\n",
       "    <tr>\n",
       "      <th>Charleville Mall Cyclist IN</th>\n",
       "      <td>9099.0</td>\n",
       "      <td>9971.0</td>\n",
       "      <td>29944.0</td>\n",
       "      <td>3887.0</td>\n",
       "      <td>3641.0</td>\n",
       "      <td>2207.0</td>\n",
       "      <td>2097.0</td>\n",
       "      <td>1335.0</td>\n",
       "    </tr>\n",
       "    <tr>\n",
       "      <th>Charleville Mall Cyclist OUT</th>\n",
       "      <td>7741.0</td>\n",
       "      <td>18293.0</td>\n",
       "      <td>5086.0</td>\n",
       "      <td>4540.0</td>\n",
       "      <td>2630.0</td>\n",
       "      <td>2046.0</td>\n",
       "      <td>787.0</td>\n",
       "      <td>1338.0</td>\n",
       "    </tr>\n",
       "    <tr>\n",
       "      <th>Clontarf - James Larkin Rd</th>\n",
       "      <td>56158.0</td>\n",
       "      <td>67638.0</td>\n",
       "      <td>54178.0</td>\n",
       "      <td>20257.0</td>\n",
       "      <td>47425.0</td>\n",
       "      <td>19179.0</td>\n",
       "      <td>25913.0</td>\n",
       "      <td>5103.0</td>\n",
       "    </tr>\n",
       "    <tr>\n",
       "      <th>Clontarf - James Larkin Rd Cyclist IN</th>\n",
       "      <td>26512.0</td>\n",
       "      <td>24782.0</td>\n",
       "      <td>35059.0</td>\n",
       "      <td>10453.0</td>\n",
       "      <td>23529.0</td>\n",
       "      <td>10662.0</td>\n",
       "      <td>11093.0</td>\n",
       "      <td>2777.0</td>\n",
       "    </tr>\n",
       "    <tr>\n",
       "      <th>Clontarf - James Larkin Rd Cyclist OUT</th>\n",
       "      <td>29646.0</td>\n",
       "      <td>42856.0</td>\n",
       "      <td>19119.0</td>\n",
       "      <td>9804.0</td>\n",
       "      <td>23896.0</td>\n",
       "      <td>8517.0</td>\n",
       "      <td>14820.0</td>\n",
       "      <td>2326.0</td>\n",
       "    </tr>\n",
       "    <tr>\n",
       "      <th>Clontarf - Pebble Beach Carpark</th>\n",
       "      <td>70840.0</td>\n",
       "      <td>90898.0</td>\n",
       "      <td>66221.0</td>\n",
       "      <td>29141.0</td>\n",
       "      <td>61320.0</td>\n",
       "      <td>27134.0</td>\n",
       "      <td>29459.0</td>\n",
       "      <td>7637.0</td>\n",
       "    </tr>\n",
       "    <tr>\n",
       "      <th>Clontarf - Pebble Beach Carpark Cyclist IN</th>\n",
       "      <td>31859.0</td>\n",
       "      <td>31631.0</td>\n",
       "      <td>42558.0</td>\n",
       "      <td>13551.0</td>\n",
       "      <td>28676.0</td>\n",
       "      <td>14822.0</td>\n",
       "      <td>11782.0</td>\n",
       "      <td>3663.0</td>\n",
       "    </tr>\n",
       "    <tr>\n",
       "      <th>Clontarf - Pebble Beach Carpark Cyclist OUT</th>\n",
       "      <td>38981.0</td>\n",
       "      <td>59267.0</td>\n",
       "      <td>23663.0</td>\n",
       "      <td>15590.0</td>\n",
       "      <td>32644.0</td>\n",
       "      <td>12312.0</td>\n",
       "      <td>17677.0</td>\n",
       "      <td>3974.0</td>\n",
       "    </tr>\n",
       "    <tr>\n",
       "      <th>Drumcondra Cyclists 1</th>\n",
       "      <td>0.0</td>\n",
       "      <td>0.0</td>\n",
       "      <td>0.0</td>\n",
       "      <td>0.0</td>\n",
       "      <td>0.0</td>\n",
       "      <td>0.0</td>\n",
       "      <td>0.0</td>\n",
       "      <td>0.0</td>\n",
       "    </tr>\n",
       "    <tr>\n",
       "      <th>Drumcondra Cyclists 1 Cyclist IN</th>\n",
       "      <td>0.0</td>\n",
       "      <td>0.0</td>\n",
       "      <td>0.0</td>\n",
       "      <td>0.0</td>\n",
       "      <td>0.0</td>\n",
       "      <td>0.0</td>\n",
       "      <td>0.0</td>\n",
       "      <td>0.0</td>\n",
       "    </tr>\n",
       "    <tr>\n",
       "      <th>Drumcondra Cyclists 1 Cyclist OUT</th>\n",
       "      <td>0.0</td>\n",
       "      <td>0.0</td>\n",
       "      <td>0.0</td>\n",
       "      <td>0.0</td>\n",
       "      <td>0.0</td>\n",
       "      <td>0.0</td>\n",
       "      <td>0.0</td>\n",
       "      <td>0.0</td>\n",
       "    </tr>\n",
       "    <tr>\n",
       "      <th>Drumcondra Cyclists 2</th>\n",
       "      <td>7404.0</td>\n",
       "      <td>7398.0</td>\n",
       "      <td>30231.0</td>\n",
       "      <td>5657.0</td>\n",
       "      <td>2316.0</td>\n",
       "      <td>2349.0</td>\n",
       "      <td>3140.0</td>\n",
       "      <td>1996.0</td>\n",
       "    </tr>\n",
       "    <tr>\n",
       "      <th>Drumcondra Cyclists 2 Cyclist IN</th>\n",
       "      <td>7336.0</td>\n",
       "      <td>7298.0</td>\n",
       "      <td>30081.0</td>\n",
       "      <td>5594.0</td>\n",
       "      <td>2287.0</td>\n",
       "      <td>2314.0</td>\n",
       "      <td>3109.0</td>\n",
       "      <td>1971.0</td>\n",
       "    </tr>\n",
       "    <tr>\n",
       "      <th>Drumcondra Cyclists 2 Cyclist OUT</th>\n",
       "      <td>68.0</td>\n",
       "      <td>100.0</td>\n",
       "      <td>150.0</td>\n",
       "      <td>63.0</td>\n",
       "      <td>29.0</td>\n",
       "      <td>35.0</td>\n",
       "      <td>31.0</td>\n",
       "      <td>25.0</td>\n",
       "    </tr>\n",
       "    <tr>\n",
       "      <th>Griffith Avenue (Clare Rd Side)</th>\n",
       "      <td>10945.0</td>\n",
       "      <td>13128.0</td>\n",
       "      <td>10288.0</td>\n",
       "      <td>4862.0</td>\n",
       "      <td>3704.0</td>\n",
       "      <td>2353.0</td>\n",
       "      <td>1761.0</td>\n",
       "      <td>1221.0</td>\n",
       "    </tr>\n",
       "    <tr>\n",
       "      <th>Griffith Avenue (Clare Rd Side) Cyclist IN</th>\n",
       "      <td>10945.0</td>\n",
       "      <td>13128.0</td>\n",
       "      <td>10288.0</td>\n",
       "      <td>4862.0</td>\n",
       "      <td>3704.0</td>\n",
       "      <td>2353.0</td>\n",
       "      <td>1761.0</td>\n",
       "      <td>1221.0</td>\n",
       "    </tr>\n",
       "    <tr>\n",
       "      <th>Griffith Avenue (Clare Rd Side) Cyclist OUT</th>\n",
       "      <td>0.0</td>\n",
       "      <td>0.0</td>\n",
       "      <td>0.0</td>\n",
       "      <td>0.0</td>\n",
       "      <td>0.0</td>\n",
       "      <td>0.0</td>\n",
       "      <td>0.0</td>\n",
       "      <td>0.0</td>\n",
       "    </tr>\n",
       "    <tr>\n",
       "      <th>Griffith Avenue (Lane Side)</th>\n",
       "      <td>4155.0</td>\n",
       "      <td>5318.0</td>\n",
       "      <td>7044.0</td>\n",
       "      <td>1981.0</td>\n",
       "      <td>1782.0</td>\n",
       "      <td>836.0</td>\n",
       "      <td>879.0</td>\n",
       "      <td>466.0</td>\n",
       "    </tr>\n",
       "    <tr>\n",
       "      <th>Griffith Avenue (Lane Side) Cyclist IN</th>\n",
       "      <td>4155.0</td>\n",
       "      <td>5318.0</td>\n",
       "      <td>7044.0</td>\n",
       "      <td>1981.0</td>\n",
       "      <td>1782.0</td>\n",
       "      <td>836.0</td>\n",
       "      <td>879.0</td>\n",
       "      <td>466.0</td>\n",
       "    </tr>\n",
       "    <tr>\n",
       "      <th>Griffith Avenue (Lane Side) Cyclist OUT</th>\n",
       "      <td>0.0</td>\n",
       "      <td>0.0</td>\n",
       "      <td>0.0</td>\n",
       "      <td>0.0</td>\n",
       "      <td>0.0</td>\n",
       "      <td>0.0</td>\n",
       "      <td>0.0</td>\n",
       "      <td>0.0</td>\n",
       "    </tr>\n",
       "    <tr>\n",
       "      <th>Grove Road Totem</th>\n",
       "      <td>118874.0</td>\n",
       "      <td>205494.0</td>\n",
       "      <td>226216.0</td>\n",
       "      <td>80845.0</td>\n",
       "      <td>45534.0</td>\n",
       "      <td>35727.0</td>\n",
       "      <td>22853.0</td>\n",
       "      <td>26508.0</td>\n",
       "    </tr>\n",
       "    <tr>\n",
       "      <th>Grove Road Totem OUT</th>\n",
       "      <td>52828.0</td>\n",
       "      <td>124976.0</td>\n",
       "      <td>47574.0</td>\n",
       "      <td>48590.0</td>\n",
       "      <td>17800.0</td>\n",
       "      <td>17097.0</td>\n",
       "      <td>6892.0</td>\n",
       "      <td>15960.0</td>\n",
       "    </tr>\n",
       "    <tr>\n",
       "      <th>Grove Road Totem IN</th>\n",
       "      <td>66046.0</td>\n",
       "      <td>80518.0</td>\n",
       "      <td>178642.0</td>\n",
       "      <td>32255.0</td>\n",
       "      <td>27734.0</td>\n",
       "      <td>18630.0</td>\n",
       "      <td>15961.0</td>\n",
       "      <td>10548.0</td>\n",
       "    </tr>\n",
       "    <tr>\n",
       "      <th>North Strand Rd N/B</th>\n",
       "      <td>40352.0</td>\n",
       "      <td>92658.0</td>\n",
       "      <td>18508.0</td>\n",
       "      <td>31568.0</td>\n",
       "      <td>14840.0</td>\n",
       "      <td>12411.0</td>\n",
       "      <td>5273.0</td>\n",
       "      <td>11572.0</td>\n",
       "    </tr>\n",
       "    <tr>\n",
       "      <th>Richmond Street Cyclists 1</th>\n",
       "      <td>68159.0</td>\n",
       "      <td>126302.0</td>\n",
       "      <td>32552.0</td>\n",
       "      <td>57187.0</td>\n",
       "      <td>25622.0</td>\n",
       "      <td>27487.0</td>\n",
       "      <td>6412.0</td>\n",
       "      <td>20682.0</td>\n",
       "    </tr>\n",
       "    <tr>\n",
       "      <th>Richmond Street Cyclists 1 Cyclist IN</th>\n",
       "      <td>366.0</td>\n",
       "      <td>536.0</td>\n",
       "      <td>280.0</td>\n",
       "      <td>422.0</td>\n",
       "      <td>155.0</td>\n",
       "      <td>156.0</td>\n",
       "      <td>35.0</td>\n",
       "      <td>217.0</td>\n",
       "    </tr>\n",
       "    <tr>\n",
       "      <th>Richmond Street Cyclists 1 Cyclist OUT</th>\n",
       "      <td>67793.0</td>\n",
       "      <td>125766.0</td>\n",
       "      <td>32272.0</td>\n",
       "      <td>56765.0</td>\n",
       "      <td>25467.0</td>\n",
       "      <td>27331.0</td>\n",
       "      <td>6377.0</td>\n",
       "      <td>20465.0</td>\n",
       "    </tr>\n",
       "    <tr>\n",
       "      <th>Richmond Street Cyclists 2</th>\n",
       "      <td>84660.0</td>\n",
       "      <td>87684.0</td>\n",
       "      <td>91579.0</td>\n",
       "      <td>47992.0</td>\n",
       "      <td>36266.0</td>\n",
       "      <td>27130.0</td>\n",
       "      <td>12591.0</td>\n",
       "      <td>19162.0</td>\n",
       "    </tr>\n",
       "    <tr>\n",
       "      <th>Richmond Street Cyclists 2  Cyclist IN</th>\n",
       "      <td>385.0</td>\n",
       "      <td>383.0</td>\n",
       "      <td>272.0</td>\n",
       "      <td>345.0</td>\n",
       "      <td>174.0</td>\n",
       "      <td>134.0</td>\n",
       "      <td>46.0</td>\n",
       "      <td>170.0</td>\n",
       "    </tr>\n",
       "    <tr>\n",
       "      <th>Richmond Street Cyclists 2  Cyclist OUT</th>\n",
       "      <td>84275.0</td>\n",
       "      <td>87301.0</td>\n",
       "      <td>91307.0</td>\n",
       "      <td>47647.0</td>\n",
       "      <td>36092.0</td>\n",
       "      <td>26996.0</td>\n",
       "      <td>12545.0</td>\n",
       "      <td>18992.0</td>\n",
       "    </tr>\n",
       "  </tbody>\n",
       "</table>\n",
       "</div>"
      ],
      "text/plain": [
       "Clustering Category                          Weekday Daytime  \\\n",
       "Charleville Mall                                     16840.0   \n",
       "Charleville Mall Cyclist IN                           9099.0   \n",
       "Charleville Mall Cyclist OUT                          7741.0   \n",
       "Clontarf - James Larkin Rd                           56158.0   \n",
       "Clontarf - James Larkin Rd Cyclist IN                26512.0   \n",
       "Clontarf - James Larkin Rd Cyclist OUT               29646.0   \n",
       "Clontarf - Pebble Beach Carpark                      70840.0   \n",
       "Clontarf - Pebble Beach Carpark Cyclist IN           31859.0   \n",
       "Clontarf - Pebble Beach Carpark Cyclist OUT          38981.0   \n",
       "Drumcondra Cyclists 1                                    0.0   \n",
       "Drumcondra Cyclists 1 Cyclist IN                         0.0   \n",
       "Drumcondra Cyclists 1 Cyclist OUT                        0.0   \n",
       "Drumcondra Cyclists 2                                 7404.0   \n",
       "Drumcondra Cyclists 2 Cyclist IN                      7336.0   \n",
       "Drumcondra Cyclists 2 Cyclist OUT                       68.0   \n",
       "Griffith Avenue (Clare Rd Side)                      10945.0   \n",
       "Griffith Avenue (Clare Rd Side) Cyclist IN           10945.0   \n",
       "Griffith Avenue (Clare Rd Side) Cyclist OUT              0.0   \n",
       "Griffith Avenue (Lane Side)                           4155.0   \n",
       "Griffith Avenue (Lane Side) Cyclist IN                4155.0   \n",
       "Griffith Avenue (Lane Side) Cyclist OUT                  0.0   \n",
       "Grove Road Totem                                    118874.0   \n",
       "Grove Road Totem OUT                                 52828.0   \n",
       "Grove Road Totem IN                                  66046.0   \n",
       "North Strand Rd N/B                                  40352.0   \n",
       "Richmond Street Cyclists 1                           68159.0   \n",
       "Richmond Street Cyclists 1 Cyclist IN                  366.0   \n",
       "Richmond Street Cyclists 1 Cyclist OUT               67793.0   \n",
       "Richmond Street Cyclists 2                           84660.0   \n",
       "Richmond Street Cyclists 2  Cyclist IN                 385.0   \n",
       "Richmond Street Cyclists 2  Cyclist OUT              84275.0   \n",
       "\n",
       "Clustering Category                          Weekday Evening Rush-hour  \\\n",
       "Charleville Mall                                               28264.0   \n",
       "Charleville Mall Cyclist IN                                     9971.0   \n",
       "Charleville Mall Cyclist OUT                                   18293.0   \n",
       "Clontarf - James Larkin Rd                                     67638.0   \n",
       "Clontarf - James Larkin Rd Cyclist IN                          24782.0   \n",
       "Clontarf - James Larkin Rd Cyclist OUT                         42856.0   \n",
       "Clontarf - Pebble Beach Carpark                                90898.0   \n",
       "Clontarf - Pebble Beach Carpark Cyclist IN                     31631.0   \n",
       "Clontarf - Pebble Beach Carpark Cyclist OUT                    59267.0   \n",
       "Drumcondra Cyclists 1                                              0.0   \n",
       "Drumcondra Cyclists 1 Cyclist IN                                   0.0   \n",
       "Drumcondra Cyclists 1 Cyclist OUT                                  0.0   \n",
       "Drumcondra Cyclists 2                                           7398.0   \n",
       "Drumcondra Cyclists 2 Cyclist IN                                7298.0   \n",
       "Drumcondra Cyclists 2 Cyclist OUT                                100.0   \n",
       "Griffith Avenue (Clare Rd Side)                                13128.0   \n",
       "Griffith Avenue (Clare Rd Side) Cyclist IN                     13128.0   \n",
       "Griffith Avenue (Clare Rd Side) Cyclist OUT                        0.0   \n",
       "Griffith Avenue (Lane Side)                                     5318.0   \n",
       "Griffith Avenue (Lane Side) Cyclist IN                          5318.0   \n",
       "Griffith Avenue (Lane Side) Cyclist OUT                            0.0   \n",
       "Grove Road Totem                                              205494.0   \n",
       "Grove Road Totem OUT                                          124976.0   \n",
       "Grove Road Totem IN                                            80518.0   \n",
       "North Strand Rd N/B                                            92658.0   \n",
       "Richmond Street Cyclists 1                                    126302.0   \n",
       "Richmond Street Cyclists 1 Cyclist IN                            536.0   \n",
       "Richmond Street Cyclists 1 Cyclist OUT                        125766.0   \n",
       "Richmond Street Cyclists 2                                     87684.0   \n",
       "Richmond Street Cyclists 2  Cyclist IN                           383.0   \n",
       "Richmond Street Cyclists 2  Cyclist OUT                        87301.0   \n",
       "\n",
       "Clustering Category                          Weekday Morning Rush-hour  \\\n",
       "Charleville Mall                                               35030.0   \n",
       "Charleville Mall Cyclist IN                                    29944.0   \n",
       "Charleville Mall Cyclist OUT                                    5086.0   \n",
       "Clontarf - James Larkin Rd                                     54178.0   \n",
       "Clontarf - James Larkin Rd Cyclist IN                          35059.0   \n",
       "Clontarf - James Larkin Rd Cyclist OUT                         19119.0   \n",
       "Clontarf - Pebble Beach Carpark                                66221.0   \n",
       "Clontarf - Pebble Beach Carpark Cyclist IN                     42558.0   \n",
       "Clontarf - Pebble Beach Carpark Cyclist OUT                    23663.0   \n",
       "Drumcondra Cyclists 1                                              0.0   \n",
       "Drumcondra Cyclists 1 Cyclist IN                                   0.0   \n",
       "Drumcondra Cyclists 1 Cyclist OUT                                  0.0   \n",
       "Drumcondra Cyclists 2                                          30231.0   \n",
       "Drumcondra Cyclists 2 Cyclist IN                               30081.0   \n",
       "Drumcondra Cyclists 2 Cyclist OUT                                150.0   \n",
       "Griffith Avenue (Clare Rd Side)                                10288.0   \n",
       "Griffith Avenue (Clare Rd Side) Cyclist IN                     10288.0   \n",
       "Griffith Avenue (Clare Rd Side) Cyclist OUT                        0.0   \n",
       "Griffith Avenue (Lane Side)                                     7044.0   \n",
       "Griffith Avenue (Lane Side) Cyclist IN                          7044.0   \n",
       "Griffith Avenue (Lane Side) Cyclist OUT                            0.0   \n",
       "Grove Road Totem                                              226216.0   \n",
       "Grove Road Totem OUT                                           47574.0   \n",
       "Grove Road Totem IN                                           178642.0   \n",
       "North Strand Rd N/B                                            18508.0   \n",
       "Richmond Street Cyclists 1                                     32552.0   \n",
       "Richmond Street Cyclists 1 Cyclist IN                            280.0   \n",
       "Richmond Street Cyclists 1 Cyclist OUT                         32272.0   \n",
       "Richmond Street Cyclists 2                                     91579.0   \n",
       "Richmond Street Cyclists 2  Cyclist IN                           272.0   \n",
       "Richmond Street Cyclists 2  Cyclist OUT                        91307.0   \n",
       "\n",
       "Clustering Category                          Weekday Overnight  \\\n",
       "Charleville Mall                                        8427.0   \n",
       "Charleville Mall Cyclist IN                             3887.0   \n",
       "Charleville Mall Cyclist OUT                            4540.0   \n",
       "Clontarf - James Larkin Rd                             20257.0   \n",
       "Clontarf - James Larkin Rd Cyclist IN                  10453.0   \n",
       "Clontarf - James Larkin Rd Cyclist OUT                  9804.0   \n",
       "Clontarf - Pebble Beach Carpark                        29141.0   \n",
       "Clontarf - Pebble Beach Carpark Cyclist IN             13551.0   \n",
       "Clontarf - Pebble Beach Carpark Cyclist OUT            15590.0   \n",
       "Drumcondra Cyclists 1                                      0.0   \n",
       "Drumcondra Cyclists 1 Cyclist IN                           0.0   \n",
       "Drumcondra Cyclists 1 Cyclist OUT                          0.0   \n",
       "Drumcondra Cyclists 2                                   5657.0   \n",
       "Drumcondra Cyclists 2 Cyclist IN                        5594.0   \n",
       "Drumcondra Cyclists 2 Cyclist OUT                         63.0   \n",
       "Griffith Avenue (Clare Rd Side)                         4862.0   \n",
       "Griffith Avenue (Clare Rd Side) Cyclist IN              4862.0   \n",
       "Griffith Avenue (Clare Rd Side) Cyclist OUT                0.0   \n",
       "Griffith Avenue (Lane Side)                             1981.0   \n",
       "Griffith Avenue (Lane Side) Cyclist IN                  1981.0   \n",
       "Griffith Avenue (Lane Side) Cyclist OUT                    0.0   \n",
       "Grove Road Totem                                       80845.0   \n",
       "Grove Road Totem OUT                                   48590.0   \n",
       "Grove Road Totem IN                                    32255.0   \n",
       "North Strand Rd N/B                                    31568.0   \n",
       "Richmond Street Cyclists 1                             57187.0   \n",
       "Richmond Street Cyclists 1 Cyclist IN                    422.0   \n",
       "Richmond Street Cyclists 1 Cyclist OUT                 56765.0   \n",
       "Richmond Street Cyclists 2                             47992.0   \n",
       "Richmond Street Cyclists 2  Cyclist IN                   345.0   \n",
       "Richmond Street Cyclists 2  Cyclist OUT                47647.0   \n",
       "\n",
       "Clustering Category                          Weekend Daytime  \\\n",
       "Charleville Mall                                      6271.0   \n",
       "Charleville Mall Cyclist IN                           3641.0   \n",
       "Charleville Mall Cyclist OUT                          2630.0   \n",
       "Clontarf - James Larkin Rd                           47425.0   \n",
       "Clontarf - James Larkin Rd Cyclist IN                23529.0   \n",
       "Clontarf - James Larkin Rd Cyclist OUT               23896.0   \n",
       "Clontarf - Pebble Beach Carpark                      61320.0   \n",
       "Clontarf - Pebble Beach Carpark Cyclist IN           28676.0   \n",
       "Clontarf - Pebble Beach Carpark Cyclist OUT          32644.0   \n",
       "Drumcondra Cyclists 1                                    0.0   \n",
       "Drumcondra Cyclists 1 Cyclist IN                         0.0   \n",
       "Drumcondra Cyclists 1 Cyclist OUT                        0.0   \n",
       "Drumcondra Cyclists 2                                 2316.0   \n",
       "Drumcondra Cyclists 2 Cyclist IN                      2287.0   \n",
       "Drumcondra Cyclists 2 Cyclist OUT                       29.0   \n",
       "Griffith Avenue (Clare Rd Side)                       3704.0   \n",
       "Griffith Avenue (Clare Rd Side) Cyclist IN            3704.0   \n",
       "Griffith Avenue (Clare Rd Side) Cyclist OUT              0.0   \n",
       "Griffith Avenue (Lane Side)                           1782.0   \n",
       "Griffith Avenue (Lane Side) Cyclist IN                1782.0   \n",
       "Griffith Avenue (Lane Side) Cyclist OUT                  0.0   \n",
       "Grove Road Totem                                     45534.0   \n",
       "Grove Road Totem OUT                                 17800.0   \n",
       "Grove Road Totem IN                                  27734.0   \n",
       "North Strand Rd N/B                                  14840.0   \n",
       "Richmond Street Cyclists 1                           25622.0   \n",
       "Richmond Street Cyclists 1 Cyclist IN                  155.0   \n",
       "Richmond Street Cyclists 1 Cyclist OUT               25467.0   \n",
       "Richmond Street Cyclists 2                           36266.0   \n",
       "Richmond Street Cyclists 2  Cyclist IN                 174.0   \n",
       "Richmond Street Cyclists 2  Cyclist OUT              36092.0   \n",
       "\n",
       "Clustering Category                          Weekend Evening Rush-hour  \\\n",
       "Charleville Mall                                                4253.0   \n",
       "Charleville Mall Cyclist IN                                     2207.0   \n",
       "Charleville Mall Cyclist OUT                                    2046.0   \n",
       "Clontarf - James Larkin Rd                                     19179.0   \n",
       "Clontarf - James Larkin Rd Cyclist IN                          10662.0   \n",
       "Clontarf - James Larkin Rd Cyclist OUT                          8517.0   \n",
       "Clontarf - Pebble Beach Carpark                                27134.0   \n",
       "Clontarf - Pebble Beach Carpark Cyclist IN                     14822.0   \n",
       "Clontarf - Pebble Beach Carpark Cyclist OUT                    12312.0   \n",
       "Drumcondra Cyclists 1                                              0.0   \n",
       "Drumcondra Cyclists 1 Cyclist IN                                   0.0   \n",
       "Drumcondra Cyclists 1 Cyclist OUT                                  0.0   \n",
       "Drumcondra Cyclists 2                                           2349.0   \n",
       "Drumcondra Cyclists 2 Cyclist IN                                2314.0   \n",
       "Drumcondra Cyclists 2 Cyclist OUT                                 35.0   \n",
       "Griffith Avenue (Clare Rd Side)                                 2353.0   \n",
       "Griffith Avenue (Clare Rd Side) Cyclist IN                      2353.0   \n",
       "Griffith Avenue (Clare Rd Side) Cyclist OUT                        0.0   \n",
       "Griffith Avenue (Lane Side)                                      836.0   \n",
       "Griffith Avenue (Lane Side) Cyclist IN                           836.0   \n",
       "Griffith Avenue (Lane Side) Cyclist OUT                            0.0   \n",
       "Grove Road Totem                                               35727.0   \n",
       "Grove Road Totem OUT                                           17097.0   \n",
       "Grove Road Totem IN                                            18630.0   \n",
       "North Strand Rd N/B                                            12411.0   \n",
       "Richmond Street Cyclists 1                                     27487.0   \n",
       "Richmond Street Cyclists 1 Cyclist IN                            156.0   \n",
       "Richmond Street Cyclists 1 Cyclist OUT                         27331.0   \n",
       "Richmond Street Cyclists 2                                     27130.0   \n",
       "Richmond Street Cyclists 2  Cyclist IN                           134.0   \n",
       "Richmond Street Cyclists 2  Cyclist OUT                        26996.0   \n",
       "\n",
       "Clustering Category                          Weekend Morning Rush-hour  \\\n",
       "Charleville Mall                                                2884.0   \n",
       "Charleville Mall Cyclist IN                                     2097.0   \n",
       "Charleville Mall Cyclist OUT                                     787.0   \n",
       "Clontarf - James Larkin Rd                                     25913.0   \n",
       "Clontarf - James Larkin Rd Cyclist IN                          11093.0   \n",
       "Clontarf - James Larkin Rd Cyclist OUT                         14820.0   \n",
       "Clontarf - Pebble Beach Carpark                                29459.0   \n",
       "Clontarf - Pebble Beach Carpark Cyclist IN                     11782.0   \n",
       "Clontarf - Pebble Beach Carpark Cyclist OUT                    17677.0   \n",
       "Drumcondra Cyclists 1                                              0.0   \n",
       "Drumcondra Cyclists 1 Cyclist IN                                   0.0   \n",
       "Drumcondra Cyclists 1 Cyclist OUT                                  0.0   \n",
       "Drumcondra Cyclists 2                                           3140.0   \n",
       "Drumcondra Cyclists 2 Cyclist IN                                3109.0   \n",
       "Drumcondra Cyclists 2 Cyclist OUT                                 31.0   \n",
       "Griffith Avenue (Clare Rd Side)                                 1761.0   \n",
       "Griffith Avenue (Clare Rd Side) Cyclist IN                      1761.0   \n",
       "Griffith Avenue (Clare Rd Side) Cyclist OUT                        0.0   \n",
       "Griffith Avenue (Lane Side)                                      879.0   \n",
       "Griffith Avenue (Lane Side) Cyclist IN                           879.0   \n",
       "Griffith Avenue (Lane Side) Cyclist OUT                            0.0   \n",
       "Grove Road Totem                                               22853.0   \n",
       "Grove Road Totem OUT                                            6892.0   \n",
       "Grove Road Totem IN                                            15961.0   \n",
       "North Strand Rd N/B                                             5273.0   \n",
       "Richmond Street Cyclists 1                                      6412.0   \n",
       "Richmond Street Cyclists 1 Cyclist IN                             35.0   \n",
       "Richmond Street Cyclists 1 Cyclist OUT                          6377.0   \n",
       "Richmond Street Cyclists 2                                     12591.0   \n",
       "Richmond Street Cyclists 2  Cyclist IN                            46.0   \n",
       "Richmond Street Cyclists 2  Cyclist OUT                        12545.0   \n",
       "\n",
       "Clustering Category                          Weekend Overnight  \n",
       "Charleville Mall                                        2673.0  \n",
       "Charleville Mall Cyclist IN                             1335.0  \n",
       "Charleville Mall Cyclist OUT                            1338.0  \n",
       "Clontarf - James Larkin Rd                              5103.0  \n",
       "Clontarf - James Larkin Rd Cyclist IN                   2777.0  \n",
       "Clontarf - James Larkin Rd Cyclist OUT                  2326.0  \n",
       "Clontarf - Pebble Beach Carpark                         7637.0  \n",
       "Clontarf - Pebble Beach Carpark Cyclist IN              3663.0  \n",
       "Clontarf - Pebble Beach Carpark Cyclist OUT             3974.0  \n",
       "Drumcondra Cyclists 1                                      0.0  \n",
       "Drumcondra Cyclists 1 Cyclist IN                           0.0  \n",
       "Drumcondra Cyclists 1 Cyclist OUT                          0.0  \n",
       "Drumcondra Cyclists 2                                   1996.0  \n",
       "Drumcondra Cyclists 2 Cyclist IN                        1971.0  \n",
       "Drumcondra Cyclists 2 Cyclist OUT                         25.0  \n",
       "Griffith Avenue (Clare Rd Side)                         1221.0  \n",
       "Griffith Avenue (Clare Rd Side) Cyclist IN              1221.0  \n",
       "Griffith Avenue (Clare Rd Side) Cyclist OUT                0.0  \n",
       "Griffith Avenue (Lane Side)                              466.0  \n",
       "Griffith Avenue (Lane Side) Cyclist IN                   466.0  \n",
       "Griffith Avenue (Lane Side) Cyclist OUT                    0.0  \n",
       "Grove Road Totem                                       26508.0  \n",
       "Grove Road Totem OUT                                   15960.0  \n",
       "Grove Road Totem IN                                    10548.0  \n",
       "North Strand Rd N/B                                    11572.0  \n",
       "Richmond Street Cyclists 1                             20682.0  \n",
       "Richmond Street Cyclists 1 Cyclist IN                    217.0  \n",
       "Richmond Street Cyclists 1 Cyclist OUT                 20465.0  \n",
       "Richmond Street Cyclists 2                             19162.0  \n",
       "Richmond Street Cyclists 2  Cyclist IN                   170.0  \n",
       "Richmond Street Cyclists 2  Cyclist OUT                18992.0  "
      ]
     },
     "execution_count": 55,
     "metadata": {},
     "output_type": "execute_result"
    }
   ],
   "source": [
    "test = cycle_counts_df.groupby(['Clustering Category'], as_index=False)['Charleville Mall', 'Charleville Mall Cyclist IN', 'Charleville Mall Cyclist OUT', 'Clontarf - James Larkin Rd','Clontarf - James Larkin Rd Cyclist IN','Clontarf - James Larkin Rd Cyclist OUT','Clontarf - Pebble Beach Carpark','Clontarf - Pebble Beach Carpark Cyclist IN','Clontarf - Pebble Beach Carpark Cyclist OUT', 'Drumcondra Cyclists 1','Drumcondra Cyclists 1 Cyclist IN', 'Drumcondra Cyclists 1 Cyclist OUT','Drumcondra Cyclists 2', 'Drumcondra Cyclists 2 Cyclist IN','Drumcondra Cyclists 2 Cyclist OUT', 'Griffith Avenue (Clare Rd Side)','Griffith Avenue (Clare Rd Side) Cyclist IN','Griffith Avenue (Clare Rd Side) Cyclist OUT','Griffith Avenue (Lane Side)', 'Griffith Avenue (Lane Side) Cyclist IN','Griffith Avenue (Lane Side) Cyclist OUT', 'Grove Road Totem','Grove Road Totem OUT', 'Grove Road Totem IN', 'North Strand Rd N/B', 'Richmond Street Cyclists 1','Richmond Street Cyclists 1 Cyclist IN','Richmond Street Cyclists 1 Cyclist OUT', 'Richmond Street Cyclists 2 ','Richmond Street Cyclists 2  Cyclist IN','Richmond Street Cyclists 2  Cyclist OUT'  ].sum()\n",
    "test.T.head(25)\n",
    "Cycling_cluster = test.set_index('Clustering Category').transpose()\n",
    "Cycling_cluster.rename({'Clustering Category' : 'Road'})\n"
   ]
  },
  {
   "cell_type": "code",
   "execution_count": 56,
   "id": "e434e9ea",
   "metadata": {},
   "outputs": [
    {
     "data": {
      "image/png": "[encoded data removed]",
      "text/plain": [
       "<Figure size 720x504 with 1 Axes>"
      ]
     },
     "metadata": {
      "needs_background": "light"
     },
     "output_type": "display_data"
    }
   ],
   "source": [
    "distortions = []\n",
    "K = range(1,10)\n",
    "X = Cycling_cluster\n",
    "for k in K:\n",
    "    kmeanModel = KMeans(n_clusters=k)\n",
    "    kmeanModel.fit(X)\n",
    "    distortions.append(kmeanModel.inertia_)\n",
    "    \n",
    "plt.figure(figsize=(10,7))\n",
    "plt.plot(K, distortions, 'bx-')\n",
    "plt.xlabel('k')\n",
    "plt.ylabel('Distortion')\n",
    "plt.title('The Elbow Method showing the optimal k')\n",
    "plt.show()"
   ]
  },
  {
   "cell_type": "code",
   "execution_count": 57,
   "id": "7b5518b1",
   "metadata": {},
   "outputs": [],
   "source": [
    "from sklearn.cluster import KMeans\n",
    "km = KMeans(n_clusters = 3)\n",
    "km.fit(Cycling_cluster)\n",
    "clusters = km.predict(Cycling_cluster)"
   ]
  },
  {
   "cell_type": "code",
   "execution_count": 58,
   "id": "75814c53",
   "metadata": {},
   "outputs": [
    {
     "data": {
      "text/plain": [
       "(31, 8)"
      ]
     },
     "execution_count": 58,
     "metadata": {},
     "output_type": "execute_result"
    }
   ],
   "source": [
    "clusters.size\n",
    "Cycling_cluster.shape"
   ]
  },
  {
   "cell_type": "markdown",
   "id": "66c98dd9",
   "metadata": {},
   "source": [
    "Now add these clusters into the original dataframe"
   ]
  },
  {
   "cell_type": "code",
   "execution_count": 59,
   "id": "42c71a35",
   "metadata": {},
   "outputs": [],
   "source": [
    "Cycling_cluster['Cluster ID'] = clusters"
   ]
  },
  {
   "cell_type": "code",
   "execution_count": 65,
   "id": "5eaae503",
   "metadata": {},
   "outputs": [],
   "source": [
    "Cycling_cluster['road'] = Cycling_cluster.index"
   ]
  },
  {
   "cell_type": "code",
   "execution_count": 67,
   "id": "ce71b0c3",
   "metadata": {},
   "outputs": [],
   "source": [
    "Output = Cycling_cluster[['road', 'Cluster ID']]"
   ]
  },
  {
   "cell_type": "code",
   "execution_count": 71,
   "id": "71eacd52",
   "metadata": {},
   "outputs": [
    {
     "name": "stderr",
     "output_type": "stream",
     "text": [
      "C:\\Users\\faela\\AppData\\Local\\Temp/ipykernel_13368/233311434.py:1: SettingWithCopyWarning: \n",
      "A value is trying to be set on a copy of a slice from a DataFrame\n",
      "\n",
      "See the caveats in the documentation: https://pandas.pydata.org/pandas-docs/stable/user_guide/indexing.html#returning-a-view-versus-a-copy\n",
      "  Output.drop_duplicates(keep = 'first', inplace = True)\n"
     ]
    }
   ],
   "source": [
    "Output.drop_duplicates(keep = 'first', inplace = True)"
   ]
  },
  {
   "cell_type": "code",
   "execution_count": 73,
   "id": "61630fc2",
   "metadata": {},
   "outputs": [
    {
     "data": {
      "text/html": [
       "<div>\n",
       "<style scoped>\n",
       "    .dataframe tbody tr th:only-of-type {\n",
       "        vertical-align: middle;\n",
       "    }\n",
       "\n",
       "    .dataframe tbody tr th {\n",
       "        vertical-align: top;\n",
       "    }\n",
       "\n",
       "    .dataframe thead th {\n",
       "        text-align: right;\n",
       "    }\n",
       "</style>\n",
       "<table border=\"1\" class=\"dataframe\">\n",
       "  <thead>\n",
       "    <tr style=\"text-align: right;\">\n",
       "      <th>Clustering Category</th>\n",
       "      <th>road</th>\n",
       "      <th>Cluster ID</th>\n",
       "    </tr>\n",
       "  </thead>\n",
       "  <tbody>\n",
       "    <tr>\n",
       "      <th>Charleville Mall</th>\n",
       "      <td>Charleville Mall</td>\n",
       "      <td>1</td>\n",
       "    </tr>\n",
       "    <tr>\n",
       "      <th>Charleville Mall Cyclist IN</th>\n",
       "      <td>Charleville Mall Cyclist IN</td>\n",
       "      <td>1</td>\n",
       "    </tr>\n",
       "    <tr>\n",
       "      <th>Charleville Mall Cyclist OUT</th>\n",
       "      <td>Charleville Mall Cyclist OUT</td>\n",
       "      <td>1</td>\n",
       "    </tr>\n",
       "    <tr>\n",
       "      <th>Clontarf - James Larkin Rd</th>\n",
       "      <td>Clontarf - James Larkin Rd</td>\n",
       "      <td>0</td>\n",
       "    </tr>\n",
       "    <tr>\n",
       "      <th>Clontarf - James Larkin Rd Cyclist IN</th>\n",
       "      <td>Clontarf - James Larkin Rd Cyclist IN</td>\n",
       "      <td>1</td>\n",
       "    </tr>\n",
       "    <tr>\n",
       "      <th>Clontarf - James Larkin Rd Cyclist OUT</th>\n",
       "      <td>Clontarf - James Larkin Rd Cyclist OUT</td>\n",
       "      <td>1</td>\n",
       "    </tr>\n",
       "    <tr>\n",
       "      <th>Clontarf - Pebble Beach Carpark</th>\n",
       "      <td>Clontarf - Pebble Beach Carpark</td>\n",
       "      <td>0</td>\n",
       "    </tr>\n",
       "    <tr>\n",
       "      <th>Clontarf - Pebble Beach Carpark Cyclist IN</th>\n",
       "      <td>Clontarf - Pebble Beach Carpark Cyclist IN</td>\n",
       "      <td>1</td>\n",
       "    </tr>\n",
       "    <tr>\n",
       "      <th>Clontarf - Pebble Beach Carpark Cyclist OUT</th>\n",
       "      <td>Clontarf - Pebble Beach Carpark Cyclist OUT</td>\n",
       "      <td>0</td>\n",
       "    </tr>\n",
       "    <tr>\n",
       "      <th>Drumcondra Cyclists 1</th>\n",
       "      <td>Drumcondra Cyclists 1</td>\n",
       "      <td>1</td>\n",
       "    </tr>\n",
       "    <tr>\n",
       "      <th>Drumcondra Cyclists 1 Cyclist IN</th>\n",
       "      <td>Drumcondra Cyclists 1 Cyclist IN</td>\n",
       "      <td>1</td>\n",
       "    </tr>\n",
       "    <tr>\n",
       "      <th>Drumcondra Cyclists 1 Cyclist OUT</th>\n",
       "      <td>Drumcondra Cyclists 1 Cyclist OUT</td>\n",
       "      <td>1</td>\n",
       "    </tr>\n",
       "    <tr>\n",
       "      <th>Drumcondra Cyclists 2</th>\n",
       "      <td>Drumcondra Cyclists 2</td>\n",
       "      <td>1</td>\n",
       "    </tr>\n",
       "    <tr>\n",
       "      <th>Drumcondra Cyclists 2 Cyclist IN</th>\n",
       "      <td>Drumcondra Cyclists 2 Cyclist IN</td>\n",
       "      <td>1</td>\n",
       "    </tr>\n",
       "    <tr>\n",
       "      <th>Drumcondra Cyclists 2 Cyclist OUT</th>\n",
       "      <td>Drumcondra Cyclists 2 Cyclist OUT</td>\n",
       "      <td>1</td>\n",
       "    </tr>\n",
       "    <tr>\n",
       "      <th>Griffith Avenue (Clare Rd Side)</th>\n",
       "      <td>Griffith Avenue (Clare Rd Side)</td>\n",
       "      <td>1</td>\n",
       "    </tr>\n",
       "    <tr>\n",
       "      <th>Griffith Avenue (Clare Rd Side) Cyclist IN</th>\n",
       "      <td>Griffith Avenue (Clare Rd Side) Cyclist IN</td>\n",
       "      <td>1</td>\n",
       "    </tr>\n",
       "    <tr>\n",
       "      <th>Griffith Avenue (Clare Rd Side) Cyclist OUT</th>\n",
       "      <td>Griffith Avenue (Clare Rd Side) Cyclist OUT</td>\n",
       "      <td>1</td>\n",
       "    </tr>\n",
       "    <tr>\n",
       "      <th>Griffith Avenue (Lane Side)</th>\n",
       "      <td>Griffith Avenue (Lane Side)</td>\n",
       "      <td>1</td>\n",
       "    </tr>\n",
       "    <tr>\n",
       "      <th>Griffith Avenue (Lane Side) Cyclist IN</th>\n",
       "      <td>Griffith Avenue (Lane Side) Cyclist IN</td>\n",
       "      <td>1</td>\n",
       "    </tr>\n",
       "    <tr>\n",
       "      <th>Griffith Avenue (Lane Side) Cyclist OUT</th>\n",
       "      <td>Griffith Avenue (Lane Side) Cyclist OUT</td>\n",
       "      <td>1</td>\n",
       "    </tr>\n",
       "    <tr>\n",
       "      <th>Grove Road Totem</th>\n",
       "      <td>Grove Road Totem</td>\n",
       "      <td>2</td>\n",
       "    </tr>\n",
       "    <tr>\n",
       "      <th>Grove Road Totem OUT</th>\n",
       "      <td>Grove Road Totem OUT</td>\n",
       "      <td>0</td>\n",
       "    </tr>\n",
       "    <tr>\n",
       "      <th>Grove Road Totem IN</th>\n",
       "      <td>Grove Road Totem IN</td>\n",
       "      <td>2</td>\n",
       "    </tr>\n",
       "    <tr>\n",
       "      <th>North Strand Rd N/B</th>\n",
       "      <td>North Strand Rd N/B</td>\n",
       "      <td>0</td>\n",
       "    </tr>\n",
       "  </tbody>\n",
       "</table>\n",
       "</div>"
      ],
      "text/plain": [
       "Clustering Category                                                                 road  \\\n",
       "Charleville Mall                                                        Charleville Mall   \n",
       "Charleville Mall Cyclist IN                                  Charleville Mall Cyclist IN   \n",
       "Charleville Mall Cyclist OUT                                Charleville Mall Cyclist OUT   \n",
       "Clontarf - James Larkin Rd                                    Clontarf - James Larkin Rd   \n",
       "Clontarf - James Larkin Rd Cyclist IN              Clontarf - James Larkin Rd Cyclist IN   \n",
       "Clontarf - James Larkin Rd Cyclist OUT            Clontarf - James Larkin Rd Cyclist OUT   \n",
       "Clontarf - Pebble Beach Carpark                          Clontarf - Pebble Beach Carpark   \n",
       "Clontarf - Pebble Beach Carpark Cyclist IN    Clontarf - Pebble Beach Carpark Cyclist IN   \n",
       "Clontarf - Pebble Beach Carpark Cyclist OUT  Clontarf - Pebble Beach Carpark Cyclist OUT   \n",
       "Drumcondra Cyclists 1                                              Drumcondra Cyclists 1   \n",
       "Drumcondra Cyclists 1 Cyclist IN                        Drumcondra Cyclists 1 Cyclist IN   \n",
       "Drumcondra Cyclists 1 Cyclist OUT                      Drumcondra Cyclists 1 Cyclist OUT   \n",
       "Drumcondra Cyclists 2                                              Drumcondra Cyclists 2   \n",
       "Drumcondra Cyclists 2 Cyclist IN                        Drumcondra Cyclists 2 Cyclist IN   \n",
       "Drumcondra Cyclists 2 Cyclist OUT                      Drumcondra Cyclists 2 Cyclist OUT   \n",
       "Griffith Avenue (Clare Rd Side)                          Griffith Avenue (Clare Rd Side)   \n",
       "Griffith Avenue (Clare Rd Side) Cyclist IN    Griffith Avenue (Clare Rd Side) Cyclist IN   \n",
       "Griffith Avenue (Clare Rd Side) Cyclist OUT  Griffith Avenue (Clare Rd Side) Cyclist OUT   \n",
       "Griffith Avenue (Lane Side)                                  Griffith Avenue (Lane Side)   \n",
       "Griffith Avenue (Lane Side) Cyclist IN            Griffith Avenue (Lane Side) Cyclist IN   \n",
       "Griffith Avenue (Lane Side) Cyclist OUT          Griffith Avenue (Lane Side) Cyclist OUT   \n",
       "Grove Road Totem                                                        Grove Road Totem   \n",
       "Grove Road Totem OUT                                                Grove Road Totem OUT   \n",
       "Grove Road Totem IN                                                  Grove Road Totem IN   \n",
       "North Strand Rd N/B                                                  North Strand Rd N/B   \n",
       "\n",
       "Clustering Category                          Cluster ID  \n",
       "Charleville Mall                                      1  \n",
       "Charleville Mall Cyclist IN                           1  \n",
       "Charleville Mall Cyclist OUT                          1  \n",
       "Clontarf - James Larkin Rd                            0  \n",
       "Clontarf - James Larkin Rd Cyclist IN                 1  \n",
       "Clontarf - James Larkin Rd Cyclist OUT                1  \n",
       "Clontarf - Pebble Beach Carpark                       0  \n",
       "Clontarf - Pebble Beach Carpark Cyclist IN            1  \n",
       "Clontarf - Pebble Beach Carpark Cyclist OUT           0  \n",
       "Drumcondra Cyclists 1                                 1  \n",
       "Drumcondra Cyclists 1 Cyclist IN                      1  \n",
       "Drumcondra Cyclists 1 Cyclist OUT                     1  \n",
       "Drumcondra Cyclists 2                                 1  \n",
       "Drumcondra Cyclists 2 Cyclist IN                      1  \n",
       "Drumcondra Cyclists 2 Cyclist OUT                     1  \n",
       "Griffith Avenue (Clare Rd Side)                       1  \n",
       "Griffith Avenue (Clare Rd Side) Cyclist IN            1  \n",
       "Griffith Avenue (Clare Rd Side) Cyclist OUT           1  \n",
       "Griffith Avenue (Lane Side)                           1  \n",
       "Griffith Avenue (Lane Side) Cyclist IN                1  \n",
       "Griffith Avenue (Lane Side) Cyclist OUT               1  \n",
       "Grove Road Totem                                      2  \n",
       "Grove Road Totem OUT                                  0  \n",
       "Grove Road Totem IN                                   2  \n",
       "North Strand Rd N/B                                   0  "
      ]
     },
     "execution_count": 73,
     "metadata": {},
     "output_type": "execute_result"
    }
   ],
   "source": [
    "Output.head(25)\n"
   ]
  },
  {
   "cell_type": "code",
   "execution_count": 74,
   "id": "147fedb5",
   "metadata": {},
   "outputs": [
    {
     "ename": "KeyError",
     "evalue": "'road'",
     "output_type": "error",
     "traceback": [
      "\u001b[1;31m---------------------------------------------------------------------------\u001b[0m",
      "\u001b[1;31mKeyError\u001b[0m                                  Traceback (most recent call last)",
      "\u001b[1;32m~\\AppData\\Local\\Temp/ipykernel_13368/1892304177.py\u001b[0m in \u001b[0;36m<module>\u001b[1;34m\u001b[0m\n\u001b[1;32m----> 1\u001b[1;33m \u001b[0mmerge\u001b[0m \u001b[1;33m=\u001b[0m \u001b[0mpd\u001b[0m\u001b[1;33m.\u001b[0m\u001b[0mmerge\u001b[0m\u001b[1;33m(\u001b[0m\u001b[0mcycle_counts_df\u001b[0m\u001b[1;33m,\u001b[0m \u001b[0mOutput\u001b[0m\u001b[1;33m,\u001b[0m \u001b[0mon\u001b[0m \u001b[1;33m=\u001b[0m \u001b[1;34m'road'\u001b[0m\u001b[1;33m)\u001b[0m\u001b[1;33m\u001b[0m\u001b[1;33m\u001b[0m\u001b[0m\n\u001b[0m",
      "\u001b[1;32m~\\anaconda3\\lib\\site-packages\\pandas\\core\\reshape\\merge.py\u001b[0m in \u001b[0;36mmerge\u001b[1;34m(left, right, how, on, left_on, right_on, left_index, right_index, sort, suffixes, copy, indicator, validate)\u001b[0m\n\u001b[0;32m    105\u001b[0m     \u001b[0mvalidate\u001b[0m\u001b[1;33m:\u001b[0m \u001b[0mstr\u001b[0m \u001b[1;33m|\u001b[0m \u001b[1;32mNone\u001b[0m \u001b[1;33m=\u001b[0m \u001b[1;32mNone\u001b[0m\u001b[1;33m,\u001b[0m\u001b[1;33m\u001b[0m\u001b[1;33m\u001b[0m\u001b[0m\n\u001b[0;32m    106\u001b[0m ) -> DataFrame:\n\u001b[1;32m--> 107\u001b[1;33m     op = _MergeOperation(\n\u001b[0m\u001b[0;32m    108\u001b[0m         \u001b[0mleft\u001b[0m\u001b[1;33m,\u001b[0m\u001b[1;33m\u001b[0m\u001b[1;33m\u001b[0m\u001b[0m\n\u001b[0;32m    109\u001b[0m         \u001b[0mright\u001b[0m\u001b[1;33m,\u001b[0m\u001b[1;33m\u001b[0m\u001b[1;33m\u001b[0m\u001b[0m\n",
      "\u001b[1;32m~\\anaconda3\\lib\\site-packages\\pandas\\core\\reshape\\merge.py\u001b[0m in \u001b[0;36m__init__\u001b[1;34m(self, left, right, how, on, left_on, right_on, axis, left_index, right_index, sort, suffixes, copy, indicator, validate)\u001b[0m\n\u001b[0;32m    698\u001b[0m             \u001b[0mself\u001b[0m\u001b[1;33m.\u001b[0m\u001b[0mright_join_keys\u001b[0m\u001b[1;33m,\u001b[0m\u001b[1;33m\u001b[0m\u001b[1;33m\u001b[0m\u001b[0m\n\u001b[0;32m    699\u001b[0m             \u001b[0mself\u001b[0m\u001b[1;33m.\u001b[0m\u001b[0mjoin_names\u001b[0m\u001b[1;33m,\u001b[0m\u001b[1;33m\u001b[0m\u001b[1;33m\u001b[0m\u001b[0m\n\u001b[1;32m--> 700\u001b[1;33m         ) = self._get_merge_keys()\n\u001b[0m\u001b[0;32m    701\u001b[0m \u001b[1;33m\u001b[0m\u001b[0m\n\u001b[0;32m    702\u001b[0m         \u001b[1;31m# validate the merge keys dtypes. We may need to coerce\u001b[0m\u001b[1;33m\u001b[0m\u001b[1;33m\u001b[0m\u001b[1;33m\u001b[0m\u001b[0m\n",
      "\u001b[1;32m~\\anaconda3\\lib\\site-packages\\pandas\\core\\reshape\\merge.py\u001b[0m in \u001b[0;36m_get_merge_keys\u001b[1;34m(self)\u001b[0m\n\u001b[0;32m   1108\u001b[0m                         \u001b[0mright_keys\u001b[0m\u001b[1;33m.\u001b[0m\u001b[0mappend\u001b[0m\u001b[1;33m(\u001b[0m\u001b[0mrk\u001b[0m\u001b[1;33m)\u001b[0m\u001b[1;33m\u001b[0m\u001b[1;33m\u001b[0m\u001b[0m\n\u001b[0;32m   1109\u001b[0m                     \u001b[1;32mif\u001b[0m \u001b[0mlk\u001b[0m \u001b[1;32mis\u001b[0m \u001b[1;32mnot\u001b[0m \u001b[1;32mNone\u001b[0m\u001b[1;33m:\u001b[0m\u001b[1;33m\u001b[0m\u001b[1;33m\u001b[0m\u001b[0m\n\u001b[1;32m-> 1110\u001b[1;33m                         \u001b[0mleft_keys\u001b[0m\u001b[1;33m.\u001b[0m\u001b[0mappend\u001b[0m\u001b[1;33m(\u001b[0m\u001b[0mleft\u001b[0m\u001b[1;33m.\u001b[0m\u001b[0m_get_label_or_level_values\u001b[0m\u001b[1;33m(\u001b[0m\u001b[0mlk\u001b[0m\u001b[1;33m)\u001b[0m\u001b[1;33m)\u001b[0m\u001b[1;33m\u001b[0m\u001b[1;33m\u001b[0m\u001b[0m\n\u001b[0m\u001b[0;32m   1111\u001b[0m                         \u001b[0mjoin_names\u001b[0m\u001b[1;33m.\u001b[0m\u001b[0mappend\u001b[0m\u001b[1;33m(\u001b[0m\u001b[0mlk\u001b[0m\u001b[1;33m)\u001b[0m\u001b[1;33m\u001b[0m\u001b[1;33m\u001b[0m\u001b[0m\n\u001b[0;32m   1112\u001b[0m                     \u001b[1;32melse\u001b[0m\u001b[1;33m:\u001b[0m\u001b[1;33m\u001b[0m\u001b[1;33m\u001b[0m\u001b[0m\n",
      "\u001b[1;32m~\\anaconda3\\lib\\site-packages\\pandas\\core\\generic.py\u001b[0m in \u001b[0;36m_get_label_or_level_values\u001b[1;34m(self, key, axis)\u001b[0m\n\u001b[0;32m   1846\u001b[0m             \u001b[0mvalues\u001b[0m \u001b[1;33m=\u001b[0m \u001b[0mself\u001b[0m\u001b[1;33m.\u001b[0m\u001b[0maxes\u001b[0m\u001b[1;33m[\u001b[0m\u001b[0maxis\u001b[0m\u001b[1;33m]\u001b[0m\u001b[1;33m.\u001b[0m\u001b[0mget_level_values\u001b[0m\u001b[1;33m(\u001b[0m\u001b[0mkey\u001b[0m\u001b[1;33m)\u001b[0m\u001b[1;33m.\u001b[0m\u001b[0m_values\u001b[0m\u001b[1;33m\u001b[0m\u001b[1;33m\u001b[0m\u001b[0m\n\u001b[0;32m   1847\u001b[0m         \u001b[1;32melse\u001b[0m\u001b[1;33m:\u001b[0m\u001b[1;33m\u001b[0m\u001b[1;33m\u001b[0m\u001b[0m\n\u001b[1;32m-> 1848\u001b[1;33m             \u001b[1;32mraise\u001b[0m \u001b[0mKeyError\u001b[0m\u001b[1;33m(\u001b[0m\u001b[0mkey\u001b[0m\u001b[1;33m)\u001b[0m\u001b[1;33m\u001b[0m\u001b[1;33m\u001b[0m\u001b[0m\n\u001b[0m\u001b[0;32m   1849\u001b[0m \u001b[1;33m\u001b[0m\u001b[0m\n\u001b[0;32m   1850\u001b[0m         \u001b[1;31m# Check for duplicates\u001b[0m\u001b[1;33m\u001b[0m\u001b[1;33m\u001b[0m\u001b[1;33m\u001b[0m\u001b[0m\n",
      "\u001b[1;31mKeyError\u001b[0m: 'road'"
     ]
    }
   ],
   "source": [
    "plt.scatter"
   ]
  },
  {
   "cell_type": "code",
   "execution_count": null,
   "id": "37ca18bd",
   "metadata": {},
   "outputs": [],
   "source": []
  },
  {
   "cell_type": "code",
   "execution_count": null,
   "id": "79f39c76",
   "metadata": {},
   "outputs": [],
   "source": []
  },
  {
   "cell_type": "code",
   "execution_count": null,
   "id": "71915d6a",
   "metadata": {},
   "outputs": [],
   "source": []
  },
  {
   "cell_type": "markdown",
   "id": "510265af",
   "metadata": {},
   "source": [
    "# New Beginning"
   ]
  },
  {
   "cell_type": "markdown",
   "id": "8d717a33",
   "metadata": {},
   "source": [
    "### Plotting counter locations and stand locations"
   ]
  },
  {
   "cell_type": "code",
   "execution_count": 216,
   "id": "770fdb8e",
   "metadata": {},
   "outputs": [
    {
     "name": "stdout",
     "output_type": "stream",
     "text": [
      "<class 'pandas.core.frame.DataFrame'>\n",
      "RangeIndex: 937 entries, 0 to 936\n",
      "Data columns (total 7 columns):\n",
      " #   Column          Non-Null Count  Dtype  \n",
      "---  ------          --------------  -----  \n",
      " 0   type_stands     937 non-null    object \n",
      " 1   X               688 non-null    float64\n",
      " 2   Y               688 non-null    object \n",
      " 3   Easting         937 non-null    float64\n",
      " 4   Northing        937 non-null    float64\n",
      " 5   location_stand  890 non-null    object \n",
      " 6   no_stands       888 non-null    float64\n",
      "dtypes: float64(4), object(3)\n",
      "memory usage: 51.4+ KB\n",
      "None\n"
     ]
    },
    {
     "data": {
      "text/html": [
       "<div>\n",
       "<style scoped>\n",
       "    .dataframe tbody tr th:only-of-type {\n",
       "        vertical-align: middle;\n",
       "    }\n",
       "\n",
       "    .dataframe tbody tr th {\n",
       "        vertical-align: top;\n",
       "    }\n",
       "\n",
       "    .dataframe thead th {\n",
       "        text-align: right;\n",
       "    }\n",
       "</style>\n",
       "<table border=\"1\" class=\"dataframe\">\n",
       "  <thead>\n",
       "    <tr style=\"text-align: right;\">\n",
       "      <th></th>\n",
       "      <th>type_stands</th>\n",
       "      <th>X</th>\n",
       "      <th>Y</th>\n",
       "      <th>Easting</th>\n",
       "      <th>Northing</th>\n",
       "      <th>location_stand</th>\n",
       "      <th>no_stands</th>\n",
       "    </tr>\n",
       "  </thead>\n",
       "  <tbody>\n",
       "    <tr>\n",
       "      <th>0</th>\n",
       "      <td>Sheffield Stand</td>\n",
       "      <td>-6.227261</td>\n",
       "      <td>53.34779261</td>\n",
       "      <td>318106.414</td>\n",
       "      <td>234502.185</td>\n",
       "      <td>East wall road outside the O2</td>\n",
       "      <td>4.0</td>\n",
       "    </tr>\n",
       "    <tr>\n",
       "      <th>1</th>\n",
       "      <td>Sheffield Stand</td>\n",
       "      <td>-6.265139</td>\n",
       "      <td>53.33424783</td>\n",
       "      <td>315620.753</td>\n",
       "      <td>232932.916</td>\n",
       "      <td>Camden street lower, outside centra shop</td>\n",
       "      <td>1.0</td>\n",
       "    </tr>\n",
       "    <tr>\n",
       "      <th>2</th>\n",
       "      <td>Sheffield Stand</td>\n",
       "      <td>-6.249766</td>\n",
       "      <td>53.34494805</td>\n",
       "      <td>316615.570</td>\n",
       "      <td>234148.652</td>\n",
       "      <td>Marks lane</td>\n",
       "      <td>2.0</td>\n",
       "    </tr>\n",
       "    <tr>\n",
       "      <th>3</th>\n",
       "      <td>Sheffield Stand</td>\n",
       "      <td>-6.251052</td>\n",
       "      <td>53.34851312</td>\n",
       "      <td>316520.200</td>\n",
       "      <td>234543.281</td>\n",
       "      <td>Custom House Quay, outside AIB International C...</td>\n",
       "      <td>1.0</td>\n",
       "    </tr>\n",
       "    <tr>\n",
       "      <th>4</th>\n",
       "      <td>Sheffield Stand</td>\n",
       "      <td>-6.242273</td>\n",
       "      <td>53.34296483</td>\n",
       "      <td>317119.980</td>\n",
       "      <td>233940.217</td>\n",
       "      <td>Pearce street outside garden area</td>\n",
       "      <td>3.0</td>\n",
       "    </tr>\n",
       "    <tr>\n",
       "      <th>5</th>\n",
       "      <td>Sheffield Stand</td>\n",
       "      <td>-6.262081</td>\n",
       "      <td>53.34817688</td>\n",
       "      <td>315786.687</td>\n",
       "      <td>234487.924</td>\n",
       "      <td>Middle abbey street, outside arnotts carpark</td>\n",
       "      <td>2.0</td>\n",
       "    </tr>\n",
       "    <tr>\n",
       "      <th>6</th>\n",
       "      <td>Sheffield Stand</td>\n",
       "      <td>-6.251764</td>\n",
       "      <td>53.35182974</td>\n",
       "      <td>316463.739</td>\n",
       "      <td>234911.200</td>\n",
       "      <td>Foley street</td>\n",
       "      <td>3.0</td>\n",
       "    </tr>\n",
       "    <tr>\n",
       "      <th>7</th>\n",
       "      <td>Sheffield Stand</td>\n",
       "      <td>-6.268160</td>\n",
       "      <td>53.35686542</td>\n",
       "      <td>315358.411</td>\n",
       "      <td>235444.966</td>\n",
       "      <td>Bloomington street outside Dargans pharmacy.</td>\n",
       "      <td>3.0</td>\n",
       "    </tr>\n",
       "    <tr>\n",
       "      <th>8</th>\n",
       "      <td>Sheffield Stand</td>\n",
       "      <td>-6.264364</td>\n",
       "      <td>53.35398625</td>\n",
       "      <td>315618.970</td>\n",
       "      <td>235130.706</td>\n",
       "      <td>Parnell square north</td>\n",
       "      <td>4.0</td>\n",
       "    </tr>\n",
       "    <tr>\n",
       "      <th>9</th>\n",
       "      <td>Sheffield Stand</td>\n",
       "      <td>-6.262505</td>\n",
       "      <td>53.34211451</td>\n",
       "      <td>315774.891</td>\n",
       "      <td>233812.603</td>\n",
       "      <td>William street south, duke street gallery.</td>\n",
       "      <td>2.0</td>\n",
       "    </tr>\n",
       "  </tbody>\n",
       "</table>\n",
       "</div>"
      ],
      "text/plain": [
       "       type_stands         X            Y     Easting    Northing  \\\n",
       "0  Sheffield Stand -6.227261  53.34779261  318106.414  234502.185   \n",
       "1  Sheffield Stand -6.265139  53.33424783  315620.753  232932.916   \n",
       "2  Sheffield Stand -6.249766  53.34494805  316615.570  234148.652   \n",
       "3  Sheffield Stand -6.251052  53.34851312  316520.200  234543.281   \n",
       "4  Sheffield Stand -6.242273  53.34296483  317119.980  233940.217   \n",
       "5  Sheffield Stand -6.262081  53.34817688  315786.687  234487.924   \n",
       "6  Sheffield Stand -6.251764  53.35182974  316463.739  234911.200   \n",
       "7  Sheffield Stand -6.268160  53.35686542  315358.411  235444.966   \n",
       "8  Sheffield Stand -6.264364  53.35398625  315618.970  235130.706   \n",
       "9  Sheffield Stand -6.262505  53.34211451  315774.891  233812.603   \n",
       "\n",
       "                                      location_stand  no_stands  \n",
       "0                      East wall road outside the O2        4.0  \n",
       "1           Camden street lower, outside centra shop        1.0  \n",
       "2                                         Marks lane        2.0  \n",
       "3  Custom House Quay, outside AIB International C...        1.0  \n",
       "4                  Pearce street outside garden area        3.0  \n",
       "5       Middle abbey street, outside arnotts carpark        2.0  \n",
       "6                                       Foley street        3.0  \n",
       "7       Bloomington street outside Dargans pharmacy.        3.0  \n",
       "8                               Parnell square north        4.0  \n",
       "9         William street south, duke street gallery.        2.0  "
      ]
     },
     "execution_count": 216,
     "metadata": {},
     "output_type": "execute_result"
    }
   ],
   "source": [
    "stands = pd.read_csv('dublin_bike_parking-updated-sept-2022.csv')\n",
    "print(stands.info())\n",
    "stands.head(10)"
   ]
  },
  {
   "cell_type": "code",
   "execution_count": 215,
   "id": "e4c9b0d3",
   "metadata": {},
   "outputs": [
    {
     "data": {
      "text/html": [
       "<div>\n",
       "<style scoped>\n",
       "    .dataframe tbody tr th:only-of-type {\n",
       "        vertical-align: middle;\n",
       "    }\n",
       "\n",
       "    .dataframe tbody tr th {\n",
       "        vertical-align: top;\n",
       "    }\n",
       "\n",
       "    .dataframe thead th {\n",
       "        text-align: right;\n",
       "    }\n",
       "</style>\n",
       "<table border=\"1\" class=\"dataframe\">\n",
       "  <thead>\n",
       "    <tr style=\"text-align: right;\">\n",
       "      <th></th>\n",
       "      <th>type_stands</th>\n",
       "      <th>X</th>\n",
       "      <th>Y</th>\n",
       "      <th>Easting</th>\n",
       "      <th>Northing</th>\n",
       "      <th>location_stand</th>\n",
       "      <th>no_stands</th>\n",
       "    </tr>\n",
       "  </thead>\n",
       "  <tbody>\n",
       "    <tr>\n",
       "      <th>927</th>\n",
       "      <td>Sheffield Stand</td>\n",
       "      <td>53.374373</td>\n",
       "      <td>-6.255575</td>\n",
       "      <td>316133.0</td>\n",
       "      <td>237415.0</td>\n",
       "      <td>Clare Road</td>\n",
       "      <td>5.0</td>\n",
       "    </tr>\n",
       "    <tr>\n",
       "      <th>928</th>\n",
       "      <td>Sheffield Stand</td>\n",
       "      <td>53.335965</td>\n",
       "      <td>-6.2624615</td>\n",
       "      <td>315779.0</td>\n",
       "      <td>233130.0</td>\n",
       "      <td>Clonmel Street</td>\n",
       "      <td>3.0</td>\n",
       "    </tr>\n",
       "    <tr>\n",
       "      <th>929</th>\n",
       "      <td>Sheffield Stand</td>\n",
       "      <td>53.317272</td>\n",
       "      <td>-6.2922769</td>\n",
       "      <td>313843.0</td>\n",
       "      <td>231002.0</td>\n",
       "      <td>Kimmage Grove</td>\n",
       "      <td>5.0</td>\n",
       "    </tr>\n",
       "    <tr>\n",
       "      <th>930</th>\n",
       "      <td>Sheffield Stand</td>\n",
       "      <td>53.364992</td>\n",
       "      <td>-6.260116</td>\n",
       "      <td>315856.0</td>\n",
       "      <td>236363.0</td>\n",
       "      <td>St Alphonsus Road</td>\n",
       "      <td>3.0</td>\n",
       "    </tr>\n",
       "    <tr>\n",
       "      <th>931</th>\n",
       "      <td>Sheffield Stand</td>\n",
       "      <td>53.348463</td>\n",
       "      <td>-6.28003</td>\n",
       "      <td>314575.0</td>\n",
       "      <td>234492.0</td>\n",
       "      <td>Blackhall Street</td>\n",
       "      <td>4.0</td>\n",
       "    </tr>\n",
       "    <tr>\n",
       "      <th>932</th>\n",
       "      <td>Sheffield Stand</td>\n",
       "      <td>53.337040</td>\n",
       "      <td>-6.254552121</td>\n",
       "      <td>316302.0</td>\n",
       "      <td>233262.0</td>\n",
       "      <td>Ely Place</td>\n",
       "      <td>4.0</td>\n",
       "    </tr>\n",
       "    <tr>\n",
       "      <th>933</th>\n",
       "      <td>Sheffield Stand</td>\n",
       "      <td>53.382512</td>\n",
       "      <td>-6.261817</td>\n",
       "      <td>315695.0</td>\n",
       "      <td>238310.0</td>\n",
       "      <td>Albert College Park</td>\n",
       "      <td>10.0</td>\n",
       "    </tr>\n",
       "    <tr>\n",
       "      <th>934</th>\n",
       "      <td>Sheffield Stand</td>\n",
       "      <td>53.350008</td>\n",
       "      <td>-6.283897</td>\n",
       "      <td>314313.0</td>\n",
       "      <td>234658.0</td>\n",
       "      <td>Viking Place</td>\n",
       "      <td>4.0</td>\n",
       "    </tr>\n",
       "    <tr>\n",
       "      <th>935</th>\n",
       "      <td>Sheffield Stand</td>\n",
       "      <td>53.342442</td>\n",
       "      <td>-6.349356</td>\n",
       "      <td>309975.0</td>\n",
       "      <td>233713.0</td>\n",
       "      <td>Ballyfermot Road</td>\n",
       "      <td>5.0</td>\n",
       "    </tr>\n",
       "    <tr>\n",
       "      <th>936</th>\n",
       "      <td>Sheffield Stand</td>\n",
       "      <td>53.335294</td>\n",
       "      <td>-6.294869</td>\n",
       "      <td>313622.0</td>\n",
       "      <td>233003.0</td>\n",
       "      <td>South Circular Road</td>\n",
       "      <td>5.0</td>\n",
       "    </tr>\n",
       "  </tbody>\n",
       "</table>\n",
       "</div>"
      ],
      "text/plain": [
       "         type_stands          X             Y   Easting  Northing  \\\n",
       "927  Sheffield Stand  53.374373     -6.255575  316133.0  237415.0   \n",
       "928  Sheffield Stand  53.335965    -6.2624615  315779.0  233130.0   \n",
       "929  Sheffield Stand  53.317272    -6.2922769  313843.0  231002.0   \n",
       "930  Sheffield Stand  53.364992     -6.260116  315856.0  236363.0   \n",
       "931  Sheffield Stand  53.348463      -6.28003  314575.0  234492.0   \n",
       "932  Sheffield Stand  53.337040  -6.254552121  316302.0  233262.0   \n",
       "933  Sheffield Stand  53.382512     -6.261817  315695.0  238310.0   \n",
       "934  Sheffield Stand  53.350008     -6.283897  314313.0  234658.0   \n",
       "935  Sheffield Stand  53.342442     -6.349356  309975.0  233713.0   \n",
       "936  Sheffield Stand  53.335294     -6.294869  313622.0  233003.0   \n",
       "\n",
       "          location_stand  no_stands  \n",
       "927           Clare Road        5.0  \n",
       "928       Clonmel Street        3.0  \n",
       "929        Kimmage Grove        5.0  \n",
       "930    St Alphonsus Road        3.0  \n",
       "931     Blackhall Street        4.0  \n",
       "932            Ely Place        4.0  \n",
       "933  Albert College Park       10.0  \n",
       "934         Viking Place        4.0  \n",
       "935     Ballyfermot Road        5.0  \n",
       "936  South Circular Road        5.0  "
      ]
     },
     "execution_count": 215,
     "metadata": {},
     "output_type": "execute_result"
    }
   ],
   "source": [
    "stands.tail(10)\n"
   ]
  },
  {
   "cell_type": "code",
   "execution_count": 193,
   "id": "2b0d77da",
   "metadata": {
    "scrolled": true
   },
   "outputs": [
    {
     "data": {
      "text/plain": [
       "type_stands         0\n",
       "X                 249\n",
       "Y                 249\n",
       "Easting             0\n",
       "Northing            0\n",
       "location_stand     47\n",
       "no_stands          49\n",
       "dtype: int64"
      ]
     },
     "execution_count": 193,
     "metadata": {},
     "output_type": "execute_result"
    }
   ],
   "source": [
    "#need to convert Y to float\n",
    "stands['Y'] = stands['Y'].apply(lambda x: float(x))\n",
    "stands.isna().sum()"
   ]
  },
  {
   "cell_type": "code",
   "execution_count": 210,
   "id": "c17161b1",
   "metadata": {
    "scrolled": true
   },
   "outputs": [
    {
     "data": {
      "text/plain": [
       "384   NaN\n",
       "385   NaN\n",
       "386   NaN\n",
       "387   NaN\n",
       "388   NaN\n",
       "       ..\n",
       "728   NaN\n",
       "729   NaN\n",
       "730   NaN\n",
       "731   NaN\n",
       "732   NaN\n",
       "Name: X, Length: 346, dtype: float64"
      ]
     },
     "execution_count": 210,
     "metadata": {},
     "output_type": "execute_result"
    }
   ],
   "source": [
    "stands.X[(stands.X  > 90) | (stands.X <-90) | (stands.X.isna())]"
   ]
  },
  {
   "cell_type": "code",
   "execution_count": 211,
   "id": "26628d07",
   "metadata": {
    "scrolled": false
   },
   "outputs": [
    {
     "data": {
      "text/plain": [
       "384   NaN\n",
       "385   NaN\n",
       "386   NaN\n",
       "387   NaN\n",
       "388   NaN\n",
       "       ..\n",
       "728   NaN\n",
       "729   NaN\n",
       "730   NaN\n",
       "731   NaN\n",
       "732   NaN\n",
       "Name: Y, Length: 346, dtype: float64"
      ]
     },
     "execution_count": 211,
     "metadata": {},
     "output_type": "execute_result"
    }
   ],
   "source": [
    "stands.Y[(stands.Y  > 90) | (stands.Y <-90) | (stands.Y.isna())]"
   ]
  },
  {
   "cell_type": "markdown",
   "id": "13bc6bce",
   "metadata": {},
   "source": [
    "### We neeed to find coordinates for these 345 missing or incorrect values. We created a CSV file containing the street values which need to be adressed and will use the opencage api to find the values"
   ]
  },
  {
   "cell_type": "code",
   "execution_count": 227,
   "id": "8e7fd1ab",
   "metadata": {},
   "outputs": [],
   "source": [
    "from opencage.geocoder import OpenCageGeocode\n",
    "key = '1822e59c24e845cc85c0016bcd1454aa'\n",
    "geocoder = OpenCageGeocode(key)\n",
    "\n",
    "street = pd.read_csv(r\"C:\\Users\\faela\\OneDrive - University College Dublin\\Desktop\\Streets.csv\")\n",
    "\n",
    "latitude = []\n",
    "longitude = []\n",
    "for i in street['names:']:\n",
    "    results = geocoder.geocode(i)\n",
    "    latitude.append(results[0]['geometry']['lat'])\n",
    "    longitude.append(results[0]['geometry']['lng'])"
   ]
  },
  {
   "cell_type": "markdown",
   "id": "33db1bcb",
   "metadata": {},
   "source": [
    "### now we will append these to the bike stand dataframe "
   ]
  },
  {
   "cell_type": "code",
   "execution_count": 228,
   "id": "468e397e",
   "metadata": {
    "scrolled": true
   },
   "outputs": [
    {
     "name": "stderr",
     "output_type": "stream",
     "text": [
      "C:\\Users\\faela\\AppData\\Local\\Temp/ipykernel_13368/633843881.py:2: SettingWithCopyWarning:\n",
      "\n",
      "\n",
      "A value is trying to be set on a copy of a slice from a DataFrame\n",
      "\n",
      "See the caveats in the documentation: https://pandas.pydata.org/pandas-docs/stable/user_guide/indexing.html#returning-a-view-versus-a-copy\n",
      "\n",
      "C:\\Users\\faela\\AppData\\Local\\Temp/ipykernel_13368/633843881.py:3: SettingWithCopyWarning:\n",
      "\n",
      "\n",
      "A value is trying to be set on a copy of a slice from a DataFrame\n",
      "\n",
      "See the caveats in the documentation: https://pandas.pydata.org/pandas-docs/stable/user_guide/indexing.html#returning-a-view-versus-a-copy\n",
      "\n"
     ]
    }
   ],
   "source": [
    "for i in range(len(latitude)):\n",
    "    stands.X[384 + i] = latitude[i]\n",
    "    stands.Y[384 + i] = longitude[i]"
   ]
  },
  {
   "cell_type": "code",
   "execution_count": 229,
   "id": "dbf1adaa",
   "metadata": {
    "scrolled": true
   },
   "outputs": [
    {
     "data": {
      "text/plain": [
       "type_stands        0\n",
       "X                  0\n",
       "Y                  0\n",
       "Easting            0\n",
       "Northing           0\n",
       "location_stand    47\n",
       "no_stands          0\n",
       "dtype: int64"
      ]
     },
     "execution_count": 229,
     "metadata": {},
     "output_type": "execute_result"
    }
   ],
   "source": [
    "# For cases where the number of stands is missing we will fill with the median number\n",
    "stands['no_stands'].fillna(stands['no_stands'].median(), inplace = True)\n",
    "stands.isna().sum()\n",
    "#The street name isnt needed for our analysis so we dont mind leaving this blank for now :) "
   ]
  },
  {
   "cell_type": "markdown",
   "id": "6b3853f7",
   "metadata": {},
   "source": [
    "### Onto this we will add the locations of the cycle counters so that they can be plot easily "
   ]
  },
  {
   "cell_type": "code",
   "execution_count": 239,
   "id": "c350a40f",
   "metadata": {},
   "outputs": [
    {
     "data": {
      "text/html": [
       "<div>\n",
       "<style scoped>\n",
       "    .dataframe tbody tr th:only-of-type {\n",
       "        vertical-align: middle;\n",
       "    }\n",
       "\n",
       "    .dataframe tbody tr th {\n",
       "        vertical-align: top;\n",
       "    }\n",
       "\n",
       "    .dataframe thead th {\n",
       "        text-align: right;\n",
       "    }\n",
       "</style>\n",
       "<table border=\"1\" class=\"dataframe\">\n",
       "  <thead>\n",
       "    <tr style=\"text-align: right;\">\n",
       "      <th></th>\n",
       "      <th>Bike Counter Locations,Latitude,Longitude,Setup Date,User Type</th>\n",
       "    </tr>\n",
       "  </thead>\n",
       "  <tbody>\n",
       "    <tr>\n",
       "      <th>0</th>\n",
       "      <td>Charleville Mall,53.35694847,-6.245350215,28/0...</td>\n",
       "    </tr>\n",
       "    <tr>\n",
       "      <th>1</th>\n",
       "      <td>North Strand Rd N/B,53.35853,-6.24134,28/05/20...</td>\n",
       "    </tr>\n",
       "    <tr>\n",
       "      <th>2</th>\n",
       "      <td>Guild Street,53.34815,-6.24098,28/05/2018,Cycl...</td>\n",
       "    </tr>\n",
       "    <tr>\n",
       "      <th>3</th>\n",
       "      <td>Grove Road Totem,53.3296435,-6.2701778,09/09/2...</td>\n",
       "    </tr>\n",
       "    <tr>\n",
       "      <th>4</th>\n",
       "      <td>North Strand Rd S/B,53.35846619,-6.241417032,2...</td>\n",
       "    </tr>\n",
       "    <tr>\n",
       "      <th>5</th>\n",
       "      <td>Richmond Street 1,53.3303987, -6.2642584564641...</td>\n",
       "    </tr>\n",
       "    <tr>\n",
       "      <th>6</th>\n",
       "      <td>Richmond Street 2,53.33227358,-6.264814344,,Cy...</td>\n",
       "    </tr>\n",
       "    <tr>\n",
       "      <th>7</th>\n",
       "      <td>Drumcondra,53.362866,-6.258533,,Cyclists</td>\n",
       "    </tr>\n",
       "    <tr>\n",
       "      <th>8</th>\n",
       "      <td>Clontarf - James Larkin Rd,53.367859,-6.171466...</td>\n",
       "    </tr>\n",
       "    <tr>\n",
       "      <th>9</th>\n",
       "      <td>Clontarf - Pebble Beach Carpark,53.358266,-6.1...</td>\n",
       "    </tr>\n",
       "    <tr>\n",
       "      <th>10</th>\n",
       "      <td>Griffith Avenue (Clare Rd Side),53.37659864,-6...</td>\n",
       "    </tr>\n",
       "    <tr>\n",
       "      <th>11</th>\n",
       "      <td>Griffith Avenue (Lane Side),53.377,-6.255,,Cyc...</td>\n",
       "    </tr>\n",
       "  </tbody>\n",
       "</table>\n",
       "</div>"
      ],
      "text/plain": [
       "   Bike Counter Locations,Latitude,Longitude,Setup Date,User Type\n",
       "0   Charleville Mall,53.35694847,-6.245350215,28/0...            \n",
       "1   North Strand Rd N/B,53.35853,-6.24134,28/05/20...            \n",
       "2   Guild Street,53.34815,-6.24098,28/05/2018,Cycl...            \n",
       "3   Grove Road Totem,53.3296435,-6.2701778,09/09/2...            \n",
       "4   North Strand Rd S/B,53.35846619,-6.241417032,2...            \n",
       "5   Richmond Street 1,53.3303987, -6.2642584564641...            \n",
       "6   Richmond Street 2,53.33227358,-6.264814344,,Cy...            \n",
       "7            Drumcondra,53.362866,-6.258533,,Cyclists            \n",
       "8   Clontarf - James Larkin Rd,53.367859,-6.171466...            \n",
       "9   Clontarf - Pebble Beach Carpark,53.358266,-6.1...            \n",
       "10  Griffith Avenue (Clare Rd Side),53.37659864,-6...            \n",
       "11  Griffith Avenue (Lane Side),53.377,-6.255,,Cyc...            "
      ]
     },
     "execution_count": 239,
     "metadata": {},
     "output_type": "execute_result"
    }
   ],
   "source": [
    "counter_loc = pd.read_csv('counter_locations.csv', sep = ',')\n",
    "#counter_loc['Longitude'] = counter_loc['Longitude'].apply(lambda x: float(x))\n",
    "counter_loc.head(25)"
   ]
  },
  {
   "cell_type": "code",
   "execution_count": 185,
   "id": "1c4c8f08",
   "metadata": {
    "scrolled": true
   },
   "outputs": [],
   "source": [
    "import plotly.express as px\n"
   ]
  },
  {
   "cell_type": "code",
   "execution_count": 188,
   "id": "5bf9ea5c",
   "metadata": {},
   "outputs": [
    {
     "data": {
      "application/vnd.plotly.v1+json": {
       "config": {
        "plotlyServerURL": "https://plot.ly"
       },
       "data": [
        {
         "customdata": [
          [
           "East wall road outside the O2"
          ],
          [
           "Camden street lower, outside centra shop"
          ],
          [
           "Marks lane"
          ],
          [
           "Custom House Quay, outside AIB International Centre"
          ],
          [
           "Pearce street outside garden area"
          ],
          [
           "Middle abbey street, outside arnotts carpark"
          ],
          [
           "Foley street"
          ],
          [
           "Bloomington street outside Dargans pharmacy."
          ],
          [
           "Parnell square north"
          ],
          [
           "William street south, duke street gallery."
          ],
          [
           "North king street"
          ],
          [
           "Maggot street lower outside Medmark healthcare "
          ],
          [
           "Cuffe street, across from O'callaghan Stephen green hotel"
          ],
          [
           "Parnell street outside temple hall"
          ],
          [
           "Parnell street outside beauty chic"
          ],
          [
           "Parnell street, outside 147 deli"
          ],
          [
           "Wexford street, Infront of bank of ireland"
          ],
          [
           "Bottom of George's street, beside the mercantile"
          ],
          [
           "Fitzwilliam Place"
          ],
          [
           "Capel street outside AIB bank"
          ],
          [
           "Merrion street lower"
          ],
          [
           "Earlsfort Terrace"
          ],
          [
           "Abbey street lower near abbey street luas station"
          ],
          [
           "Amiens street under train tracks"
          ],
          [
           "North circular road outside carolans off licence"
          ],
          [
           "Dorset Street Upper, outside Ritzy Rags Shop"
          ],
          [
           "Foley street"
          ],
          [
           "Dorset street upper outside techno logic "
          ],
          [
           "Parnell street outside lomdis"
          ],
          [
           "Top of Parnell street opposite Londis"
          ],
          [
           "St Stephens green Luas, in front of certus"
          ],
          [
           "Tara street"
          ],
          [
           "Mayor street upper beside the point luas station"
          ],
          [
           "Mountjoy square noeth"
          ],
          [
           "Exchequer Street, outside Fallon Byrne "
          ],
          [
           "Stephens street upper, beside IBOA House"
          ],
          [
           "George's street great south outside Dublin business school"
          ],
          [
           "Exchequer street"
          ],
          [
           "Jervis street"
          ],
          [
           "Patrick street opposite daybreak shop"
          ],
          [
           "Opposite 179 Church street"
          ],
          [
           "Baht street lower outside Larry Murphy's"
          ],
          [
           "Maggot street lower outside bank of ireland"
          ],
          [
           "Westland row"
          ],
          [
           "Pearce street"
          ],
          [
           "Aungier street outside DIT"
          ],
          [
           "Capel street outside Dublin College of Advanced Studies"
          ],
          [
           "Kings Inn Street"
          ],
          [
           "top of Parnell street"
          ],
          [
           "Parnell Street, outside Burger King"
          ],
          [
           "Mary street outside Mary Mall"
          ],
          [
           "Berkeley road outside Flanagans pharmacy"
          ],
          [
           "Mayor street lower outside AIB"
          ],
          [
           "George's Dock across the road from KPMG"
          ],
          [
           "Suffolk street"
          ],
          [
           "Westmoreland street"
          ],
          [
           "Pearce street"
          ],
          [
           "Wolfe Tone Street, outside Alexanders bridal shop"
          ],
          [
           "Start of kings inn street"
          ],
          [
           "Jervis street, outside McDonolds."
          ],
          [
           "Camden street lower"
          ],
          [
           "High street"
          ],
          [
           "York street, royal college of surgeons"
          ],
          [
           "Parnell street"
          ],
          [
           "Marlborough street outside eircom and kanoodle"
          ],
          [
           "Parnell street outside euro giant"
          ],
          [
           "Start of Summer hill"
          ],
          [
           "St. Stephens Green, outside oxfam and specsavers"
          ],
          [
           "Parnell Street, outside Alexander's bridal shop"
          ],
          [
           "Merrion square North"
          ],
          [
           "Mount street lower opposite new mount house"
          ],
          [
           "Harcourt road, in front of regius building"
          ],
          [
           "Mercer street outside DCC"
          ],
          [
           "Marlborough street outside admiral restraunt"
          ],
          [
           "Eden Quay ooutside Liberty Hall"
          ],
          [
           "Talbot Street outside Singer shop"
          ],
          [
           "York street, across from Dublinbike station"
          ],
          [
           "Johnstons place outside pearls shop"
          ],
          [
           "Camden street lower, outside cracker nut cafe"
          ],
          [
           "Blessignton street outside La Pausa cafe"
          ],
          [
           "North circular road and belvidire road junction"
          ],
          [
           "Camden street lower, across from Fontana cafe"
          ],
          [
           "Parnell square west"
          ],
          [
           "Merrion street lower island"
          ],
          [
           "Hatch street lower"
          ],
          [
           "Capel street outside capel kebab and pizza house"
          ],
          [
           "Jervis street opposite TP Smiths"
          ],
          [
           "Aaran quay outside bank of Ireland"
          ],
          [
           "Grattan bridge "
          ],
          [
           "Parliament Street across from florentina restaurant"
          ],
          [
           "Parliament street, outside subway "
          ],
          [
           "Burgh quay"
          ],
          [
           "Fatima luas stop"
          ],
          [
           "Phoenix street north"
          ],
          [
           "Merrion square east"
          ],
          [
           "North kings street"
          ],
          [
           "North kings streetboutside macro"
          ],
          [
           "Fitzwilliam street lower"
          ],
          [
           "Phisborough road opposite mc donalds"
          ],
          [
           "Middle abbey street "
          ],
          [
           "Middle abbey street outside hidden hearing."
          ],
          [
           "Middle abbey street, outside celebration party shop."
          ],
          [
           "St Stephen's green North"
          ],
          [
           "Sack like place"
          ],
          [
           "Goldsworthy street outside Foxx Coffee House"
          ],
          [
           "Lincoln Place"
          ],
          [
           "Mount street upper"
          ],
          [
           "Mount street lower opposite howl at the moon club"
          ],
          [
           "Georges Quay"
          ],
          [
           "Grand canal docks"
          ],
          [
           "Grand canal docks outside fresh"
          ],
          [
           "Blood stone road"
          ],
          [
           "Both wall quay, opposite the Spenser. "
          ],
          [
           "Sir john Robertson quay"
          ],
          [
           "Start of Leinster street south"
          ],
          [
           "Marlborough street opposite An Board Pleanala "
          ],
          [
           "Mount street lower outside board bia"
          ],
          [
           "Camden street lower, Infront of enable ireland"
          ],
          [
           "North strand road"
          ],
          [
           "Amiens street outside the funky skunk"
          ],
          [
           "Bolton Street, outside DIT"
          ],
          [
           "Eden Quay outside Beresford Court"
          ],
          [
           "Talbot street outside Guiney and co."
          ],
          [
           "Top of Parnell street outside Foleys pharmacy"
          ],
          [
           "St Stephens green north outside permanent tsb"
          ],
          [
           "Jervis Street outside Penny's"
          ],
          [
           "Wexford street, djinn shop, across the road from opium\r\n"
          ],
          [
           "Aungier street, outside YMCA"
          ],
          [
           "Cathal Brugha street"
          ],
          [
           "Cathal Brugha Street outside DIT"
          ],
          [
           "Camden street lower, Simon community shop,."
          ],
          [
           "Coppinger row"
          ],
          [
           "Parnell street outside Centra "
          ],
          [
           "Start of st. Stephen's Green terrace. "
          ],
          [
           "Pembroke street lower, opposite coffee angel."
          ],
          [
           "O'Connell street, median, behind Sir John Gray monument"
          ],
          [
           "South Circular road tesco"
          ],
          [
           "Essex street east, outside the Clarence hotel"
          ],
          [
           "The coombe outside ovenden house. "
          ],
          [
           "College green, median"
          ],
          [
           "North king street"
          ],
          [
           "End of Adelaide road beside kiosk"
          ],
          [
           "Start of Fitzwilliam square north"
          ],
          [
           "Middle abbey street,  outside independent house newspaper limited."
          ],
          [
           "Middle abbey street, outside austrailia travel."
          ],
          [
           "Grand canal street lower"
          ],
          [
           "Mount street lower opposite new mount house"
          ],
          [
           "D'Oliver street"
          ],
          [
           "Foley street outside dance Irelamd"
          ],
          [
           "Blood stone road"
          ],
          [
           "Mayor square outside Snap and national college of Ireland."
          ],
          [
           "Fade street, outside the rage record store"
          ],
          [
           "Hume street"
          ],
          [
           "Wolfe tone street"
          ],
          [
           "Wolfe tone street outside AXA office"
          ],
          [
           "Coppinger row "
          ],
          [
           "Saclville Place"
          ],
          [
           "Trinity street"
          ],
          [
           "Pearce street opposite parser square"
          ],
          [
           "Parnell street outside cineworld."
          ],
          [
           "Abbey Street Lower, outside Abbey Theatre."
          ],
          [
           "Abbey Street Lower outside Beresford Court."
          ],
          [
           "Pearce street and Townsend street"
          ],
          [
           "Stephens green, in front of beneton shop"
          ],
          [
           "East wall road outside the O2 "
          ],
          [
           "Bedford row, beside Ladbrokes"
          ],
          [
           "Talbot Street outside Carrolls shop"
          ],
          [
           "Fleet Street, outside TGI restaurant."
          ],
          [
           "Aston quay, outside house of colour"
          ],
          [
           "Harcourt street outside Starbucks "
          ],
          [
           "New bride street , Infront of small green"
          ],
          [
           "Mount street ctescent"
          ],
          [
           "Beresford Place median"
          ],
          [
           "Kevin's street outside o haras pharmacy"
          ],
          [
           "Dorset street outside gaa ticket office "
          ],
          [
           "Wexford street, Infront of mega bikes."
          ],
          [
           "Camden street lower, outside ulster bank"
          ],
          [
           "Mountjoy square south outside dit"
          ],
          [
           "Noel Purcell Walk, Infront of beaux lane house"
          ],
          [
           "Chatham road, outside Mao restaurant"
          ],
          [
           "William street south, outside dada restautsnt"
          ],
          [
           "Saint Andrew street"
          ],
          [
           "South George's street, outside Diwali"
          ],
          [
           "George's street, outside Hogans pub"
          ],
          [
           "Berkeley road outside Berkeley wash"
          ],
          [
           "Cathal Brugha street outside the Irish aid office"
          ],
          [
           "Cork street"
          ],
          [
           "Camden street lower, Infront of icon health store. "
          ],
          [
           "Drury street, outside Carousel"
          ],
          [
           "Drury street outside Irish design shop"
          ],
          [
           "End of Hatch street lower, both sides of the road, outside cafe sol"
          ],
          [
           "Hatch street lower"
          ],
          [
           "George's street, opposite Dublin business school"
          ],
          [
           "Open square beside Dublin City hall"
          ],
          [
           "Capel street outside spar"
          ],
          [
           "Great strand street, outside pantibar"
          ],
          [
           "Essex street west, outside the gaiety school of acting."
          ],
          [
           "Wellington quay"
          ],
          [
           "Four courts luas stop"
          ],
          [
           "Marlborough street"
          ],
          [
           "Thomas street across from the hill top bar"
          ],
          [
           "Francis street opposite the liberty bell pub"
          ],
          [
           "Cornmarket street outside farrow and ball"
          ],
          [
           "May lane outside Hanley at the bar"
          ],
          [
           "North kings street outside centra"
          ],
          [
           "Cathal Brugha Street outside the Living Room pub"
          ],
          [
           "Parliament street outside paramount hotel"
          ],
          [
           "Parliament street outside spar shop"
          ],
          [
           "Eustace street, outside the Italian corner restaurant"
          ],
          [
           "Essex street, outside the shack restaurant."
          ],
          [
           "Cope street, behind central bank"
          ],
          [
           "Temple bar, outside Rory's fishing shop."
          ],
          [
           "Fleet Street, outside hard rock cafe"
          ],
          [
           "Burgh quay"
          ],
          [
           "Cork street"
          ],
          [
           "Westmorleland street, outside Bewleys"
          ],
          [
           "Christchurch square"
          ],
          [
           "Thomas street outside st johns priory"
          ],
          [
           "Merchants quay"
          ],
          [
           "Parkgate street outside Landis\\subwau"
          ],
          [
           "Capel street, outside mcQuillan tools"
          ],
          [
           "Fitzwilliam street upper"
          ],
          [
           "Fitzwilliam street lower"
          ],
          [
           "Fitzwilliam street lower"
          ],
          [
           "Church street Londis"
          ],
          [
           "Top of Smithfield"
          ],
          [
           "Fitzwilliam square north"
          ],
          [
           "Manor street"
          ],
          [
           "Middle abbey street across the road from the Gin Palace  pub"
          ],
          [
           "Camden street, Infront of great deals store."
          ],
          [
           "Berkeley road outside post office"
          ],
          [
           "Liffey street outside entrance to Arnotts."
          ],
          [
           "Mount street uppwr"
          ],
          [
           "Charlemont place beside luas station "
          ],
          [
           "Grand canal docks"
          ],
          [
           "Admiral brown street"
          ],
          [
           "All along Forbes street"
          ],
          [
           "Blood stone /road horse fair intersection"
          ],
          [
           "A'll along bood stone road"
          ],
          [
           "All along Forbes street"
          ],
          [
           "Fade street, outside hogans bar"
          ],
          [
           "Benson street"
          ],
          [
           "Horse fair"
          ],
          [
           "Prussia street"
          ],
          [
           "Start of South William street, outside jewl in the crown"
          ],
          [
           " Parnell square west outside the rotunda hospital "
          ],
          [
           "Queen street, probation service "
          ],
          [
           "Christ church place, outside sunny's newsagent"
          ],
          [
           "Wexford street, outside solo clothes shop."
          ],
          [
           "Francis street outside reillys pharmacy "
          ],
          [
           "Houston train station"
          ],
          [
           "Top of baggot street lower, end of pembroke street lower"
          ],
          [
           "Edge of exchequer street, outside pharmacy and rustic stone"
          ],
          [
           "Essex street, outside zaytoon"
          ],
          [
           "Dame street,  outside Nico's restaurant"
          ],
          [
           "Prince's street north, outside penny's."
          ],
          [
           "Leinster street south outside TCD Leinster street"
          ],
          [
           "Aungier street outside DIT"
          ],
          [
           "Start of castle street"
          ],
          [
           "Molesworth street, "
          ],
          [
           "Parnell Streer outside Aldi"
          ],
          [
           "Prince's street north, outside penny's"
          ],
          [
           "Talbot street outside wake cup"
          ],
          [
           "Capel Street, outside The Horse Shoe shop"
          ],
          [
           "Parnell street outside king fisher restraunt."
          ],
          [
           "Johnstone place, outside pharmacy"
          ],
          [
           "Camden street upper, outside damascus gate restaurant "
          ],
          [
           "Trinity street, outside jack jones shop"
          ],
          [
           "End of Liffey street lower, outside the grand social"
          ],
          [
           "End of Patricia street outside spar"
          ],
          [
           "Start of westborough street, beside the butchers bar"
          ],
          [
           "Heuston Luas stop"
          ],
          [
           "James street outside McCanns pub"
          ],
          [
           "Thomas street outside Massey bros funeral home"
          ],
          [
           "Essex street east, outside costa cafe."
          ],
          [
           "Eustace street, outside the orseman pub"
          ],
          [
           "Cecilia street, outside temple lane recording studios"
          ],
          [
           "Cecilia street, outside luigi malones restaurant"
          ],
          [
           "Fleet Street, across from thunder road cafe"
          ],
          [
           "Infirmary road"
          ],
          [
           "Middle abbey street outside arnotts."
          ],
          [
           "Upper abbey street near the Jervia Luas stop."
          ],
          [
           "Talbot street across the road from Paddy Power"
          ],
          [
           "Top of Forbes street"
          ],
          [
           "All along blood stone road"
          ],
          [
           "North Circular road outside Matter hospital. "
          ],
          [
           "Parnell street outside Jervis medical centre"
          ],
          [
           "Wood quay, outside DCC"
          ],
          [
           "Start of marborough street outside the abbey theatre"
          ],
          [
           "Ormond square"
          ],
          [
           "Drury street, outside George's st. arcade"
          ],
          [
           "Sponsor Dock Luas station"
          ],
          [
           "Outside criminal courts of justice"
          ],
          [
           "Houston station,"
          ],
          [
           "Eden quay"
          ],
          [
           "Chatham road, outside DIT music and drama"
          ],
          [
           "Parnell street outside cycleways. "
          ],
          [
           "Bottom of grafton streer"
          ],
          [
           "Baggot street lower outside tailored finance."
          ],
          [
           "Essex street, outside the porterhouse pub"
          ],
          [
           "Wexford street, in front of whelans off licence"
          ],
          [
           "Capel street outside codys of Capel Street."
          ],
          [
           "Parnell street across the road from Euro Giant shop"
          ],
          [
           "Marlborough Street outside Spar shop"
          ],
          [
           "Amiens Street at Luas station"
          ],
          [
           "Camden street, outside penny farthing cycles"
          ],
          [
           "Camden street lower, outside tommy Moore jewellers"
          ],
          [
           "Cavendish road outside the Ambassador theatre."
          ],
          [
           "Beresford Place Infront of Busaras."
          ],
          [
           "Burgh quay, outside Jaffa deli"
          ],
          [
           "Hawkins street, outside PCI college"
          ],
          [
           "Westmoreland street, outside fexco"
          ],
          [
           "College green, outside dubarry of Ireland shop"
          ],
          [
           "Mabbot lane"
          ],
          [
           "Top of Parnell square east."
          ],
          [
           "Bresford Place beside Liberty Hall and bus eireann bus stop"
          ],
          [
           "Ovoca"
          ],
          [
           "Hawkins street"
          ],
          [
           "Cumberland street North outside nam thanh supermarket"
          ],
          [
           "Clarendon street, across from BT"
          ],
          [
           "Store street outside Bus Eireann"
          ],
          [
           "North Frederick street outside Lady beauty Parlour"
          ],
          [
           "South George's street, outside laser dvd"
          ],
          [
           "Georges dock outside Ely chq"
          ],
          [
           "Smithfield near luas station"
          ],
          [
           "St James hospital"
          ],
          [
           "Brooksfield road outside mace"
          ],
          [
           "Tara street"
          ],
          [
           "Bottom of Westmoreland street"
          ],
          [
           "D'Oliver street"
          ],
          [
           "Top of Capel Street"
          ],
          [
           "Swift Row"
          ],
          [
           "Bride Road"
          ],
          [
           "Luke Street"
          ],
          [
           "Francis Street at Thomas Street end"
          ],
          [
           "Exchange Street Upper"
          ],
          [
           "Charlemont Street "
          ],
          [
           "Clanbrassil St north of Fumbally Lane"
          ],
          [
           "Clanbrassil St south of Fumbally Lane"
          ],
          [
           "Mary Street east of Jervis Lane Lower"
          ],
          [
           "Thomas Davis Street South at Francis St end"
          ],
          [
           "Ryders Row"
          ],
          [
           "St Andrews Street"
          ],
          [
           "Dame Court"
          ],
          [
           "Barrow Street"
          ],
          [
           "Ringsend Road"
          ],
          [
           "Capel Street"
          ],
          [
           "Green Street"
          ],
          [
           "Dorset Street Lower"
          ],
          [
           "Blessington Street"
          ],
          [
           "King Street North"
          ],
          [
           "Francis Street"
          ],
          [
           "Patrick Street"
          ],
          [
           "Moore Street"
          ],
          [
           "Moore Street"
          ],
          [
           "Moore Street"
          ],
          [
           "Bellevue"
          ],
          [
           "Golden Lane"
          ],
          [
           "St. Stephens Green South"
          ],
          [
           "St. Stephens Green West"
          ],
          [
           "Kevin Street Lower"
          ],
          [
           "Richmond Street South"
          ],
          [
           "Richmond Street South"
          ],
          [
           "Pleasents Street"
          ],
          [
           "Oliver Bond Street"
          ],
          [
           "Causeway Road"
          ],
          [
           "Griffith Avenue"
          ],
          [
           "Eden Quay"
          ],
          [
           "Jervis Street 1"
          ],
          [
           "Jervis Street 2"
          ],
          [
           "Store Street"
          ],
          [
           "North Circular Road"
          ],
          [
           "North Circular Road"
          ],
          [
           "Philbsborough Road/Connaught St"
          ],
          [
           "Cardiff Lane"
          ],
          [
           "Redstables Market"
          ],
          [
           "Marks Alley West"
          ],
          [
           "Carman's Hall at Francis Street"
          ],
          [
           "Carman's Hall at Meath Street"
          ],
          [
           "Dean Street"
          ],
          [
           "Thomas Street"
          ],
          [
           "Augustine Street West at Cornmarket"
          ],
          [
           "North Wall Quay "
          ],
          [
           "Northern Campshires"
          ],
          [
           "Washington Street"
          ],
          [
           "Greenville Terrace"
          ],
          [
           "North Circular Road Opposite Library"
          ],
          [
           "North Circular Road West of Berkeley Road"
          ],
          [
           "Goldsmith Street Westside"
          ],
          [
           "Phibsborough Road outside Doyles Bar"
          ],
          [
           "Phibsborough Road Westside at Thunders Bakery"
          ],
          [
           "Phibsborough Road Eastside south of NCR at AIB"
          ],
          [
           "Phibsborough Road Eastside at Rothar"
          ],
          [
           "North Circular Road east of Phibsborough Rd at Doyles"
          ],
          [
           " Stoney Batter eastside outside Centra"
          ],
          [
           "Manor Street eastside at Grants"
          ],
          [
           "Manor Street eastside outside No. 3"
          ],
          [
           "Manor Street westside"
          ],
          [
           "Stephen Street Lower"
          ],
          [
           "York Street, southside at Bright Wash"
          ],
          [
           "Patrick Street "
          ],
          [
           "Bishop Street"
          ],
          [
           "Cuffe Street"
          ],
          [
           "Holles Street"
          ],
          [
           "Pearse Street outside subway"
          ],
          [
           "Pearse Street outside Trinity Business"
          ],
          [
           "Parkgate Street outside Nancy Hands"
          ],
          [
           "Parkgate Street outside Westbrook Motors"
          ],
          [
           "Blackhall Place"
          ],
          [
           "Haymarket"
          ],
          [
           "Coke Lane"
          ],
          [
           "Baggot Street Lower at James Street East (Bank of Ireland)"
          ],
          [
           "Baggot Street Lower west of Pembroke St Lower"
          ],
          [
           "Wilton Terrace, at junction with Wilton Place"
          ],
          [
           "Mount Street Lower outside No 33"
          ],
          [
           "Herbert Street, south of Convent Close"
          ],
          [
           "Sir John Rogerson's Quay east of Cardiff Lane"
          ],
          [
           "Whitefriar Street, eastside south of Golden Lane"
          ],
          [
           "Merrion Square North opposite No.6"
          ],
          [
           "Fenian Street ,northside  east of Bass Place"
          ],
          [
           "Adelaide Road , northside outside Eye and Ear Hospital"
          ],
          [
           "Ailesbury Road, northside, west of Merlyn Park"
          ],
          [
           "Strand Road Car Park, opposite No.9 Adelaide Mews"
          ],
          [
           "Sandymout Village, eastside opposite No .95"
          ],
          [
           "Sandymout Village, westside outsideNo .95"
          ],
          [
           "Tudor Road, westside opposite Cowper Gardens "
          ],
          [
           "Pine Road, northeastern corner at Ringsend Park"
          ],
          [
           "Fitzwilliam Street westside, north of Bridge Street"
          ],
          [
           "Ormond Quay Upper northside outside No.31-36"
          ],
          [
           "Ormond Quay Upper northside outside No. 20"
          ],
          [
           "Mary Street, southside east of Capel Street"
          ],
          [
           "Yarnhall Street,  northside west of Bolton Street"
          ],
          [
           "Parnell Square West south of entrance to Rotunda Hospital"
          ],
          [
           "Parnell Square North opposite No. 18"
          ],
          [
           "Beresford Lane, northside west of Gardiner Street Lower"
          ],
          [
           "Talbot Street, northside under railway bridge"
          ],
          [
           "Sheriff Street Upper,  northside opposite Castleforbes Street"
          ],
          [
           "Sheriff Street Upper,  northside outside train station"
          ],
          [
           "Mountjoy Square South northside opposite No. 40-45"
          ],
          [
           "Mountjoy Square South, southside outside No. 48"
          ],
          [
           "Gardiner Place northside at Temple Street"
          ],
          [
           " Kings Inn Street"
          ],
          [
           "Eccles street "
          ],
          [
           "Temple Street North "
          ],
          [
           "Temple Street North"
          ],
          [
           "Marys Lane "
          ],
          [
           " Herbert Park "
          ],
          [
           " Merchants Quay "
          ],
          [
           " New Street South "
          ],
          [
           " Meath Street "
          ],
          [
           "Newmarket "
          ],
          [
           "Francis Street "
          ],
          [
           " High Street "
          ],
          [
           "Meath Street"
          ],
          [
           " School Street"
          ],
          [
           " James Street "
          ],
          [
           " Bridgefoot Street "
          ],
          [
           "St Johns Road West "
          ],
          [
           " Watling Street "
          ],
          [
           "  Taylor’s lane"
          ],
          [
           "   Saint Augustine Street "
          ],
          [
           " Grattan Crescent "
          ],
          [
           "  Leinster Square "
          ],
          [
           "  Howth Road "
          ],
          [
           " Raheny Main Street "
          ],
          [
           " Vernon Avenue "
          ],
          [
           " Drumcondra Road Upper"
          ],
          [
           "  Clonliffe Road "
          ],
          [
           "  Finglas Road "
          ],
          [
           " Seamus Ennis Road "
          ],
          [
           "Finglas Road"
          ],
          [
           "Coolock Main Street "
          ],
          [
           "Poolbeg  "
          ],
          [
           " South Earl Street."
          ],
          [
           " John Street West."
          ],
          [
           " Ormond Street."
          ],
          [
           " Ashtown Grove."
          ],
          [
           " Cameron Street."
          ],
          [
           " Benbulbin Road."
          ],
          [
           " Keeper Road."
          ],
          [
           "South Circular Road."
          ],
          [
           " Prospect Way."
          ],
          [
           " South Circular Road."
          ],
          [
           " Glasanaon Road."
          ],
          [
           " City Quay."
          ],
          [
           "Essex Street East."
          ],
          [
           "Wellington Quay."
          ],
          [
           "Clontarf Road."
          ],
          [
           "Parliment Street"
          ],
          [
           "Fairview Avenue Lower."
          ],
          [
           "Bannow Road."
          ],
          [
           "Old Finglas Road."
          ],
          [
           "Prospect Square."
          ],
          [
           "Finglas Road."
          ],
          [
           "Ballymun road."
          ],
          [
           "Gateway Crescent."
          ],
          [
           "Millmount Avenue."
          ],
          [
           "Navan Road."
          ],
          [
           "Strand Road Car Park."
          ],
          [
           "Naas Road."
          ],
          [
           " Strand Road Car Park."
          ],
          [
           "Merrion Road"
          ],
          [
           "Pearse St"
          ],
          [
           "Harolds Cross Rd"
          ],
          [
           "Oliver Bond St"
          ],
          [
           "Drumcondra Rd Lwr"
          ],
          [
           "Rathmines Rd Upr"
          ],
          [
           "Charlemont St"
          ],
          [
           "Mespil Road"
          ],
          [
           "Camden St Lwr"
          ],
          [
           "Pembroke Rd"
          ],
          [
           "Phibsboro Rd"
          ],
          [
           "East Rd"
          ],
          [
           "Rathgar Rd"
          ],
          [
           "Grace Park Rd"
          ],
          [
           "James Walk"
          ],
          [
           "Pearse St"
          ],
          [
           "Clogher Rd"
          ],
          [
           "Harolds Cross Rd"
          ],
          [
           "Sundrive Rd"
          ],
          [
           "Clanbrassil St Lwr"
          ],
          [
           "Irishtown Rd"
          ],
          [
           "Clanbrassil St Lwr"
          ],
          [
           "St Davids Terrace"
          ],
          [
           "Myrtle St"
          ],
          [
           "Hogan Pl"
          ],
          [
           "Greendale Rd"
          ],
          [
           "The Rise"
          ],
          [
           "Sundrive Rd"
          ],
          [
           "Ellis Rd"
          ],
          [
           "Drumcondra Rd Upr"
          ],
          [
           "Ranelagh Rd"
          ],
          [
           "Basin View"
          ],
          [
           "Kimmage Rd Lwr"
          ],
          [
           "North Strand Rd"
          ],
          [
           "Navan Rd"
          ],
          [
           "Kinvara Ave"
          ],
          [
           "St Andrews St"
          ],
          [
           "Clontard Road Car Park"
          ],
          [
           "Cavendish road"
          ],
          [
           "Parnell Square East"
          ],
          [
           "Westmorland St/ Aston Quay Junction"
          ],
          [
           "Lower bridge st"
          ],
          [
           "Mount Drummoud"
          ],
          [
           "Mount Drummoud 2"
          ],
          [
           "Molesworth Street "
          ],
          [
           "Sprout Kitchen, Sir John Rogerson's Quay"
          ],
          [
           "Gerards, Sir John Rogerson's Quay"
          ],
          [
           "The Lir Academy, Grand Canal Quay"
          ],
          [
           "Charlemont place"
          ],
          [
           "Grand Parade"
          ],
          [
           "Imagine, Barrow street"
          ],
          [
           "Outside Apartments, Barrow street"
          ],
          [
           "Outside Apartments, Barrow street"
          ],
          [
           "Asgard Road"
          ],
          [
           "Hume Street "
          ],
          [
           "Capel Street"
          ],
          [
           "Brunswick St North"
          ],
          [
           "8 Hatch Street Lower"
          ],
          [
           "Arthur Cox, Hatch Street Lower"
          ],
          [
           "Deloitte, Hatch Street upper"
          ],
          [
           "Rathmines Road Upper"
          ],
          [
           "Le Fanu Road, Ballyfermot"
          ],
          [
           "City Quay  & Creighton Street"
          ],
          [
           "Shandon Cres"
          ],
          [
           "North Circular Road /Emmet Street "
          ],
          [
           "Clonliffe Road"
          ],
          [
           "NCR/Belvedere Road junction "
          ],
          [
           "Coultry Park"
          ],
          [
           "Fagens pub, Botanic Ave"
          ],
          [
           "Griffth park, Botanic Ave"
          ],
          [
           "Our Lady of Dolours Chuch, Botanic Ave"
          ],
          [
           "St Ita's Road"
          ],
          [
           "Ballybough Road"
          ],
          [
           "Calderwood Road"
          ],
          [
           "Calderwood Road  2"
          ],
          [
           "Bushes Lane"
          ],
          [
           "Kenilworth Square South"
          ],
          [
           "Malahide Road"
          ],
          [
           "Cumskeys bar,  Blackhorse Ave"
          ],
          [
           "Clontarf Road"
          ],
          [
           "Clontarf Road 2"
          ],
          [
           "Loretto Convent, Sundrive Road 2"
          ],
          [
           "Claddagh Grreen"
          ],
          [
           "Richmond Row"
          ],
          [
           "Armstrong Street"
          ],
          [
           "Donore Avenue"
          ],
          [
           "Greenville Avenue"
          ],
          [
           "Spar Ranelagh Village"
          ],
          [
           "Ailesbury Gardens"
          ],
          [
           "Finglas Village (Massey Bros)"
          ],
          [
           "Newbridge Avenue"
          ],
          [
           "Richmond Street South"
          ],
          [
           "Mount Street Lower (Bord Gais)"
          ],
          [
           "Leinster Street South (Trinity Point)"
          ],
          [
           "Thunder Road café - Fleet Street"
          ],
          [
           "York Street - RSCI"
          ],
          [
           "Hanover Street East(Jct with Erne St Lower)"
          ],
          [
           "Hanover Street East(Opposite Eurospar)"
          ],
          [
           "North Wall Quay (opposite 3arena)"
          ],
          [
           "Commons Street (outside Bank of Ireland)"
          ],
          [
           "Commons Street(outside Havana)"
          ],
          [
           "Phibsborough Road (Student residences)"
          ],
          [
           "Western Way"
          ],
          [
           "Parnell Street (Jct North Great Georges St)"
          ],
          [
           "Mountjoy Street (Dublin International Youth Hospital)"
          ],
          [
           "Mountjoy Street (outside spar)"
          ],
          [
           "Sean McDermott Street Lower (swimming Pool)"
          ],
          [
           "Harcourt Road (investec)"
          ],
          [
           "Harcourt Road (Baxter & Greene)"
          ],
          [
           "Baggot Street Upper (Paddy Power)"
          ],
          [
           "Orwell Road"
          ],
          [
           "Milltown Road (Churchtown Rd Jct)"
          ],
          [
           "Serpentine Avenue"
          ],
          [
           "Church Avenue"
          ],
          [
           "Emmet Road"
          ],
          [
           "South Circular Road (dolphin electrical)"
          ],
          [
           "South Circular Road (house 582)"
          ],
          [
           "Lesson Street Upper"
          ],
          [
           "Grosvenor Square (side of House 89)"
          ],
          [
           "Shelbourne Road (centra)"
          ],
          [
           "Jamestown Road (village shopping centre)"
          ],
          [
           "Grange Road (Donaghmede Shopping Centre)"
          ],
          [
           "La Costa takeaway, Clontarf Road (in car park)"
          ],
          [
           "Seafield Road, Clontarf"
          ],
          [
           "St Bridges Road, Clontarf"
          ],
          [
           "Collins Avenue, Whitehall"
          ],
          [
           "Barryscourt Road, Pedestrian crossing at NSC"
          ],
          [
           "Bulfin Road (outside 52)"
          ],
          [
           "Suir Road (zinc hair & beauty)"
          ],
          [
           "St Gabriels Road, Clontarf East"
          ],
          [
           "Angelesea Road (Library)"
          ],
          [
           "North Circular Road (moldova Shop) Phibsborough"
          ],
          [
           "Edenmore Park"
          ],
          [
           "St Assams Park"
          ],
          [
           "Bluebell Luas Stop, Naas Road"
          ],
          [
           "Ringsend Road (Ash Ireland)"
          ],
          [
           "Omni Shopping Centre, Swords Road"
          ],
          [
           "Glengarriff Parade"
          ],
          [
           "Wilton Place"
          ],
          [
           "Clanbrassil St Lower"
          ],
          [
           "Molesworth St"
          ],
          [
           "Bolton St"
          ],
          [
           "Grosvenor Rd"
          ],
          [
           "City Quay"
          ],
          [
           "Fleet St"
          ],
          [
           "Pearce St"
          ],
          [
           "Ross Road"
          ],
          [
           "Bloomfield Ave (46)"
          ],
          [
           "South Circular Road (Jct with Donore Ave)"
          ],
          [
           "Bride St (Health Studio)"
          ],
          [
           "Bride St (Opposite 79 at Park)"
          ],
          [
           "4 Blessington St"
          ],
          [
           "Bride St (Canon Court)"
          ],
          [
           "Cuffe St (Opposite Mercer St Upper)"
          ],
          [
           "Swords Rd (Larkhill Rd Jct)"
          ],
          [
           "Barryscourt"
          ],
          [
           "Braithewaite St (Jct with Poole St)"
          ],
          [
           "Bride St (Park Entrance)"
          ],
          [
           "28 Killarney St"
          ],
          [
           "Crumlin Rd (Shop Center)"
          ],
          [
           "Crumlin Rd (Jct with Brickfield Drive)"
          ],
          [
           "Crumlin Village (Jct with Lisle Rd)"
          ],
          [
           "St Marys Rd (Agnes Terrace Jct)"
          ],
          [
           "Farnham Drive (Erins Isle GAA)"
          ],
          [
           "Shanowen Rd (St Kevins Boys Club)"
          ],
          [
           "Dunne St (Library)"
          ],
          [
           "St Patricks Close (Jct with Kevin St Upper)"
          ],
          [
           "Ballyfermot Rd (McLoughlins Butchers)"
          ],
          [
           "46 Bulfin Rd"
          ],
          [
           "Bluebell Rd (Community Center)"
          ],
          [
           "Emmet Rd (outside Library)"
          ],
          [
           "Clonard Rd (Jct with Crumlin Road)"
          ],
          [
           "Long Mile Rd (outisde Kokonut Shop)"
          ],
          [
           "16 Errigal Rd"
          ],
          [
           "St Aidans Park Rd (Jct With Malahide Rd)"
          ],
          [
           "Belgove Rd (jct with Summerville)"
          ],
          [
           "Townsend St (Jct with Mark St)"
          ],
          [
           "Ranelagh Road"
          ],
          [
           "Haddington Road"
          ],
          [
           "Clancarthy Road"
          ],
          [
           "Anglesea Road(RDS Main Venue Gate)"
          ],
          [
           "Kevin Street Lower (Outisde DIT Entrance)"
          ],
          [
           "Cabra Road (Downeys Pub @ Dowth Ave Jct)"
          ],
          [
           "Pearse Street (Outside GoHop)"
          ],
          [
           "Daniel Street (Jct Harty Place)"
          ],
          [
           "Erne Street Upper (Outsude Bike Shop) Jct Boyne St"
          ],
          [
           "Lennox Street (Bretzel Bakery)"
          ],
          [
           "Merrion Square South (Between house 76 & 77)"
          ],
          [
           "Pearse Street (The Lombard Pub)"
          ],
          [
           "Ravendale Park (Outside the Four Provnces Pub)"
          ],
          [
           "Northumberland Road (Baggot Lane Jct)"
          ],
          [
           "St Agnes Road (Outside Crumlin Garda Station)"
          ],
          [
           "Conrad Hotel, Earlsfort Terrace"
          ],
          [
           "Bishop Street (Intreo/Welfare Centre)"
          ],
          [
           "Military Road, Rathmines (opposite Blackbird)"
          ],
          [
           "Pearse Street(Outside Goldsmith Hall)"
          ],
          [
           "Bride Road (Iveagh Fitness Club)"
          ],
          [
           "Blessington Street (Jct with Mountjoy Street)"
          ],
          [
           "New Street South (Peadar Browns Pub)"
          ],
          [
           "New Street South (Fumbally Court)"
          ],
          [
           "North Circular Road (Outside Mr Tubs Dry Cleaning)"
          ],
          [
           "Lombard Street East (The Lombard Pub)"
          ],
          [
           "Macken Street (Outside Flyfit Gym - Hanover St East Jct)"
          ],
          [
           "Moss Street (Jct with Townsend Street)"
          ],
          [
           "King Street North(Jct with Green Street)"
          ],
          [
           "Pearse Street(Outside Maldron Hotel/Centra)"
          ],
          [
           "Mount Prospect Avenue (Jct with Clontarf Rd)"
          ],
          [
           "Cork Street (Robisnson Court opposite weaver park)"
          ],
          [
           "Cork Street (Intreo Center)"
          ],
          [
           "Cork Street (Southside Angling opposite Intreo)"
          ],
          [
           "Wilder & Green, Milltown"
          ],
          [
           "Oxmantown Road (Cowper Street Jct)"
          ],
          [
           "Oxmantown Road (opposite the mascott pub)"
          ],
          [
           "Blackhall Place(Jct with Blackhall Green)"
          ],
          [
           "North Circular Road(Spar @ Portland Street Jct)"
          ],
          [
           "Cork Street (Centz)"
          ],
          [
           "All Saints Drive (Outside Raheny GAA)"
          ],
          [
           "New Street South (Maldron Hotel)"
          ],
          [
           "St Stephens Green (outside RSCI)"
          ],
          [
           "Phibsborough Road (Opposite Bald Eagle Pub)"
          ],
          [
           "Causeway Road Clontarf"
          ],
          [
           "Parkgate Street (Jct with infirmary road - Nancy Hands pub)"
          ],
          [
           "Bridgefoot Street (Jct with Thomas Street)"
          ],
          [
           "Princes Street North (pennys at Oconnel Street)"
          ],
          [
           "Liffey Street"
          ],
          [
           "North Strand Road jct with Shamrock Place"
          ],
          [
           "Parkgate Street"
          ],
          [
           "Mulberry Lane Car Park"
          ],
          [
           "Leinster Street South (Building No.9)"
          ],
          [
           "Kilmainham Lane (House No.6)"
          ],
          [
           "Kimmage Road Lower"
          ],
          [
           "Wolf Tone Street (opposite Griffith College)"
          ],
          [
           "Synge Street (close to Synge Lane)"
          ],
          [
           "South Dock Street (jct with Barrow St)"
          ],
          [
           "Milltown Road (outside Poise)"
          ],
          [
           "St Stephens Green South"
          ],
          [
           "Earlsfort Terrace (Outside HPRA)"
          ],
          [
           "Chancery Place (outside Dublin Christian Mission)"
          ],
          [
           "McAuley Road (Outside Entrance to St Pauls Artane FC)"
          ],
          [
           "Wynnefield Road (Outside Rathmine Bikes)"
          ],
          [
           "Lesson Street Lower (Outside The Sugar Club)"
          ],
          [
           "East Road (Jct with Bargy Road)"
          ],
          [
           "Fassaugh Avenue (Outside Londis)"
          ],
          [
           "Grantham Street (Jct with Camden St Lower)"
          ],
          [
           "St Marys Road Ballsbridge (Jct with Baggot Lane)"
          ],
          [
           "Church Road (Outside Colt Technology)"
          ],
          [
           "East Wall Road (Jct with Sheriff St Upper)"
          ],
          [
           "Fitzmaurice Rd (Outside Ballgall Credit Union)"
          ],
          [
           "Seville Place (Jct with Oriel St Lower)"
          ],
          [
           "Percy Place (opposite Investment house)"
          ],
          [
           "Chancery Lane (Outside Plus Architecture)"
          ],
          [
           "Seville Place (Jct with Coburg Place)"
          ],
          [
           "Hatch Street Upper (Outside Eversheds)"
          ],
          [
           "Pearse Street (Outside Aras An Phiarsaigh)"
          ],
          [
           "Eblana Villas (Jct with Grand Canal Street Lower)"
          ],
          [
           "Hatch Street Upper (Outside Hardwicke House)"
          ],
          [
           "Blackhall Place (outside Spar)"
          ],
          [
           "Fassaugh Avenue (Outside NCBI)"
          ],
          [
           "Anglesea Road (Jct Merrion Road)"
          ],
          [
           "Anglesea Road (Jct Merrion Road)"
          ],
          [
           "Hatch Street Upper (Outside One Place Park)"
          ],
          [
           "Richmond Road (Jct with Richmond Avenue)"
          ],
          [
           "Mountjoy Square North (Jct with MJS East)"
          ],
          [
           "Clontarf Road (Jct with Dollymount Park)"
          ],
          [
           "Cullenswood Park ( Jct with Ranelagh Road)"
          ],
          [
           "N1 Ramp Road (Just off Ellenfield Park)"
          ],
          [
           "Lorcan Avenue (Outside Kilmardinny Inn)"
          ],
          [
           "Morehampton Road (Jct with Herbert Park)"
          ],
          [
           "Walkinstown Road (Carprk opposite Halfway house)"
          ],
          [
           "Mellows Road (Outside Community Center)"
          ],
          [
           "Fassaugh Avenue (Cabra House Pub)"
          ],
          [
           "Fassaugh Avenue (outside spar & Centra)"
          ],
          [
           "Hatch Street Upper (Outside Three Park Place)"
          ],
          [
           "Sybil Hill Road (Entrance to St Annes Park)"
          ],
          [
           "Arran Quay"
          ],
          [
           "Ovova Road (Outside City Building Supply)"
          ],
          [
           "The Ivy, Molesworth Street (Jct with Dawson St)"
          ],
          [
           "Imaal Road"
          ],
          [
           "Hockey Club, Old Finglas Road"
          ],
          [
           "James Larkin Road (Clontarf)"
          ],
          [
           "St Stephens Green South"
          ],
          [
           "Killester Ave (Jct with Killester Park)"
          ],
          [
           "Killester Ave (Jct with Killester Park)"
          ],
          [
           "Dorset Street Upper (Outside Gala)"
          ],
          [
           "Coolock Drive (Jct with Oscar Traynor Rd)"
          ],
          [
           "Elmfield Rise (Outside Spar)"
          ],
          [
           "Carlingford Road (Opposite Andersons Creperie)"
          ],
          [
           "Swords Road (The Viscount)"
          ],
          [
           "William Street North (Outside Lowrys)"
          ],
          [
           "North Wall Ave (Madden Property Consultants)"
          ],
          [
           "Kilmainham Lane (Opposite La Dolce Vita)"
          ],
          [
           "Harolds Cross Road (Greyhound Stadium)"
          ],
          [
           "Nelson Street (Centre for Nurse Ed)"
          ],
          [
           "Innisfallen Parade (Jct Dorset St Lower)"
          ],
          [
           "Arnott Street (Jct with Heytesbury St)"
          ],
          [
           "Terenure Road North (Terenure Laundrette)"
          ],
          [
           "Eamoon Ceannt Park (Clogher Rd/Rutland Rd) Sundrive Pavillion"
          ],
          [
           "Holyrood Park (Jct with Sandymount Ave)"
          ],
          [
           "Tara Street (irish Times)"
          ],
          [
           "Tara Street (irish Times)"
          ],
          [
           "Maryfield Ave (Ardlea Inn)"
          ],
          [
           "Coolock Drive (Mr Price)"
          ],
          [
           "Mourne Road (Our Lady of Mercy Secondary School)"
          ],
          [
           "St Michaels Estate (opposite Community Sports Centre)"
          ],
          [
           "Wellington Street (Delahuntys Bar)"
          ],
          [
           "Tyreconnell Road (Tesco)"
          ],
          [
           "Rathmines Road Upper (Jct with Maxwell Lane)"
          ],
          [
           "Angelesea Raod (Brookfield Apartments)"
          ],
          [
           "Dolphin Road (Crumlin)"
          ],
          [
           "Islandbridge"
          ],
          [
           "Manor Place (Manor Street Jct)"
          ],
          [
           "Drumcondra Rd Upper (Outside Insomnia)"
          ],
          [
           "Drumcondra Rd Upper ( Home Farm FC)"
          ],
          [
           "Swords Road ( Holy Child Church @ railing)"
          ],
          [
           "Swords Road (Jct Collins Ave)"
          ],
          [
           "Saint Annes Car Park"
          ],
          [
           "Frederick Street North"
          ],
          [
           "St Josephs Parade (National Training Center)"
          ],
          [
           "Greenlea Road, Terenure"
          ],
          [
           "Ellis Street"
          ],
          [
           "McHughs, Malahide Road"
          ],
          [
           "Kestral, Cromwellsfort Road"
          ],
          [
           "Spar, Donnybrook Road"
          ],
          [
           "Talbot Place"
          ],
          [
           "Simmonscourt Road"
          ],
          [
           "Lios na nOg, Oakley Road"
          ],
          [
           "Aughrim Street Sports Hall, Aughrim Street"
          ],
          [
           "Manor Street"
          ],
          [
           "Clareville Road"
          ],
          [
           "Moyne Road"
          ],
          [
           "Mount Pleasant Square"
          ],
          [
           "Finance Ireland, Pembroke Road"
          ],
          [
           "Hume House, Pembroke Road"
          ],
          [
           "The hardware Store, Dunville Avenue"
          ],
          [
           "Seafield Road West, Clontarf"
          ],
          [
           "Richmond Street North"
          ],
          [
           "Terenure College Swimming Pool, Fortfield Road"
          ],
          [
           "Mount Eden Road"
          ],
          [
           "Old Mountpleasant 1"
          ],
          [
           "Old Mountpleasant 2"
          ],
          [
           "Main Street, Chapolizad"
          ],
          [
           "Prospect Square Installation"
          ],
          [
           "Circle K, Merrion Road"
          ],
          [
           "Aparto, Dorset St Upper"
          ],
          [
           "Emmet Road (McDowells Pub)"
          ],
          [
           "Adelaide Road (Montague House)"
          ],
          [
           "Malahide Road (Kilmore Rd Jct)"
          ],
          [
           "Pembroke Street Lower (Californian Burrito Bar)"
          ],
          [
           "Dermot O'Hurley Ave"
          ],
          [
           "Mount Street Crescent (Herbert St Jct)"
          ],
          [
           "Walkinstown Green (Heritage Credit Union)"
          ],
          [
           "Mespil Road (Opposite building 39)"
          ],
          [
           "Kings Inn Street"
          ],
          [
           "Tyrconnell Street (Tyreconnel Road Jct)"
          ],
          [
           "Dartmouth Road (Dartmouth Place Jct)"
          ],
          [
           "Crawford Ave (Iona Road Jct)"
          ],
          [
           "Cumberland Road (Fitzwilliam Place Jct)"
          ],
          [
           "Adelaide Road (jct Hatch Lane)"
          ],
          [
           "Slievenamon Road (Keeper Road Jct)"
          ],
          [
           "Shelbourne Road (Starbucks)"
          ],
          [
           "Herbert Park (astro turf entrance)"
          ],
          [
           "Swords Street (Thor Park)"
          ],
          [
           "Swords Street (Finn Street Jct)"
          ],
          [
           "Patrick Street (St Patricks Cathedral)"
          ],
          [
           "Seafield Road West (St John Baptist School)"
          ],
          [
           "Drumcondra Road (Chilli Banana)"
          ],
          [
           "Townsend Street"
          ],
          [
           "Emmet Road"
          ],
          [
           "Aungier Street"
          ],
          [
           "Emmet Road"
          ],
          [
           "Leinster Street North"
          ],
          [
           "Oxmantown Road"
          ],
          [
           "Clare Road"
          ],
          [
           "Clonmel Street"
          ],
          [
           "Kimmage Grove"
          ],
          [
           "St Alphonsus Road"
          ],
          [
           "Blackhall Street"
          ],
          [
           "Ely Place"
          ],
          [
           "Albert College Park"
          ],
          [
           "Viking Place"
          ],
          [
           "Ballyfermot Road"
          ],
          [
           "South Circular Road"
          ]
         ],
         "hovertemplate": "<b>%{hovertext}</b><br><br>type=Stand<br>X=%{lat}<br>Y=%{lon}<br>location_stand=%{customdata[0]}<extra></extra>",
         "hovertext": [
          "East wall road outside the O2",
          "Camden street lower, outside centra shop",
          "Marks lane",
          "Custom House Quay, outside AIB International Centre",
          "Pearce street outside garden area",
          "Middle abbey street, outside arnotts carpark",
          "Foley street",
          "Bloomington street outside Dargans pharmacy.",
          "Parnell square north",
          "William street south, duke street gallery.",
          "North king street",
          "Maggot street lower outside Medmark healthcare ",
          "Cuffe street, across from O'callaghan Stephen green hotel",
          "Parnell street outside temple hall",
          "Parnell street outside beauty chic",
          "Parnell street, outside 147 deli",
          "Wexford street, Infront of bank of ireland",
          "Bottom of George's street, beside the mercantile",
          "Fitzwilliam Place",
          "Capel street outside AIB bank",
          "Merrion street lower",
          "Earlsfort Terrace",
          "Abbey street lower near abbey street luas station",
          "Amiens street under train tracks",
          "North circular road outside carolans off licence",
          "Dorset Street Upper, outside Ritzy Rags Shop",
          "Foley street",
          "Dorset street upper outside techno logic ",
          "Parnell street outside lomdis",
          "Top of Parnell street opposite Londis",
          "St Stephens green Luas, in front of certus",
          "Tara street",
          "Mayor street upper beside the point luas station",
          "Mountjoy square noeth",
          "Exchequer Street, outside Fallon Byrne ",
          "Stephens street upper, beside IBOA House",
          "George's street great south outside Dublin business school",
          "Exchequer street",
          "Jervis street",
          "Patrick street opposite daybreak shop",
          "Opposite 179 Church street",
          "Baht street lower outside Larry Murphy's",
          "Maggot street lower outside bank of ireland",
          "Westland row",
          "Pearce street",
          "Aungier street outside DIT",
          "Capel street outside Dublin College of Advanced Studies",
          "Kings Inn Street",
          "top of Parnell street",
          "Parnell Street, outside Burger King",
          "Mary street outside Mary Mall",
          "Berkeley road outside Flanagans pharmacy",
          "Mayor street lower outside AIB",
          "George's Dock across the road from KPMG",
          "Suffolk street",
          "Westmoreland street",
          "Pearce street",
          "Wolfe Tone Street, outside Alexanders bridal shop",
          "Start of kings inn street",
          "Jervis street, outside McDonolds.",
          "Camden street lower",
          "High street",
          "York street, royal college of surgeons",
          "Parnell street",
          "Marlborough street outside eircom and kanoodle",
          "Parnell street outside euro giant",
          "Start of Summer hill",
          "St. Stephens Green, outside oxfam and specsavers",
          "Parnell Street, outside Alexander's bridal shop",
          "Merrion square North",
          "Mount street lower opposite new mount house",
          "Harcourt road, in front of regius building",
          "Mercer street outside DCC",
          "Marlborough street outside admiral restraunt",
          "Eden Quay ooutside Liberty Hall",
          "Talbot Street outside Singer shop",
          "York street, across from Dublinbike station",
          "Johnstons place outside pearls shop",
          "Camden street lower, outside cracker nut cafe",
          "Blessignton street outside La Pausa cafe",
          "North circular road and belvidire road junction",
          "Camden street lower, across from Fontana cafe",
          "Parnell square west",
          "Merrion street lower island",
          "Hatch street lower",
          "Capel street outside capel kebab and pizza house",
          "Jervis street opposite TP Smiths",
          "Aaran quay outside bank of Ireland",
          "Grattan bridge ",
          "Parliament Street across from florentina restaurant",
          "Parliament street, outside subway ",
          "Burgh quay",
          "Fatima luas stop",
          "Phoenix street north",
          "Merrion square east",
          "North kings street",
          "North kings streetboutside macro",
          "Fitzwilliam street lower",
          "Phisborough road opposite mc donalds",
          "Middle abbey street ",
          "Middle abbey street outside hidden hearing.",
          "Middle abbey street, outside celebration party shop.",
          "St Stephen's green North",
          "Sack like place",
          "Goldsworthy street outside Foxx Coffee House",
          "Lincoln Place",
          "Mount street upper",
          "Mount street lower opposite howl at the moon club",
          "Georges Quay",
          "Grand canal docks",
          "Grand canal docks outside fresh",
          "Blood stone road",
          "Both wall quay, opposite the Spenser. ",
          "Sir john Robertson quay",
          "Start of Leinster street south",
          "Marlborough street opposite An Board Pleanala ",
          "Mount street lower outside board bia",
          "Camden street lower, Infront of enable ireland",
          "North strand road",
          "Amiens street outside the funky skunk",
          "Bolton Street, outside DIT",
          "Eden Quay outside Beresford Court",
          "Talbot street outside Guiney and co.",
          "Top of Parnell street outside Foleys pharmacy",
          "St Stephens green north outside permanent tsb",
          "Jervis Street outside Penny's",
          "Wexford street, djinn shop, across the road from opium\r\n",
          "Aungier street, outside YMCA",
          "Cathal Brugha street",
          "Cathal Brugha Street outside DIT",
          "Camden street lower, Simon community shop,.",
          "Coppinger row",
          "Parnell street outside Centra ",
          "Start of st. Stephen's Green terrace. ",
          "Pembroke street lower, opposite coffee angel.",
          "O'Connell street, median, behind Sir John Gray monument",
          "South Circular road tesco",
          "Essex street east, outside the Clarence hotel",
          "The coombe outside ovenden house. ",
          "College green, median",
          "North king street",
          "End of Adelaide road beside kiosk",
          "Start of Fitzwilliam square north",
          "Middle abbey street,  outside independent house newspaper limited.",
          "Middle abbey street, outside austrailia travel.",
          "Grand canal street lower",
          "Mount street lower opposite new mount house",
          "D'Oliver street",
          "Foley street outside dance Irelamd",
          "Blood stone road",
          "Mayor square outside Snap and national college of Ireland.",
          "Fade street, outside the rage record store",
          "Hume street",
          "Wolfe tone street",
          "Wolfe tone street outside AXA office",
          "Coppinger row ",
          "Saclville Place",
          "Trinity street",
          "Pearce street opposite parser square",
          "Parnell street outside cineworld.",
          "Abbey Street Lower, outside Abbey Theatre.",
          "Abbey Street Lower outside Beresford Court.",
          "Pearce street and Townsend street",
          "Stephens green, in front of beneton shop",
          "East wall road outside the O2 ",
          "Bedford row, beside Ladbrokes",
          "Talbot Street outside Carrolls shop",
          "Fleet Street, outside TGI restaurant.",
          "Aston quay, outside house of colour",
          "Harcourt street outside Starbucks ",
          "New bride street , Infront of small green",
          "Mount street ctescent",
          "Beresford Place median",
          "Kevin's street outside o haras pharmacy",
          "Dorset street outside gaa ticket office ",
          "Wexford street, Infront of mega bikes.",
          "Camden street lower, outside ulster bank",
          "Mountjoy square south outside dit",
          "Noel Purcell Walk, Infront of beaux lane house",
          "Chatham road, outside Mao restaurant",
          "William street south, outside dada restautsnt",
          "Saint Andrew street",
          "South George's street, outside Diwali",
          "George's street, outside Hogans pub",
          "Berkeley road outside Berkeley wash",
          "Cathal Brugha street outside the Irish aid office",
          "Cork street",
          "Camden street lower, Infront of icon health store. ",
          "Drury street, outside Carousel",
          "Drury street outside Irish design shop",
          "End of Hatch street lower, both sides of the road, outside cafe sol",
          "Hatch street lower",
          "George's street, opposite Dublin business school",
          "Open square beside Dublin City hall",
          "Capel street outside spar",
          "Great strand street, outside pantibar",
          "Essex street west, outside the gaiety school of acting.",
          "Wellington quay",
          "Four courts luas stop",
          "Marlborough street",
          "Thomas street across from the hill top bar",
          "Francis street opposite the liberty bell pub",
          "Cornmarket street outside farrow and ball",
          "May lane outside Hanley at the bar",
          "North kings street outside centra",
          "Cathal Brugha Street outside the Living Room pub",
          "Parliament street outside paramount hotel",
          "Parliament street outside spar shop",
          "Eustace street, outside the Italian corner restaurant",
          "Essex street, outside the shack restaurant.",
          "Cope street, behind central bank",
          "Temple bar, outside Rory's fishing shop.",
          "Fleet Street, outside hard rock cafe",
          "Burgh quay",
          "Cork street",
          "Westmorleland street, outside Bewleys",
          "Christchurch square",
          "Thomas street outside st johns priory",
          "Merchants quay",
          "Parkgate street outside Landis\\subwau",
          "Capel street, outside mcQuillan tools",
          "Fitzwilliam street upper",
          "Fitzwilliam street lower",
          "Fitzwilliam street lower",
          "Church street Londis",
          "Top of Smithfield",
          "Fitzwilliam square north",
          "Manor street",
          "Middle abbey street across the road from the Gin Palace  pub",
          "Camden street, Infront of great deals store.",
          "Berkeley road outside post office",
          "Liffey street outside entrance to Arnotts.",
          "Mount street uppwr",
          "Charlemont place beside luas station ",
          "Grand canal docks",
          "Admiral brown street",
          "All along Forbes street",
          "Blood stone /road horse fair intersection",
          "A'll along bood stone road",
          "All along Forbes street",
          "Fade street, outside hogans bar",
          "Benson street",
          "Horse fair",
          "Prussia street",
          "Start of South William street, outside jewl in the crown",
          " Parnell square west outside the rotunda hospital ",
          "Queen street, probation service ",
          "Christ church place, outside sunny's newsagent",
          "Wexford street, outside solo clothes shop.",
          "Francis street outside reillys pharmacy ",
          "Houston train station",
          "Top of baggot street lower, end of pembroke street lower",
          "Edge of exchequer street, outside pharmacy and rustic stone",
          "Essex street, outside zaytoon",
          "Dame street,  outside Nico's restaurant",
          "Prince's street north, outside penny's.",
          "Leinster street south outside TCD Leinster street",
          "Aungier street outside DIT",
          "Start of castle street",
          "Molesworth street, ",
          "Parnell Streer outside Aldi",
          "Prince's street north, outside penny's",
          "Talbot street outside wake cup",
          "Capel Street, outside The Horse Shoe shop",
          "Parnell street outside king fisher restraunt.",
          "Johnstone place, outside pharmacy",
          "Camden street upper, outside damascus gate restaurant ",
          "Trinity street, outside jack jones shop",
          "End of Liffey street lower, outside the grand social",
          "End of Patricia street outside spar",
          "Start of westborough street, beside the butchers bar",
          "Heuston Luas stop",
          "James street outside McCanns pub",
          "Thomas street outside Massey bros funeral home",
          "Essex street east, outside costa cafe.",
          "Eustace street, outside the orseman pub",
          "Cecilia street, outside temple lane recording studios",
          "Cecilia street, outside luigi malones restaurant",
          "Fleet Street, across from thunder road cafe",
          "Infirmary road",
          "Middle abbey street outside arnotts.",
          "Upper abbey street near the Jervia Luas stop.",
          "Talbot street across the road from Paddy Power",
          "Top of Forbes street",
          "All along blood stone road",
          "North Circular road outside Matter hospital. ",
          "Parnell street outside Jervis medical centre",
          "Wood quay, outside DCC",
          "Start of marborough street outside the abbey theatre",
          "Ormond square",
          "Drury street, outside George's st. arcade",
          "Sponsor Dock Luas station",
          "Outside criminal courts of justice",
          "Houston station,",
          "Eden quay",
          "Chatham road, outside DIT music and drama",
          "Parnell street outside cycleways. ",
          "Bottom of grafton streer",
          "Baggot street lower outside tailored finance.",
          "Essex street, outside the porterhouse pub",
          "Wexford street, in front of whelans off licence",
          "Capel street outside codys of Capel Street.",
          "Parnell street across the road from Euro Giant shop",
          "Marlborough Street outside Spar shop",
          "Amiens Street at Luas station",
          "Camden street, outside penny farthing cycles",
          "Camden street lower, outside tommy Moore jewellers",
          "Cavendish road outside the Ambassador theatre.",
          "Beresford Place Infront of Busaras.",
          "Burgh quay, outside Jaffa deli",
          "Hawkins street, outside PCI college",
          "Westmoreland street, outside fexco",
          "College green, outside dubarry of Ireland shop",
          "Mabbot lane",
          "Top of Parnell square east.",
          "Bresford Place beside Liberty Hall and bus eireann bus stop",
          "Ovoca",
          "Hawkins street",
          "Cumberland street North outside nam thanh supermarket",
          "Clarendon street, across from BT",
          "Store street outside Bus Eireann",
          "North Frederick street outside Lady beauty Parlour",
          "South George's street, outside laser dvd",
          "Georges dock outside Ely chq",
          "Smithfield near luas station",
          "St James hospital",
          "Brooksfield road outside mace",
          "Tara street",
          "Bottom of Westmoreland street",
          "D'Oliver street",
          "Top of Capel Street",
          "Swift Row",
          "Bride Road",
          "Luke Street",
          "Francis Street at Thomas Street end",
          "Exchange Street Upper",
          "Charlemont Street ",
          "Clanbrassil St north of Fumbally Lane",
          "Clanbrassil St south of Fumbally Lane",
          "Mary Street east of Jervis Lane Lower",
          "Thomas Davis Street South at Francis St end",
          "Ryders Row",
          "St Andrews Street",
          "Dame Court",
          "Barrow Street",
          "Ringsend Road",
          "Capel Street",
          "Green Street",
          "Dorset Street Lower",
          "Blessington Street",
          "King Street North",
          "Francis Street",
          "Patrick Street",
          "Moore Street",
          "Moore Street",
          "Moore Street",
          "Bellevue",
          "Golden Lane",
          "St. Stephens Green South",
          "St. Stephens Green West",
          "Kevin Street Lower",
          "Richmond Street South",
          "Richmond Street South",
          "Pleasents Street",
          "Oliver Bond Street",
          "Causeway Road",
          "Griffith Avenue",
          "Eden Quay",
          "Jervis Street 1",
          "Jervis Street 2",
          "Store Street",
          "North Circular Road",
          "North Circular Road",
          "Philbsborough Road/Connaught St",
          "Cardiff Lane",
          "Redstables Market",
          "Marks Alley West",
          "Carman's Hall at Francis Street",
          "Carman's Hall at Meath Street",
          "Dean Street",
          "Thomas Street",
          "Augustine Street West at Cornmarket",
          "North Wall Quay ",
          "Northern Campshires",
          "Washington Street",
          "Greenville Terrace",
          "North Circular Road Opposite Library",
          "North Circular Road West of Berkeley Road",
          "Goldsmith Street Westside",
          "Phibsborough Road outside Doyles Bar",
          "Phibsborough Road Westside at Thunders Bakery",
          "Phibsborough Road Eastside south of NCR at AIB",
          "Phibsborough Road Eastside at Rothar",
          "North Circular Road east of Phibsborough Rd at Doyles",
          " Stoney Batter eastside outside Centra",
          "Manor Street eastside at Grants",
          "Manor Street eastside outside No. 3",
          "Manor Street westside",
          "Stephen Street Lower",
          "York Street, southside at Bright Wash",
          "Patrick Street ",
          "Bishop Street",
          "Cuffe Street",
          "Holles Street",
          "Pearse Street outside subway",
          "Pearse Street outside Trinity Business",
          "Parkgate Street outside Nancy Hands",
          "Parkgate Street outside Westbrook Motors",
          "Blackhall Place",
          "Haymarket",
          "Coke Lane",
          "Baggot Street Lower at James Street East (Bank of Ireland)",
          "Baggot Street Lower west of Pembroke St Lower",
          "Wilton Terrace, at junction with Wilton Place",
          "Mount Street Lower outside No 33",
          "Herbert Street, south of Convent Close",
          "Sir John Rogerson's Quay east of Cardiff Lane",
          "Whitefriar Street, eastside south of Golden Lane",
          "Merrion Square North opposite No.6",
          "Fenian Street ,northside  east of Bass Place",
          "Adelaide Road , northside outside Eye and Ear Hospital",
          "Ailesbury Road, northside, west of Merlyn Park",
          "Strand Road Car Park, opposite No.9 Adelaide Mews",
          "Sandymout Village, eastside opposite No .95",
          "Sandymout Village, westside outsideNo .95",
          "Tudor Road, westside opposite Cowper Gardens ",
          "Pine Road, northeastern corner at Ringsend Park",
          "Fitzwilliam Street westside, north of Bridge Street",
          "Ormond Quay Upper northside outside No.31-36",
          "Ormond Quay Upper northside outside No. 20",
          "Mary Street, southside east of Capel Street",
          "Yarnhall Street,  northside west of Bolton Street",
          "Parnell Square West south of entrance to Rotunda Hospital",
          "Parnell Square North opposite No. 18",
          "Beresford Lane, northside west of Gardiner Street Lower",
          "Talbot Street, northside under railway bridge",
          "Sheriff Street Upper,  northside opposite Castleforbes Street",
          "Sheriff Street Upper,  northside outside train station",
          "Mountjoy Square South northside opposite No. 40-45",
          "Mountjoy Square South, southside outside No. 48",
          "Gardiner Place northside at Temple Street",
          " Kings Inn Street",
          "Eccles street ",
          "Temple Street North ",
          "Temple Street North",
          "Marys Lane ",
          " Herbert Park ",
          " Merchants Quay ",
          " New Street South ",
          " Meath Street ",
          "Newmarket ",
          "Francis Street ",
          " High Street ",
          "Meath Street",
          " School Street",
          " James Street ",
          " Bridgefoot Street ",
          "St Johns Road West ",
          " Watling Street ",
          "  Taylor’s lane",
          "   Saint Augustine Street ",
          " Grattan Crescent ",
          "  Leinster Square ",
          "  Howth Road ",
          " Raheny Main Street ",
          " Vernon Avenue ",
          " Drumcondra Road Upper",
          "  Clonliffe Road ",
          "  Finglas Road ",
          " Seamus Ennis Road ",
          "Finglas Road",
          "Coolock Main Street ",
          "Poolbeg  ",
          " South Earl Street.",
          " John Street West.",
          " Ormond Street.",
          " Ashtown Grove.",
          " Cameron Street.",
          " Benbulbin Road.",
          " Keeper Road.",
          "South Circular Road.",
          " Prospect Way.",
          " South Circular Road.",
          " Glasanaon Road.",
          " City Quay.",
          "Essex Street East.",
          "Wellington Quay.",
          "Clontarf Road.",
          "Parliment Street",
          "Fairview Avenue Lower.",
          "Bannow Road.",
          "Old Finglas Road.",
          "Prospect Square.",
          "Finglas Road.",
          "Ballymun road.",
          "Gateway Crescent.",
          "Millmount Avenue.",
          "Navan Road.",
          "Strand Road Car Park.",
          "Naas Road.",
          " Strand Road Car Park.",
          "Merrion Road",
          "Pearse St",
          "Harolds Cross Rd",
          "Oliver Bond St",
          "Drumcondra Rd Lwr",
          "Rathmines Rd Upr",
          "Charlemont St",
          "Mespil Road",
          "Camden St Lwr",
          "Pembroke Rd",
          "Phibsboro Rd",
          "East Rd",
          "Rathgar Rd",
          "Grace Park Rd",
          "James Walk",
          "Pearse St",
          "Clogher Rd",
          "Harolds Cross Rd",
          "Sundrive Rd",
          "Clanbrassil St Lwr",
          "Irishtown Rd",
          "Clanbrassil St Lwr",
          "St Davids Terrace",
          "Myrtle St",
          "Hogan Pl",
          "Greendale Rd",
          "The Rise",
          "Sundrive Rd",
          "Ellis Rd",
          "Drumcondra Rd Upr",
          "Ranelagh Rd",
          "Basin View",
          "Kimmage Rd Lwr",
          "North Strand Rd",
          "Navan Rd",
          "Kinvara Ave",
          "St Andrews St",
          "Clontard Road Car Park",
          "Cavendish road",
          "Parnell Square East",
          "Westmorland St/ Aston Quay Junction",
          "Lower bridge st",
          "Mount Drummoud",
          "Mount Drummoud 2",
          "Molesworth Street ",
          "Sprout Kitchen, Sir John Rogerson's Quay",
          "Gerards, Sir John Rogerson's Quay",
          "The Lir Academy, Grand Canal Quay",
          "Charlemont place",
          "Grand Parade",
          "Imagine, Barrow street",
          "Outside Apartments, Barrow street",
          "Outside Apartments, Barrow street",
          "Asgard Road",
          "Hume Street ",
          "Capel Street",
          "Brunswick St North",
          "8 Hatch Street Lower",
          "Arthur Cox, Hatch Street Lower",
          "Deloitte, Hatch Street upper",
          "Rathmines Road Upper",
          "Le Fanu Road, Ballyfermot",
          "City Quay  & Creighton Street",
          "Shandon Cres",
          "North Circular Road /Emmet Street ",
          "Clonliffe Road",
          "NCR/Belvedere Road junction ",
          "Coultry Park",
          "Fagens pub, Botanic Ave",
          "Griffth park, Botanic Ave",
          "Our Lady of Dolours Chuch, Botanic Ave",
          "St Ita's Road",
          "Ballybough Road",
          "Calderwood Road",
          "Calderwood Road  2",
          "Bushes Lane",
          "Kenilworth Square South",
          "Malahide Road",
          "Cumskeys bar,  Blackhorse Ave",
          "Clontarf Road",
          "Clontarf Road 2",
          "Loretto Convent, Sundrive Road 2",
          "Claddagh Grreen",
          "Richmond Row",
          "Armstrong Street",
          "Donore Avenue",
          "Greenville Avenue",
          "Spar Ranelagh Village",
          "Ailesbury Gardens",
          "Finglas Village (Massey Bros)",
          "Newbridge Avenue",
          "Richmond Street South",
          "Mount Street Lower (Bord Gais)",
          "Leinster Street South (Trinity Point)",
          "Thunder Road café - Fleet Street",
          "York Street - RSCI",
          "Hanover Street East(Jct with Erne St Lower)",
          "Hanover Street East(Opposite Eurospar)",
          "North Wall Quay (opposite 3arena)",
          "Commons Street (outside Bank of Ireland)",
          "Commons Street(outside Havana)",
          "Phibsborough Road (Student residences)",
          "Western Way",
          "Parnell Street (Jct North Great Georges St)",
          "Mountjoy Street (Dublin International Youth Hospital)",
          "Mountjoy Street (outside spar)",
          "Sean McDermott Street Lower (swimming Pool)",
          "Harcourt Road (investec)",
          "Harcourt Road (Baxter & Greene)",
          "Baggot Street Upper (Paddy Power)",
          "Orwell Road",
          "Milltown Road (Churchtown Rd Jct)",
          "Serpentine Avenue",
          "Church Avenue",
          "Emmet Road",
          "South Circular Road (dolphin electrical)",
          "South Circular Road (house 582)",
          "Lesson Street Upper",
          "Grosvenor Square (side of House 89)",
          "Shelbourne Road (centra)",
          "Jamestown Road (village shopping centre)",
          "Grange Road (Donaghmede Shopping Centre)",
          "La Costa takeaway, Clontarf Road (in car park)",
          "Seafield Road, Clontarf",
          "St Bridges Road, Clontarf",
          "Collins Avenue, Whitehall",
          "Barryscourt Road, Pedestrian crossing at NSC",
          "Bulfin Road (outside 52)",
          "Suir Road (zinc hair & beauty)",
          "St Gabriels Road, Clontarf East",
          "Angelesea Road (Library)",
          "North Circular Road (moldova Shop) Phibsborough",
          "Edenmore Park",
          "St Assams Park",
          "Bluebell Luas Stop, Naas Road",
          "Ringsend Road (Ash Ireland)",
          "Omni Shopping Centre, Swords Road",
          "Glengarriff Parade",
          "Wilton Place",
          "Clanbrassil St Lower",
          "Molesworth St",
          "Bolton St",
          "Grosvenor Rd",
          "City Quay",
          "Fleet St",
          "Pearce St",
          "Ross Road",
          "Bloomfield Ave (46)",
          "South Circular Road (Jct with Donore Ave)",
          "Bride St (Health Studio)",
          "Bride St (Opposite 79 at Park)",
          "4 Blessington St",
          "Bride St (Canon Court)",
          "Cuffe St (Opposite Mercer St Upper)",
          "Swords Rd (Larkhill Rd Jct)",
          "Barryscourt",
          "Braithewaite St (Jct with Poole St)",
          "Bride St (Park Entrance)",
          "28 Killarney St",
          "Crumlin Rd (Shop Center)",
          "Crumlin Rd (Jct with Brickfield Drive)",
          "Crumlin Village (Jct with Lisle Rd)",
          "St Marys Rd (Agnes Terrace Jct)",
          "Farnham Drive (Erins Isle GAA)",
          "Shanowen Rd (St Kevins Boys Club)",
          "Dunne St (Library)",
          "St Patricks Close (Jct with Kevin St Upper)",
          "Ballyfermot Rd (McLoughlins Butchers)",
          "46 Bulfin Rd",
          "Bluebell Rd (Community Center)",
          "Emmet Rd (outside Library)",
          "Clonard Rd (Jct with Crumlin Road)",
          "Long Mile Rd (outisde Kokonut Shop)",
          "16 Errigal Rd",
          "St Aidans Park Rd (Jct With Malahide Rd)",
          "Belgove Rd (jct with Summerville)",
          "Townsend St (Jct with Mark St)",
          "Ranelagh Road",
          "Haddington Road",
          "Clancarthy Road",
          "Anglesea Road(RDS Main Venue Gate)",
          "Kevin Street Lower (Outisde DIT Entrance)",
          "Cabra Road (Downeys Pub @ Dowth Ave Jct)",
          "Pearse Street (Outside GoHop)",
          "Daniel Street (Jct Harty Place)",
          "Erne Street Upper (Outsude Bike Shop) Jct Boyne St",
          "Lennox Street (Bretzel Bakery)",
          "Merrion Square South (Between house 76 & 77)",
          "Pearse Street (The Lombard Pub)",
          "Ravendale Park (Outside the Four Provnces Pub)",
          "Northumberland Road (Baggot Lane Jct)",
          "St Agnes Road (Outside Crumlin Garda Station)",
          "Conrad Hotel, Earlsfort Terrace",
          "Bishop Street (Intreo/Welfare Centre)",
          "Military Road, Rathmines (opposite Blackbird)",
          "Pearse Street(Outside Goldsmith Hall)",
          "Bride Road (Iveagh Fitness Club)",
          "Blessington Street (Jct with Mountjoy Street)",
          "New Street South (Peadar Browns Pub)",
          "New Street South (Fumbally Court)",
          "North Circular Road (Outside Mr Tubs Dry Cleaning)",
          "Lombard Street East (The Lombard Pub)",
          "Macken Street (Outside Flyfit Gym - Hanover St East Jct)",
          "Moss Street (Jct with Townsend Street)",
          "King Street North(Jct with Green Street)",
          "Pearse Street(Outside Maldron Hotel/Centra)",
          "Mount Prospect Avenue (Jct with Clontarf Rd)",
          "Cork Street (Robisnson Court opposite weaver park)",
          "Cork Street (Intreo Center)",
          "Cork Street (Southside Angling opposite Intreo)",
          "Wilder & Green, Milltown",
          "Oxmantown Road (Cowper Street Jct)",
          "Oxmantown Road (opposite the mascott pub)",
          "Blackhall Place(Jct with Blackhall Green)",
          "North Circular Road(Spar @ Portland Street Jct)",
          "Cork Street (Centz)",
          "All Saints Drive (Outside Raheny GAA)",
          "New Street South (Maldron Hotel)",
          "St Stephens Green (outside RSCI)",
          "Phibsborough Road (Opposite Bald Eagle Pub)",
          "Causeway Road Clontarf",
          "Parkgate Street (Jct with infirmary road - Nancy Hands pub)",
          "Bridgefoot Street (Jct with Thomas Street)",
          "Princes Street North (pennys at Oconnel Street)",
          "Liffey Street",
          "North Strand Road jct with Shamrock Place",
          "Parkgate Street",
          "Mulberry Lane Car Park",
          "Leinster Street South (Building No.9)",
          "Kilmainham Lane (House No.6)",
          "Kimmage Road Lower",
          "Wolf Tone Street (opposite Griffith College)",
          "Synge Street (close to Synge Lane)",
          "South Dock Street (jct with Barrow St)",
          "Milltown Road (outside Poise)",
          "St Stephens Green South",
          "Earlsfort Terrace (Outside HPRA)",
          "Chancery Place (outside Dublin Christian Mission)",
          "McAuley Road (Outside Entrance to St Pauls Artane FC)",
          "Wynnefield Road (Outside Rathmine Bikes)",
          "Lesson Street Lower (Outside The Sugar Club)",
          "East Road (Jct with Bargy Road)",
          "Fassaugh Avenue (Outside Londis)",
          "Grantham Street (Jct with Camden St Lower)",
          "St Marys Road Ballsbridge (Jct with Baggot Lane)",
          "Church Road (Outside Colt Technology)",
          "East Wall Road (Jct with Sheriff St Upper)",
          "Fitzmaurice Rd (Outside Ballgall Credit Union)",
          "Seville Place (Jct with Oriel St Lower)",
          "Percy Place (opposite Investment house)",
          "Chancery Lane (Outside Plus Architecture)",
          "Seville Place (Jct with Coburg Place)",
          "Hatch Street Upper (Outside Eversheds)",
          "Pearse Street (Outside Aras An Phiarsaigh)",
          "Eblana Villas (Jct with Grand Canal Street Lower)",
          "Hatch Street Upper (Outside Hardwicke House)",
          "Blackhall Place (outside Spar)",
          "Fassaugh Avenue (Outside NCBI)",
          "Anglesea Road (Jct Merrion Road)",
          "Anglesea Road (Jct Merrion Road)",
          "Hatch Street Upper (Outside One Place Park)",
          "Richmond Road (Jct with Richmond Avenue)",
          "Mountjoy Square North (Jct with MJS East)",
          "Clontarf Road (Jct with Dollymount Park)",
          "Cullenswood Park ( Jct with Ranelagh Road)",
          "N1 Ramp Road (Just off Ellenfield Park)",
          "Lorcan Avenue (Outside Kilmardinny Inn)",
          "Morehampton Road (Jct with Herbert Park)",
          "Walkinstown Road (Carprk opposite Halfway house)",
          "Mellows Road (Outside Community Center)",
          "Fassaugh Avenue (Cabra House Pub)",
          "Fassaugh Avenue (outside spar & Centra)",
          "Hatch Street Upper (Outside Three Park Place)",
          "Sybil Hill Road (Entrance to St Annes Park)",
          "Arran Quay",
          "Ovova Road (Outside City Building Supply)",
          "The Ivy, Molesworth Street (Jct with Dawson St)",
          "Imaal Road",
          "Hockey Club, Old Finglas Road",
          "James Larkin Road (Clontarf)",
          "St Stephens Green South",
          "Killester Ave (Jct with Killester Park)",
          "Killester Ave (Jct with Killester Park)",
          "Dorset Street Upper (Outside Gala)",
          "Coolock Drive (Jct with Oscar Traynor Rd)",
          "Elmfield Rise (Outside Spar)",
          "Carlingford Road (Opposite Andersons Creperie)",
          "Swords Road (The Viscount)",
          "William Street North (Outside Lowrys)",
          "North Wall Ave (Madden Property Consultants)",
          "Kilmainham Lane (Opposite La Dolce Vita)",
          "Harolds Cross Road (Greyhound Stadium)",
          "Nelson Street (Centre for Nurse Ed)",
          "Innisfallen Parade (Jct Dorset St Lower)",
          "Arnott Street (Jct with Heytesbury St)",
          "Terenure Road North (Terenure Laundrette)",
          "Eamoon Ceannt Park (Clogher Rd/Rutland Rd) Sundrive Pavillion",
          "Holyrood Park (Jct with Sandymount Ave)",
          "Tara Street (irish Times)",
          "Tara Street (irish Times)",
          "Maryfield Ave (Ardlea Inn)",
          "Coolock Drive (Mr Price)",
          "Mourne Road (Our Lady of Mercy Secondary School)",
          "St Michaels Estate (opposite Community Sports Centre)",
          "Wellington Street (Delahuntys Bar)",
          "Tyreconnell Road (Tesco)",
          "Rathmines Road Upper (Jct with Maxwell Lane)",
          "Angelesea Raod (Brookfield Apartments)",
          "Dolphin Road (Crumlin)",
          "Islandbridge",
          "Manor Place (Manor Street Jct)",
          "Drumcondra Rd Upper (Outside Insomnia)",
          "Drumcondra Rd Upper ( Home Farm FC)",
          "Swords Road ( Holy Child Church @ railing)",
          "Swords Road (Jct Collins Ave)",
          "Saint Annes Car Park",
          "Frederick Street North",
          "St Josephs Parade (National Training Center)",
          "Greenlea Road, Terenure",
          "Ellis Street",
          "McHughs, Malahide Road",
          "Kestral, Cromwellsfort Road",
          "Spar, Donnybrook Road",
          "Talbot Place",
          "Simmonscourt Road",
          "Lios na nOg, Oakley Road",
          "Aughrim Street Sports Hall, Aughrim Street",
          "Manor Street",
          "Clareville Road",
          "Moyne Road",
          "Mount Pleasant Square",
          "Finance Ireland, Pembroke Road",
          "Hume House, Pembroke Road",
          "The hardware Store, Dunville Avenue",
          "Seafield Road West, Clontarf",
          "Richmond Street North",
          "Terenure College Swimming Pool, Fortfield Road",
          "Mount Eden Road",
          "Old Mountpleasant 1",
          "Old Mountpleasant 2",
          "Main Street, Chapolizad",
          "Prospect Square Installation",
          "Circle K, Merrion Road",
          "Aparto, Dorset St Upper",
          "Emmet Road (McDowells Pub)",
          "Adelaide Road (Montague House)",
          "Malahide Road (Kilmore Rd Jct)",
          "Pembroke Street Lower (Californian Burrito Bar)",
          "Dermot O'Hurley Ave",
          "Mount Street Crescent (Herbert St Jct)",
          "Walkinstown Green (Heritage Credit Union)",
          "Mespil Road (Opposite building 39)",
          "Kings Inn Street",
          "Tyrconnell Street (Tyreconnel Road Jct)",
          "Dartmouth Road (Dartmouth Place Jct)",
          "Crawford Ave (Iona Road Jct)",
          "Cumberland Road (Fitzwilliam Place Jct)",
          "Adelaide Road (jct Hatch Lane)",
          "Slievenamon Road (Keeper Road Jct)",
          "Shelbourne Road (Starbucks)",
          "Herbert Park (astro turf entrance)",
          "Swords Street (Thor Park)",
          "Swords Street (Finn Street Jct)",
          "Patrick Street (St Patricks Cathedral)",
          "Seafield Road West (St John Baptist School)",
          "Drumcondra Road (Chilli Banana)",
          "Townsend Street",
          "Emmet Road",
          "Aungier Street",
          "Emmet Road",
          "Leinster Street North",
          "Oxmantown Road",
          "Clare Road",
          "Clonmel Street",
          "Kimmage Grove",
          "St Alphonsus Road",
          "Blackhall Street",
          "Ely Place",
          "Albert College Park",
          "Viking Place",
          "Ballyfermot Road",
          "South Circular Road"
         ],
         "lat": [
          53.34779261,
          53.33424783,
          53.34494805,
          53.34851312,
          53.34296483,
          53.34817688,
          53.35182974,
          53.35686542,
          53.35398625,
          53.34211451,
          53.35055212,
          53.33485887,
          53.33769129,
          53.35392471,
          53.3509772,
          53.35342112,
          53.33630513,
          53.34393043,
          53.33299531,
          53.34846989,
          53.341293,
          53.33366002,
          53.34867644,
          53.35221799,
          53.35921696,
          53.35274391,
          53.35165203,
          53.35275832,
          53.35264945,
          53.35410392,
          53.33916468,
          53.34695679,
          53.34845548,
          53.35708473,
          53.34307452,
          53.34103437,
          53.34339079,
          53.34308013,
          53.3471065,
          53.34126417,
          53.34595443,
          53.33677519,
          53.33588071,
          53.34336116,
          53.34337317,
          53.33866101,
          53.35013744,
          53.35202907,
          53.35419437,
          53.3508299,
          53.348618,
          53.35896725,
          53.34900307,
          53.34960348,
          53.34371105,
          53.34383275,
          53.34522827,
          53.34989648,
          53.3519178,
          53.34864922,
          53.33448808,
          53.34357364,
          53.33909021,
          53.34999014,
          53.35296244,
          53.35033197,
          53.35440329,
          53.34013196,
          53.34997173,
          53.34094069,
          53.33881395,
          53.33274144,
          53.33893887,
          53.352234,
          53.34845308,
          53.35073224,
          53.33883157,
          53.34064683,
          53.33501182,
          53.35618587,
          53.35946908,
          53.3351824,
          53.35358842,
          53.34184388,
          53.3341197,
          53.34716815,
          53.34744836,
          53.34645482,
          53.34572226,
          53.34433076,
          53.34442924,
          53.34716014,
          53.33847123,
          53.34695199,
          53.33943693,
          53.35073624,
          53.35059775,
          53.33709791,
          53.36211259,
          53.34814966,
          53.34799275,
          53.3481929,
          53.33898211,
          53.34909033,
          53.34132102,
          53.34185349,
          53.33711313,
          53.33927038,
          53.34738591,
          53.34301848,
          53.34339239,
          53.34491682,
          53.3476477,
          53.34621063,
          53.3417502,
          53.35260382,
          53.3378138,
          53.33482844,
          53.35520694,
          53.35334747,
          53.35134383,
          53.34901267,
          53.35066259,
          53.3537389,
          53.3399558,
          53.34998454,
          53.33662064,
          53.3392936,
          53.35237568,
          53.35225641,
          53.33423822,
          53.34211691,
          53.35127979,
          53.3362755,
          53.33690652,
          53.34860279,
          53.33232339,
          53.34511458,
          53.33919831,
          53.34439721,
          53.35032477,
          53.3323394,
          53.33551714,
          53.34824573,
          53.34790949,
          53.33936646,
          53.33894527,
          53.34681028,
          53.35146871,
          53.34555893,
          53.34893742,
          53.34194797,
          53.33800839,
          53.34936332,
          53.34796313,
          53.34194076,
          53.34913596,
          53.34380633,
          53.3428079,
          53.350079,
          53.34880213,
          53.34901748,
          53.34580232,
          53.3398373,
          53.34842026,
          53.34615699,
          53.35029835,
          53.34583434,
          53.34607693,
          53.3327959,
          53.33779779,
          53.33666389,
          53.34915197,
          53.33774334,
          53.36081366,
          53.33737258,
          53.33563406,
          53.35602898,
          53.34045385,
          53.34104558,
          53.34134584,
          53.34365901,
          53.34274625,
          53.34206327,
          53.35812925,
          53.35209391,
          53.33420699,
          53.33621064,
          53.34294562,
          53.34274225,
          53.33438318,
          53.33374331,
          53.34348527,
          53.34402251,
          53.34736269,
          53.34653888,
          53.34472227,
          53.34537639,
          53.34685272,
          53.34818009,
          53.34313377,
          53.34155082,
          53.34326188,
          53.3480536,
          53.35087553,
          53.35221318,
          53.34471186,
          53.34468624,
          53.34561337,
          53.34549008,
          53.34492803,
          53.34562138,
          53.34577029,
          53.34702084,
          53.33423022,
          53.34617781,
          53.34257811,
          53.34286315,
          53.34495686,
          53.34817688,
          53.34804559,
          53.33552355,
          53.33788988,
          53.33777617,
          53.35003177,
          53.34944898,
          53.33571254,
          53.35308412,
          53.34801997,
          53.33592955,
          53.35858467,
          53.34852353,
          53.33702184,
          53.33091783,
          53.34258852,
          53.34532995,
          53.34498248,
          53.3450089,
          53.34507375,
          53.34482395,
          53.34207047,
          53.34433076,
          53.34497847,
          53.35609622,
          53.3428119,
          53.35301127,
          53.34779341,
          53.34315219,
          53.33649172,
          53.34295923,
          53.34612577,
          53.33771531,
          53.34296563,
          53.34496807,
          53.3442603,
          53.34896464,
          53.34181265,
          53.33863779,
          53.34391522,
          53.34132903,
          53.35051289,
          53.34894062,
          53.35126939,
          53.35090915,
          53.35177931,
          53.34102076,
          53.33286797,
          53.34383996,
          53.34680228,
          53.33910542,
          53.34332353,
          53.34690716,
          53.34351569,
          53.34319623,
          53.34538679,
          53.34536358,
          53.3450073,
          53.3450113,
          53.34571905,
          53.34846509,
          53.34809683,
          53.34786626,
          53.35108127,
          53.34462059,
          53.3446302,
          53.3602014,
          53.35003097,
          53.34501931,
          53.34837783,
          53.34610495,
          53.34238835,
          53.34872687,
          53.34829617,
          53.3466958,
          53.34794472,
          53.34105679,
          53.35093077,
          53.34330432,
          53.3359728,
          53.34503372,
          53.33655017,
          53.34913196,
          53.35023351,
          53.35024071,
          53.35103243,
          53.33578381,
          53.33561404,
          53.35282476,
          53.34952263,
          53.34728023,
          53.34717936,
          53.34530433,
          53.34428192,
          53.35223079,
          53.35443291,
          53.3487581,
          53.33352788,
          53.34618021,
          53.35383416,
          53.34278548,
          53.34995172,
          53.35554873,
          53.34248363,
          53.34945698,
          53.3472354,
          53.34093668,
          53.33877552,
          53.3473715,
          53.34397447,
          53.34672142,
          53.34861,
          53.34682,
          53.34107,
          53.34664,
          53.33306,
          53.3442738,
          53.3326694,
          53.33306,
          53.33306,
          53.33306,
          53.33306,
          53.33306,
          53.33306,
          53.3430248,
          53.3398189,
          53.3421581,
          53.3505313,
          53.350129,
          53.3584466,
          53.3565719,
          53.3501175,
          53.3399963,
          53.3403522,
          53.3510254,
          53.3510254,
          53.3510254,
          53.3469491,
          53.3406124,
          53.29026,
          53.33306,
          53.3376053,
          53.3313584,
          53.3313584,
          53.33306,
          53.3439514,
          53.3712282,
          53.3788013,
          53.3483343,
          53.3468758,
          53.3487939,
          53.3501144,
          53.3592049,
          53.3592049,
          53.33306,
          53.3443365,
          53.33306,
          53.33306,
          53.33306,
          53.33306,
          53.3389329,
          53.3429858,
          53.33306,
          53.3475452,
          53.33306,
          53.3319485,
          53.3325186,
          53.33306,
          53.33306,
          53.33306,
          53.33306,
          53.33306,
          53.33306,
          53.33306,
          53.33306,
          53.33306,
          53.33306,
          53.33306,
          53.33306,
          53.3410575,
          53.33306,
          53.3403522,
          53.3383299,
          53.3375449,
          53.3405656,
          53.33306,
          53.33306,
          53.33306,
          53.33306,
          53.3479323,
          53.3476787,
          53.3469439,
          53.33306,
          53.33306,
          53.33306,
          53.33306,
          53.33306,
          53.33306,
          53.33306,
          53.33306,
          53.33306,
          53.33306,
          53.33306,
          53.33306,
          53.33306,
          53.33306,
          53.33306,
          53.33306,
          53.33306,
          53.33306,
          53.33306,
          53.33306,
          53.33306,
          53.33306,
          53.33306,
          53.33306,
          53.33306,
          53.33306,
          53.33306,
          53.33306,
          53.33306,
          53.33306,
          53.33306,
          53.3584367,
          53.3563456,
          53.3563456,
          53.33306,
          53.325892,
          53.3339931,
          53.3380398,
          53.3425649,
          53.3380113,
          53.3399963,
          53.3432452,
          53.3425649,
          53.3414563,
          53.3426844,
          53.3443552,
          53.33306,
          53.3451317,
          53.3411477,
          53.33306,
          53.3414746,
          53.3234833,
          53.3761156,
          53.3799135,
          53.3654115,
          53.3735222,
          53.3629737,
          53.3779606,
          53.3900482,
          53.3779606,
          53.386699,
          53.3421059,
          53.3415036,
          53.3434284,
          53.3378579,
          53.3709789,
          53.3354299,
          53.3353596,
          53.3318268,
          53.335624,
          53.3674352,
          53.335624,
          53.3871423,
          53.3471749,
          53.3452006,
          53.3455634,
          53.3629491,
          53.33306,
          53.3638024,
          53.3705241,
          53.3779236,
          53.3693445,
          53.3779606,
          53.3960916,
          53.3945183,
          53.3704808,
          53.3719432,
          53.33306,
          53.3336734,
          53.33306,
          53.313516,
          53.3429308,
          53.33306,
          53.3439514,
          53.3676927,
          53.3207433,
          53.3326694,
          53.332576,
          53.3361223,
          53.3321431,
          53.3627205,
          53.3520505,
          53.3121398,
          53.3806573,
          53.3384237,
          53.3429308,
          53.3250321,
          53.33306,
          53.3195715,
          53.3339141,
          53.3398828,
          53.3339141,
          53.33306,
          53.3564982,
          53.3410994,
          53.3852508,
          53.3802634,
          53.3195715,
          53.3070186,
          53.3761635,
          53.3268527,
          53.33306,
          53.3124885,
          53.356529,
          53.3840992,
          53.3692621,
          53.33306,
          53.33306,
          53.33306,
          53.354535,
          53.33306,
          53.3452473,
          53.33306,
          53.33306,
          53.3411651,
          53.33306,
          53.3465569,
          53.33306,
          53.3309263,
          53.330981,
          53.33306,
          53.33306,
          53.33306,
          53.3458744,
          53.3380021,
          53.3505313,
          53.3505567,
          53.3341036,
          53.3336985,
          53.3337307,
          53.3207433,
          53.3370018,
          53.33306,
          53.3645219,
          53.33306,
          53.3629737,
          53.33306,
          53.3978388,
          53.33306,
          53.33306,
          53.33306,
          53.3717034,
          53.3594596,
          53.3759586,
          53.3759586,
          53.3190121,
          53.3171783,
          53.4047016,
          53.33306,
          53.3629491,
          53.3639558,
          53.33306,
          53.33306,
          53.3310035,
          53.3288936,
          53.3312354,
          53.3340542,
          53.33306,
          53.3193751,
          53.33306,
          53.3343784,
          53.3313584,
          53.33306,
          53.29026,
          53.3456141,
          53.33306,
          53.33306,
          53.33306,
          53.33306,
          53.33306,
          53.33306,
          53.33306,
          53.3549572,
          53.33306,
          53.33306,
          53.33306,
          53.33306,
          53.33306,
          53.33306,
          53.33306,
          53.311793,
          53.33306,
          53.3305476,
          53.3848459,
          53.3406192,
          53.33306,
          53.33306,
          53.33306,
          53.33306,
          53.33306,
          53.33306,
          53.33306,
          53.33306,
          53.3638731,
          53.33306,
          53.3813711,
          53.33306,
          53.33306,
          53.33306,
          53.3644974,
          53.33306,
          53.33306,
          53.3875593,
          53.33306,
          53.33306,
          53.33306,
          53.3918925,
          53.3622279,
          53.3343034,
          53.3339141,
          53.3411651,
          53.3521653,
          53.3199799,
          53.3471749,
          53.3457272,
          53.33306,
          53.3418898,
          53.3259862,
          53.33306,
          53.33306,
          53.33306,
          53.3563519,
          53.33306,
          53.33306,
          53.33306,
          53.3975826,
          53.33306,
          53.33306,
          53.3547726,
          53.33306,
          53.33306,
          53.33306,
          53.33306,
          53.33306,
          53.33306,
          53.33306,
          53.33306,
          53.33306,
          53.3397428,
          53.33306,
          53.33306,
          53.33306,
          53.33306,
          53.325809,
          53.33306,
          53.33306,
          53.33306,
          53.3268527,
          53.33678,
          53.374318,
          53.327709,
          53.337618,
          53.361108,
          53.344744,
          53.334619,
          53.342148,
          53.3313,
          53.339214,
          53.344121,
          53.314549,
          53.333091,
          53.319346,
          53.334827,
          53.338313,
          53.326949,
          53.343927,
          53.341513,
          53.356716,
          53.336184,
          53.337025,
          53.360855,
          53.344291,
          53.343945,
          53.345896,
          53.350585,
          53.343184,
          53.367156,
          53.338403,
          53.338643,
          53.338478,
          53.31216,
          53.353598,
          53.354525,
          53.349167,
          53.358943,
          53.33704426,
          53.378562,
          53.338325,
          53.338254,
          53.364132,
          53.36999,
          53.34813,
          53.34365,
          53.348928,
          53.34852,
          53.356239,
          53.3481122,
          53.322805,
          53.341848,
          53.341653,
          53.314828,
          53.349583,
          53.332375,
          53.341087,
          53.313495,
          53.336882,
          53.334384,
          53.346122,
          53.382456,
          53.322066,
          53.335506,
          53.354491,
          53.367071,
          53.334169,
          53.333541,
          53.356739,
          53.349525,
          53.382604,
          53.352352,
          53.335487,
          53.341102,
          53.353055,
          53.333891,
          53.345087,
          53.340457,
          53.333835,
          53.34707291,
          53.366893,
          53.328537,
          53.328424,
          53.33397937,
          53.363278,
          53.357415,
          53.362822,
          53.323646,
          53.387103,
          53.391242,
          53.324841,
          53.323811,
          53.39013,
          53.367375,
          53.367392,
          53.33391504,
          53.37237867,
          53.34591638,
          53.333725,
          53.341311,
          53.361605,
          53.37729,
          53.371418,
          53.336841,
          53.3759,
          53.375602,
          53.355902,
          53.392112,
          53.400056,
          53.366278,
          53.38089,
          53.35750389,
          53.349409,
          53.341904,
          53.3240331,
          53.358146,
          53.36073337,
          53.335579,
          53.31449,
          53.325842,
          53.32797593,
          53.346316,
          53.34600478,
          53.386623,
          53.393498,
          53.331016,
          53.339315,
          53.35561866,
          53.338659,
          53.315996,
          53.322721,
          53.333972,
          53.34514,
          53.352257,
          53.368913,
          53.376327,
          53.384768,
          53.382077,
          53.373835,
          53.355563,
          53.357288,
          53.307368,
          53.347219,
          53.381154,
          53.317304,
          53.321338,
          53.350851,
          53.325628,
          53.321919,
          53.354861,
          53.353064,
          53.319003,
          53.321075,
          53.327007,
          53.331339,
          53.331121,
          53.320952,
          53.364032,
          53.35830128,
          53.302703,
          53.321886,
          53.326692,
          53.32661,
          53.349867,
          53.369308,
          53.318298,
          53.355012,
          53.340166,
          53.332867,
          53.37982,
          53.337525,
          53.339931,
          53.336778,
          53.321183,
          53.332977,
          53.351541,
          53.337751,
          53.329331,
          53.365796,
          53.333881,
          53.332713,
          53.332099,
          53.331071,
          53.327586,
          53.352445,
          53.353166,
          53.339636,
          53.364059,
          53.3723,
          53.345667,
          53.340166,
          53.340891,
          53.340305,
          53.364387,
          53.3524,
          53.374373,
          53.335965,
          53.317272,
          53.364992,
          53.348463,
          53.33703972,
          53.382512,
          53.350008,
          53.342442,
          53.335294
         ],
         "legendgroup": "Stand",
         "lon": [
          -6.22726053,
          -6.265138686,
          -6.249765605,
          -6.251051724,
          -6.242272854,
          -6.262080967,
          -6.25176385,
          -6.268160194,
          -6.264363527,
          -6.262504756,
          -6.271338612,
          -6.245986372,
          -6.262797117,
          -6.25826081,
          -6.264474839,
          -6.259794384,
          -6.265522242,
          -6.264283061,
          -6.252724081,
          -6.268814653,
          -6.250445545,
          -6.258763075,
          -6.257420629,
          -6.249542981,
          -6.259003133,
          -6.26837343,
          -6.252315044,
          -6.268642992,
          -6.261105984,
          -6.257088035,
          -6.261493564,
          -6.254994571,
          -6.228922158,
          -6.258693337,
          -6.263477057,
          -6.267122179,
          -6.264492273,
          -6.263179332,
          -6.266077459,
          -6.272172779,
          -6.275383383,
          -6.248770505,
          -6.247810274,
          -6.24988094,
          -6.245094538,
          -6.26622498,
          -6.269459724,
          -6.268934011,
          -6.257198006,
          -6.264808774,
          -6.267952323,
          -6.269868761,
          -6.24368906,
          -6.24969855,
          -6.260666102,
          -6.249374002,
          -6.255238652,
          -6.267784685,
          -6.268844157,
          -6.266541481,
          -6.26539886,
          -6.27489002,
          -6.263350993,
          -6.268060952,
          -6.259502023,
          -6.266872734,
          -6.256611943,
          -6.26113683,
          -6.267641187,
          -6.250421405,
          -6.243741363,
          -6.263815016,
          -6.264456064,
          -6.259013861,
          -6.255112588,
          -6.254687458,
          -6.262134612,
          -6.263308078,
          -6.26537472,
          -6.265439093,
          -6.259095669,
          -6.265355945,
          -6.265075654,
          -6.250158548,
          -6.256172061,
          -6.268229932,
          -6.266204864,
          -6.27913177,
          -6.267873198,
          -6.267226785,
          -6.267397106,
          -6.257717013,
          -6.292895526,
          -6.277207285,
          -6.246668994,
          -6.270769984,
          -6.270670742,
          -6.248680651,
          -6.272837967,
          -6.262333095,
          -6.262656301,
          -6.260793507,
          -6.256654859,
          -6.258557886,
          -6.257915497,
          -6.252296269,
          -6.244401187,
          -6.245165616,
          -6.253649443,
          -6.238718927,
          -6.238583475,
          -6.236217767,
          -6.24309361,
          -6.2415272,
          -6.252639592,
          -6.259177476,
          -6.240792274,
          -6.265382767,
          -6.245928705,
          -6.248283684,
          -6.269626021,
          -6.25492081,
          -6.254671365,
          -6.258886456,
          -6.260423362,
          -6.267024279,
          -6.265439093,
          -6.266015768,
          -6.25944972,
          -6.259444356,
          -6.26539886,
          -6.262373328,
          -6.263774782,
          -6.257439405,
          -6.25215143,
          -6.259725988,
          -6.274455339,
          -6.266537458,
          -6.273295283,
          -6.260206103,
          -6.2726596,
          -6.253476441,
          -6.250662804,
          -6.261388958,
          -6.263314784,
          -6.241157055,
          -6.244124919,
          -6.258493513,
          -6.252858192,
          -6.235854328,
          -6.24304533,
          -6.263821721,
          -6.255581975,
          -6.267700195,
          -6.26718387,
          -6.261603534,
          -6.258242726,
          -6.26198709,
          -6.242224574,
          -6.267755181,
          -6.256624013,
          -6.255399585,
          -6.256809086,
          -6.260926276,
          -6.227487177,
          -6.261851639,
          -6.2569727,
          -6.259736717,
          -6.262689829,
          -6.262397468,
          -6.269115061,
          -6.243086904,
          -6.254668683,
          -6.266076118,
          -6.260073334,
          -6.265628189,
          -6.265334487,
          -6.256683022,
          -6.26425758,
          -6.26260668,
          -6.263074726,
          -6.261555254,
          -6.264543235,
          -6.264674664,
          -6.269145906,
          -6.26068756,
          -6.290507019,
          -6.265275478,
          -6.262984872,
          -6.263002306,
          -6.255485415,
          -6.25756681,
          -6.264339387,
          -6.266876757,
          -6.26842171,
          -6.267835647,
          -6.268506199,
          -6.267154366,
          -6.272738725,
          -6.257389784,
          -6.28135398,
          -6.275115162,
          -6.275891662,
          -6.275187582,
          -6.270484328,
          -6.260164529,
          -6.267481595,
          -6.267346144,
          -6.264945567,
          -6.264374256,
          -6.26306802,
          -6.262601316,
          -6.260741204,
          -6.25832051,
          -6.290792674,
          -6.259278059,
          -6.271794587,
          -6.277763844,
          -6.272678375,
          -6.294609457,
          -6.26865238,
          -6.250543445,
          -6.248227358,
          -6.248077154,
          -6.274377555,
          -6.277834922,
          -6.251549274,
          -6.285188198,
          -6.263397932,
          -6.265190989,
          -6.269591153,
          -6.264034957,
          -6.244546026,
          -6.258653104,
          -6.238808781,
          -6.239453852,
          -6.238279045,
          -6.235983074,
          -6.235950887,
          -6.238179803,
          -6.264417171,
          -6.233445704,
          -6.236972809,
          -6.287840903,
          -6.262051463,
          -6.26450032,
          -6.279795617,
          -6.270240247,
          -6.265384108,
          -6.276079416,
          -6.293238848,
          -6.251306534,
          -6.264303178,
          -6.267253608,
          -6.26409933,
          -6.260648668,
          -6.252918541,
          -6.266168654,
          -6.267496347,
          -6.258029491,
          -6.265747547,
          -6.260790825,
          -6.250971258,
          -6.269926429,
          -6.263267845,
          -6.263511926,
          -6.265024692,
          -6.262032688,
          -6.263313442,
          -6.272449046,
          -6.269899607,
          -6.29202649,
          -6.288935244,
          -6.280841678,
          -6.265047491,
          -6.264875829,
          -6.263965219,
          -6.263536066,
          -6.261535138,
          -6.295009106,
          -6.262722015,
          -6.264595538,
          -6.252361983,
          -6.238356829,
          -6.236162782,
          -6.266330928,
          -6.267299205,
          -6.270107478,
          -6.257431358,
          -6.271288991,
          -6.263249069,
          -6.237128377,
          -6.296098083,
          -6.297288984,
          -6.257094741,
          -6.262814552,
          -6.265170872,
          -6.259318292,
          -6.247524619,
          -6.267343462,
          -6.265596002,
          -6.26895681,
          -6.266548187,
          -6.258189082,
          -6.249909103,
          -6.265365332,
          -6.265102476,
          -6.261722893,
          -6.252375394,
          -6.257043779,
          -6.257368326,
          -6.259280741,
          -6.25984937,
          -6.254621744,
          -6.263313442,
          -6.255112588,
          -6.272549629,
          -6.257003546,
          -6.258065701,
          -6.260721087,
          -6.251509041,
          -6.264576763,
          -6.2644279,
          -6.248142868,
          -6.278260052,
          -6.292752028,
          -6.300144196,
          -6.255120635,
          -6.249292195,
          -6.258726865,
          -6.26884,
          -6.26593,
          -6.27172,
          -6.25401,
          -6.24889,
          -6.2680002,
          -6.263414,
          -6.24889,
          -6.24889,
          -6.24889,
          -6.24889,
          -6.24889,
          -6.24889,
          -6.2637142,
          -6.2381879,
          -6.236524,
          -6.2697237,
          -6.270556,
          -6.2625638,
          -6.2672672,
          -6.274779,
          -6.2739689,
          -6.2722839,
          -6.2633858,
          -6.2633858,
          -6.2633858,
          -6.3103413,
          -6.268837,
          -6.34151,
          -6.24889,
          -6.2661334,
          -6.2645596,
          -6.2645596,
          -6.24889,
          -6.2795992,
          -6.1510199,
          -6.2663651,
          -6.2551721,
          -6.2658794,
          -6.2666729,
          -6.251902,
          -6.2586973,
          -6.2586973,
          -6.24889,
          -6.2408231,
          -6.24889,
          -6.24889,
          -6.24889,
          -6.24889,
          -6.2726872,
          -6.2802443,
          -6.24889,
          -6.239849,
          -6.24889,
          -6.2795725,
          -6.2786406,
          -6.24889,
          -6.24889,
          -6.24889,
          -6.24889,
          -6.24889,
          -6.24889,
          -6.24889,
          -6.24889,
          -6.24889,
          -6.24889,
          -6.24889,
          -6.24889,
          -6.2636415,
          -6.24889,
          -6.2722839,
          -6.2676884,
          -6.262927,
          -6.2459603,
          -6.24889,
          -6.24889,
          -6.24889,
          -6.24889,
          -6.2821655,
          -6.2793713,
          -6.2793207,
          -6.24889,
          -6.24889,
          -6.24889,
          -6.24889,
          -6.24889,
          -6.24889,
          -6.24889,
          -6.24889,
          -6.24889,
          -6.24889,
          -6.24889,
          -6.24889,
          -6.24889,
          -6.24889,
          -6.24889,
          -6.24889,
          -6.24889,
          -6.24889,
          -6.24889,
          -6.24889,
          -6.24889,
          -6.24889,
          -6.24889,
          -6.24889,
          -6.24889,
          -6.24889,
          -6.24889,
          -6.24889,
          -6.24889,
          -6.24889,
          -6.24889,
          -6.2670729,
          -6.2617487,
          -6.2617487,
          -6.24889,
          -6.2345055,
          -6.2868286,
          -6.2725762,
          -6.2791596,
          -6.277184,
          -6.2739689,
          -6.2741552,
          -6.2791596,
          -6.2824274,
          -6.2931528,
          -6.2809863,
          -6.24889,
          -6.2847701,
          -6.2835841,
          -6.24889,
          -6.3191342,
          -6.2669481,
          -6.1915304,
          -6.1752674,
          -6.1951817,
          -6.2519675,
          -6.2549515,
          -6.2875242,
          -6.3003697,
          -6.2875242,
          -6.2014202,
          -6.1513684,
          -6.2801689,
          -6.2774237,
          -6.2816112,
          -6.3254094,
          -6.2862387,
          -6.3121661,
          -6.3018706,
          -6.2961151,
          -6.2725635,
          -6.2961151,
          -6.2909762,
          -6.2508861,
          -6.2656938,
          -6.2660649,
          -6.2272787,
          -6.24889,
          -6.2360715,
          -6.297153,
          -6.2868196,
          -6.2719581,
          -6.2875242,
          -6.2642909,
          -6.2667109,
          -6.2599213,
          -6.3315063,
          -6.24889,
          -6.3289236,
          -6.24889,
          -6.2023088,
          -6.2427021,
          -6.24889,
          -6.2795992,
          -6.2554355,
          -6.2654206,
          -6.263414,
          -6.2501219,
          -6.265341,
          -6.2357458,
          -6.272452,
          -6.2328022,
          -6.2740978,
          -6.2396281,
          -6.2938946,
          -6.2427021,
          -6.300026,
          -6.24889,
          -6.2907401,
          -6.2749034,
          -6.2235335,
          -6.2749034,
          -6.24889,
          -6.271693,
          -6.245238,
          -6.1534387,
          -6.2629171,
          -6.2907401,
          -6.3375581,
          -6.250008,
          -6.2573033,
          -6.24889,
          -6.2989682,
          -6.2442572,
          -6.3660158,
          -6.3171997,
          -6.24889,
          -6.24889,
          -6.24889,
          -6.2635331,
          -6.24889,
          -6.2758865,
          -6.24889,
          -6.24889,
          -6.257171,
          -6.24889,
          -6.2446892,
          -6.24889,
          -6.2588557,
          -6.2570893,
          -6.24889,
          -6.24889,
          -6.24889,
          -6.2369239,
          -6.2558594,
          -6.2697237,
          -6.279585,
          -6.2564553,
          -6.2579857,
          -6.2592038,
          -6.2654206,
          -6.3539768,
          -6.24889,
          -6.280998,
          -6.24889,
          -6.2549515,
          -6.24889,
          -6.2549933,
          -6.24889,
          -6.24889,
          -6.24889,
          -6.2655016,
          -6.2454179,
          -6.2402286,
          -6.2402286,
          -6.2737461,
          -6.2756373,
          -6.1834728,
          -6.24889,
          -6.2272787,
          -6.2245496,
          -6.24889,
          -6.24889,
          -6.2650851,
          -6.2758896,
          -6.2837703,
          -6.2778702,
          -6.24889,
          -6.2091028,
          -6.24889,
          -6.2247925,
          -6.2645596,
          -6.24889,
          -6.34151,
          -6.2610506,
          -6.24889,
          -6.24889,
          -6.24889,
          -6.24889,
          -6.24889,
          -6.24889,
          -6.24889,
          -6.2692743,
          -6.24889,
          -6.24889,
          -6.24889,
          -6.24889,
          -6.24889,
          -6.24889,
          -6.24889,
          -6.2745505,
          -6.24889,
          -6.2245243,
          -6.376417,
          -6.3081675,
          -6.24889,
          -6.24889,
          -6.24889,
          -6.24889,
          -6.24889,
          -6.24889,
          -6.24889,
          -6.24889,
          -6.1919671,
          -6.24889,
          -6.2406167,
          -6.24889,
          -6.24889,
          -6.24889,
          -6.1839957,
          -6.24889,
          -6.24889,
          -6.1833155,
          -6.24889,
          -6.24889,
          -6.24889,
          -6.2463432,
          -6.2649396,
          -6.2487457,
          -6.2749034,
          -6.257171,
          -6.2690429,
          -6.2709382,
          -6.2508861,
          -6.2605991,
          -6.24889,
          -6.2714724,
          -6.2451272,
          -6.24889,
          -6.24889,
          -6.24889,
          -6.2658594,
          -6.24889,
          -6.24889,
          -6.24889,
          -6.2082597,
          -6.24889,
          -6.24889,
          -6.2477561,
          -6.24889,
          -6.24889,
          -6.24889,
          -6.24889,
          -6.24889,
          -6.24889,
          -6.24889,
          -6.24889,
          -6.24889,
          -6.3143112,
          -6.24889,
          -6.24889,
          -6.24889,
          -6.24889,
          -6.3214561,
          -6.24889,
          -6.24889,
          -6.24889,
          -6.2573033,
          -6.2358456,
          -6.2178078,
          -6.2307652,
          -6.2679919,
          -6.283,
          -6.251984,
          -6.2717671,
          -6.244941,
          -6.2649838,
          -6.250658,
          -6.248966,
          -6.300165,
          -6.23584,
          -6.31511,
          -6.257925,
          -6.266577,
          -6.265378,
          -6.248683,
          -6.2707143,
          -6.2676167,
          -6.2733493,
          -6.2728832,
          -6.27365,
          -6.249048,
          -6.240987,
          -6.252151,
          -6.2706952,
          -6.244032,
          -6.17288,
          -6.280837,
          -6.279866,
          -6.279785,
          -6.247767,
          -6.291439,
          -6.292933,
          -6.281974,
          -6.25684,
          -6.286518574,
          -6.178134,
          -6.2723897,
          -6.262208,
          -6.272032,
          -6.14895,
          -6.29417,
          -6.281284,
          -6.260975,
          -6.264058,
          -6.244854,
          -6.2941508,
          -6.236991,
          -6.253055,
          -6.3028928,
          -6.295824,
          -6.26769,
          -6.266876,
          -6.236043,
          -6.24677,
          -6.259567,
          -6.258206,
          -6.272299,
          -6.195036,
          -6.267124,
          -6.256507,
          -6.229751,
          -6.293967,
          -6.265531,
          -6.241728,
          -6.233024,
          -6.22712,
          -6.277686,
          -6.243393,
          -6.242767,
          -6.268772,
          -6.244337,
          -6.257983,
          -6.2547123,
          -6.243109,
          -6.2598105,
          -6.282331844,
          -6.292718,
          -6.23059,
          -6.230617,
          -6.261724242,
          -6.243744,
          -6.257314,
          -6.178398,
          -6.250202,
          -6.242104,
          -6.234954,
          -6.240554,
          -6.327954,
          -6.311036,
          -6.298704,
          -6.299124,
          -6.260607446,
          -6.194035777,
          -6.27587837,
          -6.269798,
          -6.257962,
          -6.28613,
          -6.275765,
          -6.166817,
          -6.259403,
          -6.209,
          -6.209501,
          -6.265499,
          -6.205152,
          -6.171093,
          -6.256676,
          -6.245648,
          -6.248031086,
          -6.229783,
          -6.307589,
          -6.278548121,
          -6.267227,
          -6.26076081,
          -6.268985,
          -6.282547,
          -6.289827,
          -6.220836032,
          -6.255063,
          -6.255049903,
          -6.211416,
          -6.203269,
          -6.319627,
          -6.316478,
          -6.265913827,
          -6.322062,
          -6.26526,
          -6.230233,
          -6.301908,
          -6.308024,
          -6.28415,
          -6.254743,
          -6.250063,
          -6.243105,
          -6.244497,
          -6.175331,
          -6.2647773,
          -6.266006,
          -6.299807,
          -6.283783,
          -6.208471,
          -6.332645,
          -6.234825,
          -6.25142,
          -6.226857,
          -6.25632,
          -6.29025,
          -6.285122,
          -6.281421,
          -6.255761,
          -6.258448,
          -6.23449,
          -6.2339,
          -6.257226,
          -6.199151,
          -6.250524612,
          -6.297947,
          -6.239063,
          -6.258051,
          -6.257754,
          -6.34487,
          -6.271493,
          -6.2108075,
          -6.266235,
          -6.316787,
          -6.26012,
          -6.210781,
          -6.251547,
          -6.22746,
          -6.244001,
          -6.335011,
          -6.249024,
          -6.267718,
          -6.323397,
          -6.258119,
          -6.262973,
          -6.251684,
          -6.257413,
          -6.305912,
          -6.231793,
          -6.235294,
          -6.291885,
          -6.291547,
          -6.272362,
          -6.197649,
          -6.252584,
          -6.25093,
          -6.316787,
          -6.265634,
          -6.315118,
          -6.275507,
          -6.289245,
          -6.255575,
          -6.2624615,
          -6.2922769,
          -6.260116,
          -6.28003,
          -6.254552121,
          -6.261817,
          -6.283897,
          -6.349356,
          -6.294869
         ],
         "marker": {
          "color": "#636efa"
         },
         "mode": "markers",
         "name": "Stand",
         "showlegend": true,
         "subplot": "mapbox",
         "type": "scattermapbox"
        },
        {
         "customdata": [
          [
           "Charleville Mall"
          ],
          [
           "North Strand Rd N/B"
          ],
          [
           "Guild Street"
          ],
          [
           "Grove Road Totem"
          ],
          [
           "North Strand Rd S/B"
          ],
          [
           "Richmond Street 1"
          ],
          [
           "Richmond Street 2"
          ],
          [
           "Drumcondra"
          ],
          [
           "Clontarf - James Larkin Rd"
          ],
          [
           "Clontarf - Pebble Beach Carpark"
          ],
          [
           "Griffith Avenue (Clare Rd Side)"
          ],
          [
           "Griffith Avenue (Lane Side)"
          ]
         ],
         "hovertemplate": "<b>%{hovertext}</b><br><br>type=Counter<br>X=%{lat}<br>Y=%{lon}<br>location_stand=%{customdata[0]}<extra></extra>",
         "hovertext": [
          "Charleville Mall",
          "North Strand Rd N/B",
          "Guild Street",
          "Grove Road Totem",
          "North Strand Rd S/B",
          "Richmond Street 1",
          "Richmond Street 2",
          "Drumcondra",
          "Clontarf - James Larkin Rd",
          "Clontarf - Pebble Beach Carpark",
          "Griffith Avenue (Clare Rd Side)",
          "Griffith Avenue (Lane Side)"
         ],
         "lat": [
          53.35694847,
          53.35853,
          53.34815,
          53.3296435,
          53.35846619,
          53.3303987,
          53.33227358,
          53.362866,
          53.367859,
          53.358266,
          53.37659864,
          53.377
         ],
         "legendgroup": "Counter",
         "lon": [
          -6.245350215,
          -6.24134,
          -6.24098,
          -6.2701778,
          -6.241417032,
          -6.264258456464106,
          -6.264814344,
          -6.258533,
          -6.171466,
          -6.191038,
          -6.253883207,
          -6.255
         ],
         "marker": {
          "color": "#EF553B"
         },
         "mode": "markers",
         "name": "Counter",
         "showlegend": true,
         "subplot": "mapbox",
         "type": "scattermapbox"
        }
       ],
       "layout": {
        "height": 1000,
        "legend": {
         "title": {
          "text": "type"
         },
         "tracegroupgap": 0
        },
        "mapbox": {
         "center": {
          "lat": 53.3441459411285,
          "lon": -6.259409278256385
         },
         "domain": {
          "x": [
           0,
           1
          ],
          "y": [
           0,
           1
          ]
         },
         "style": "open-street-map",
         "zoom": 8
        },
        "margin": {
         "t": 60
        },
        "template": {
         "data": {
          "bar": [
           {
            "error_x": {
             "color": "#2a3f5f"
            },
            "error_y": {
             "color": "#2a3f5f"
            },
            "marker": {
             "line": {
              "color": "#E5ECF6",
              "width": 0.5
             },
             "pattern": {
              "fillmode": "overlay",
              "size": 10,
              "solidity": 0.2
             }
            },
            "type": "bar"
           }
          ],
          "barpolar": [
           {
            "marker": {
             "line": {
              "color": "#E5ECF6",
              "width": 0.5
             },
             "pattern": {
              "fillmode": "overlay",
              "size": 10,
              "solidity": 0.2
             }
            },
            "type": "barpolar"
           }
          ],
          "carpet": [
           {
            "aaxis": {
             "endlinecolor": "#2a3f5f",
             "gridcolor": "white",
             "linecolor": "white",
             "minorgridcolor": "white",
             "startlinecolor": "#2a3f5f"
            },
            "baxis": {
             "endlinecolor": "#2a3f5f",
             "gridcolor": "white",
             "linecolor": "white",
             "minorgridcolor": "white",
             "startlinecolor": "#2a3f5f"
            },
            "type": "carpet"
           }
          ],
          "choropleth": [
           {
            "colorbar": {
             "outlinewidth": 0,
             "ticks": ""
            },
            "type": "choropleth"
           }
          ],
          "contour": [
           {
            "colorbar": {
             "outlinewidth": 0,
             "ticks": ""
            },
            "colorscale": [
             [
              0,
              "#0d0887"
             ],
             [
              0.1111111111111111,
              "#46039f"
             ],
             [
              0.2222222222222222,
              "#7201a8"
             ],
             [
              0.3333333333333333,
              "#9c179e"
             ],
             [
              0.4444444444444444,
              "#bd3786"
             ],
             [
              0.5555555555555556,
              "#d8576b"
             ],
             [
              0.6666666666666666,
              "#ed7953"
             ],
             [
              0.7777777777777778,
              "#fb9f3a"
             ],
             [
              0.8888888888888888,
              "#fdca26"
             ],
             [
              1,
              "#f0f921"
             ]
            ],
            "type": "contour"
           }
          ],
          "contourcarpet": [
           {
            "colorbar": {
             "outlinewidth": 0,
             "ticks": ""
            },
            "type": "contourcarpet"
           }
          ],
          "heatmap": [
           {
            "colorbar": {
             "outlinewidth": 0,
             "ticks": ""
            },
            "colorscale": [
             [
              0,
              "#0d0887"
             ],
             [
              0.1111111111111111,
              "#46039f"
             ],
             [
              0.2222222222222222,
              "#7201a8"
             ],
             [
              0.3333333333333333,
              "#9c179e"
             ],
             [
              0.4444444444444444,
              "#bd3786"
             ],
             [
              0.5555555555555556,
              "#d8576b"
             ],
             [
              0.6666666666666666,
              "#ed7953"
             ],
             [
              0.7777777777777778,
              "#fb9f3a"
             ],
             [
              0.8888888888888888,
              "#fdca26"
             ],
             [
              1,
              "#f0f921"
             ]
            ],
            "type": "heatmap"
           }
          ],
          "heatmapgl": [
           {
            "colorbar": {
             "outlinewidth": 0,
             "ticks": ""
            },
            "colorscale": [
             [
              0,
              "#0d0887"
             ],
             [
              0.1111111111111111,
              "#46039f"
             ],
             [
              0.2222222222222222,
              "#7201a8"
             ],
             [
              0.3333333333333333,
              "#9c179e"
             ],
             [
              0.4444444444444444,
              "#bd3786"
             ],
             [
              0.5555555555555556,
              "#d8576b"
             ],
             [
              0.6666666666666666,
              "#ed7953"
             ],
             [
              0.7777777777777778,
              "#fb9f3a"
             ],
             [
              0.8888888888888888,
              "#fdca26"
             ],
             [
              1,
              "#f0f921"
             ]
            ],
            "type": "heatmapgl"
           }
          ],
          "histogram": [
           {
            "marker": {
             "pattern": {
              "fillmode": "overlay",
              "size": 10,
              "solidity": 0.2
             }
            },
            "type": "histogram"
           }
          ],
          "histogram2d": [
           {
            "colorbar": {
             "outlinewidth": 0,
             "ticks": ""
            },
            "colorscale": [
             [
              0,
              "#0d0887"
             ],
             [
              0.1111111111111111,
              "#46039f"
             ],
             [
              0.2222222222222222,
              "#7201a8"
             ],
             [
              0.3333333333333333,
              "#9c179e"
             ],
             [
              0.4444444444444444,
              "#bd3786"
             ],
             [
              0.5555555555555556,
              "#d8576b"
             ],
             [
              0.6666666666666666,
              "#ed7953"
             ],
             [
              0.7777777777777778,
              "#fb9f3a"
             ],
             [
              0.8888888888888888,
              "#fdca26"
             ],
             [
              1,
              "#f0f921"
             ]
            ],
            "type": "histogram2d"
           }
          ],
          "histogram2dcontour": [
           {
            "colorbar": {
             "outlinewidth": 0,
             "ticks": ""
            },
            "colorscale": [
             [
              0,
              "#0d0887"
             ],
             [
              0.1111111111111111,
              "#46039f"
             ],
             [
              0.2222222222222222,
              "#7201a8"
             ],
             [
              0.3333333333333333,
              "#9c179e"
             ],
             [
              0.4444444444444444,
              "#bd3786"
             ],
             [
              0.5555555555555556,
              "#d8576b"
             ],
             [
              0.6666666666666666,
              "#ed7953"
             ],
             [
              0.7777777777777778,
              "#fb9f3a"
             ],
             [
              0.8888888888888888,
              "#fdca26"
             ],
             [
              1,
              "#f0f921"
             ]
            ],
            "type": "histogram2dcontour"
           }
          ],
          "mesh3d": [
           {
            "colorbar": {
             "outlinewidth": 0,
             "ticks": ""
            },
            "type": "mesh3d"
           }
          ],
          "parcoords": [
           {
            "line": {
             "colorbar": {
              "outlinewidth": 0,
              "ticks": ""
             }
            },
            "type": "parcoords"
           }
          ],
          "pie": [
           {
            "automargin": true,
            "type": "pie"
           }
          ],
          "scatter": [
           {
            "fillpattern": {
             "fillmode": "overlay",
             "size": 10,
             "solidity": 0.2
            },
            "type": "scatter"
           }
          ],
          "scatter3d": [
           {
            "line": {
             "colorbar": {
              "outlinewidth": 0,
              "ticks": ""
             }
            },
            "marker": {
             "colorbar": {
              "outlinewidth": 0,
              "ticks": ""
             }
            },
            "type": "scatter3d"
           }
          ],
          "scattercarpet": [
           {
            "marker": {
             "colorbar": {
              "outlinewidth": 0,
              "ticks": ""
             }
            },
            "type": "scattercarpet"
           }
          ],
          "scattergeo": [
           {
            "marker": {
             "colorbar": {
              "outlinewidth": 0,
              "ticks": ""
             }
            },
            "type": "scattergeo"
           }
          ],
          "scattergl": [
           {
            "marker": {
             "colorbar": {
              "outlinewidth": 0,
              "ticks": ""
             }
            },
            "type": "scattergl"
           }
          ],
          "scattermapbox": [
           {
            "marker": {
             "colorbar": {
              "outlinewidth": 0,
              "ticks": ""
             }
            },
            "type": "scattermapbox"
           }
          ],
          "scatterpolar": [
           {
            "marker": {
             "colorbar": {
              "outlinewidth": 0,
              "ticks": ""
             }
            },
            "type": "scatterpolar"
           }
          ],
          "scatterpolargl": [
           {
            "marker": {
             "colorbar": {
              "outlinewidth": 0,
              "ticks": ""
             }
            },
            "type": "scatterpolargl"
           }
          ],
          "scatterternary": [
           {
            "marker": {
             "colorbar": {
              "outlinewidth": 0,
              "ticks": ""
             }
            },
            "type": "scatterternary"
           }
          ],
          "surface": [
           {
            "colorbar": {
             "outlinewidth": 0,
             "ticks": ""
            },
            "colorscale": [
             [
              0,
              "#0d0887"
             ],
             [
              0.1111111111111111,
              "#46039f"
             ],
             [
              0.2222222222222222,
              "#7201a8"
             ],
             [
              0.3333333333333333,
              "#9c179e"
             ],
             [
              0.4444444444444444,
              "#bd3786"
             ],
             [
              0.5555555555555556,
              "#d8576b"
             ],
             [
              0.6666666666666666,
              "#ed7953"
             ],
             [
              0.7777777777777778,
              "#fb9f3a"
             ],
             [
              0.8888888888888888,
              "#fdca26"
             ],
             [
              1,
              "#f0f921"
             ]
            ],
            "type": "surface"
           }
          ],
          "table": [
           {
            "cells": {
             "fill": {
              "color": "#EBF0F8"
             },
             "line": {
              "color": "white"
             }
            },
            "header": {
             "fill": {
              "color": "#C8D4E3"
             },
             "line": {
              "color": "white"
             }
            },
            "type": "table"
           }
          ]
         },
         "layout": {
          "annotationdefaults": {
           "arrowcolor": "#2a3f5f",
           "arrowhead": 0,
           "arrowwidth": 1
          },
          "autotypenumbers": "strict",
          "coloraxis": {
           "colorbar": {
            "outlinewidth": 0,
            "ticks": ""
           }
          },
          "colorscale": {
           "diverging": [
            [
             0,
             "#8e0152"
            ],
            [
             0.1,
             "#c51b7d"
            ],
            [
             0.2,
             "#de77ae"
            ],
            [
             0.3,
             "#f1b6da"
            ],
            [
             0.4,
             "#fde0ef"
            ],
            [
             0.5,
             "#f7f7f7"
            ],
            [
             0.6,
             "#e6f5d0"
            ],
            [
             0.7,
             "#b8e186"
            ],
            [
             0.8,
             "#7fbc41"
            ],
            [
             0.9,
             "#4d9221"
            ],
            [
             1,
             "#276419"
            ]
           ],
           "sequential": [
            [
             0,
             "#0d0887"
            ],
            [
             0.1111111111111111,
             "#46039f"
            ],
            [
             0.2222222222222222,
             "#7201a8"
            ],
            [
             0.3333333333333333,
             "#9c179e"
            ],
            [
             0.4444444444444444,
             "#bd3786"
            ],
            [
             0.5555555555555556,
             "#d8576b"
            ],
            [
             0.6666666666666666,
             "#ed7953"
            ],
            [
             0.7777777777777778,
             "#fb9f3a"
            ],
            [
             0.8888888888888888,
             "#fdca26"
            ],
            [
             1,
             "#f0f921"
            ]
           ],
           "sequentialminus": [
            [
             0,
             "#0d0887"
            ],
            [
             0.1111111111111111,
             "#46039f"
            ],
            [
             0.2222222222222222,
             "#7201a8"
            ],
            [
             0.3333333333333333,
             "#9c179e"
            ],
            [
             0.4444444444444444,
             "#bd3786"
            ],
            [
             0.5555555555555556,
             "#d8576b"
            ],
            [
             0.6666666666666666,
             "#ed7953"
            ],
            [
             0.7777777777777778,
             "#fb9f3a"
            ],
            [
             0.8888888888888888,
             "#fdca26"
            ],
            [
             1,
             "#f0f921"
            ]
           ]
          },
          "colorway": [
           "#636efa",
           "#EF553B",
           "#00cc96",
           "#ab63fa",
           "#FFA15A",
           "#19d3f3",
           "#FF6692",
           "#B6E880",
           "#FF97FF",
           "#FECB52"
          ],
          "font": {
           "color": "#2a3f5f"
          },
          "geo": {
           "bgcolor": "white",
           "lakecolor": "white",
           "landcolor": "#E5ECF6",
           "showlakes": true,
           "showland": true,
           "subunitcolor": "white"
          },
          "hoverlabel": {
           "align": "left"
          },
          "hovermode": "closest",
          "mapbox": {
           "style": "light"
          },
          "paper_bgcolor": "white",
          "plot_bgcolor": "#E5ECF6",
          "polar": {
           "angularaxis": {
            "gridcolor": "white",
            "linecolor": "white",
            "ticks": ""
           },
           "bgcolor": "#E5ECF6",
           "radialaxis": {
            "gridcolor": "white",
            "linecolor": "white",
            "ticks": ""
           }
          },
          "scene": {
           "xaxis": {
            "backgroundcolor": "#E5ECF6",
            "gridcolor": "white",
            "gridwidth": 2,
            "linecolor": "white",
            "showbackground": true,
            "ticks": "",
            "zerolinecolor": "white"
           },
           "yaxis": {
            "backgroundcolor": "#E5ECF6",
            "gridcolor": "white",
            "gridwidth": 2,
            "linecolor": "white",
            "showbackground": true,
            "ticks": "",
            "zerolinecolor": "white"
           },
           "zaxis": {
            "backgroundcolor": "#E5ECF6",
            "gridcolor": "white",
            "gridwidth": 2,
            "linecolor": "white",
            "showbackground": true,
            "ticks": "",
            "zerolinecolor": "white"
           }
          },
          "shapedefaults": {
           "line": {
            "color": "#2a3f5f"
           }
          },
          "ternary": {
           "aaxis": {
            "gridcolor": "white",
            "linecolor": "white",
            "ticks": ""
           },
           "baxis": {
            "gridcolor": "white",
            "linecolor": "white",
            "ticks": ""
           },
           "bgcolor": "#E5ECF6",
           "caxis": {
            "gridcolor": "white",
            "linecolor": "white",
            "ticks": ""
           }
          },
          "title": {
           "x": 0.05
          },
          "xaxis": {
           "automargin": true,
           "gridcolor": "white",
           "linecolor": "white",
           "ticks": "",
           "title": {
            "standoff": 15
           },
           "zerolinecolor": "white",
           "zerolinewidth": 2
          },
          "yaxis": {
           "automargin": true,
           "gridcolor": "white",
           "linecolor": "white",
           "ticks": "",
           "title": {
            "standoff": 15
           },
           "zerolinecolor": "white",
           "zerolinewidth": 2
          }
         }
        },
        "width": 1000
       }
      },
      "text/html": [
       "<div>                            <div id=\"56b1e674-795b-496b-956d-d8a9989a53af\" class=\"plotly-graph-div\" style=\"height:1000px; width:1000px;\"></div>            <script type=\"text/javascript\">                require([\"plotly\"], function(Plotly) {                    window.PLOTLYENV=window.PLOTLYENV || {};                                    if (document.getElementById(\"56b1e674-795b-496b-956d-d8a9989a53af\")) {                    Plotly.newPlot(                        \"56b1e674-795b-496b-956d-d8a9989a53af\",                        [{\"customdata\":[[\"East wall road outside the O2\"],[\"Camden street lower, outside centra shop\"],[\"Marks lane\"],[\"Custom House Quay, outside AIB International Centre\"],[\"Pearce street outside garden area\"],[\"Middle abbey street, outside arnotts carpark\"],[\"Foley street\"],[\"Bloomington street outside Dargans pharmacy.\"],[\"Parnell square north\"],[\"William street south, duke street gallery.\"],[\"North king street\"],[\"Maggot street lower outside Medmark healthcare \"],[\"Cuffe street, across from O'callaghan Stephen green hotel\"],[\"Parnell street outside temple hall\"],[\"Parnell street outside beauty chic\"],[\"Parnell street, outside 147 deli\"],[\"Wexford street, Infront of bank of ireland\"],[\"Bottom of George's street, beside the mercantile\"],[\"Fitzwilliam Place\"],[\"Capel street outside AIB bank\"],[\"Merrion street lower\"],[\"Earlsfort Terrace\"],[\"Abbey street lower near abbey street luas station\"],[\"Amiens street under train tracks\"],[\"North circular road outside carolans off licence\"],[\"Dorset Street Upper, outside Ritzy Rags Shop\"],[\"Foley street\"],[\"Dorset street upper outside techno logic \"],[\"Parnell street outside lomdis\"],[\"Top of Parnell street opposite Londis\"],[\"St Stephens green Luas, in front of certus\"],[\"Tara street\"],[\"Mayor street upper beside the point luas station\"],[\"Mountjoy square noeth\"],[\"Exchequer Street, outside Fallon Byrne \"],[\"Stephens street upper, beside IBOA House\"],[\"George's street great south outside Dublin business school\"],[\"Exchequer street\"],[\"Jervis street\"],[\"Patrick street opposite daybreak shop\"],[\"Opposite 179 Church street\"],[\"Baht street lower outside Larry Murphy's\"],[\"Maggot street lower outside bank of ireland\"],[\"Westland row\"],[\"Pearce street\"],[\"Aungier street outside DIT\"],[\"Capel street outside Dublin College of Advanced Studies\"],[\"Kings Inn Street\"],[\"top of Parnell street\"],[\"Parnell Street, outside Burger King\"],[\"Mary street outside Mary Mall\"],[\"Berkeley road outside Flanagans pharmacy\"],[\"Mayor street lower outside AIB\"],[\"George's Dock across the road from KPMG\"],[\"Suffolk street\"],[\"Westmoreland street\"],[\"Pearce street\"],[\"Wolfe Tone Street, outside Alexanders bridal shop\"],[\"Start of kings inn street\"],[\"Jervis street, outside McDonolds.\"],[\"Camden street lower\"],[\"High street\"],[\"York street, royal college of surgeons\"],[\"Parnell street\"],[\"Marlborough street outside eircom and kanoodle\"],[\"Parnell street outside euro giant\"],[\"Start of Summer hill\"],[\"St. Stephens Green, outside oxfam and specsavers\"],[\"Parnell Street, outside Alexander's bridal shop\"],[\"Merrion square North\"],[\"Mount street lower opposite new mount house\"],[\"Harcourt road, in front of regius building\"],[\"Mercer street outside DCC\"],[\"Marlborough street outside admiral restraunt\"],[\"Eden Quay ooutside Liberty Hall\"],[\"Talbot Street outside Singer shop\"],[\"York street, across from Dublinbike station\"],[\"Johnstons place outside pearls shop\"],[\"Camden street lower, outside cracker nut cafe\"],[\"Blessignton street outside La Pausa cafe\"],[\"North circular road and belvidire road junction\"],[\"Camden street lower, across from Fontana cafe\"],[\"Parnell square west\"],[\"Merrion street lower island\"],[\"Hatch street lower\"],[\"Capel street outside capel kebab and pizza house\"],[\"Jervis street opposite TP Smiths\"],[\"Aaran quay outside bank of Ireland\"],[\"Grattan bridge \"],[\"Parliament Street across from florentina restaurant\"],[\"Parliament street, outside subway \"],[\"Burgh quay\"],[\"Fatima luas stop\"],[\"Phoenix street north\"],[\"Merrion square east\"],[\"North kings street\"],[\"North kings streetboutside macro\"],[\"Fitzwilliam street lower\"],[\"Phisborough road opposite mc donalds\"],[\"Middle abbey street \"],[\"Middle abbey street outside hidden hearing.\"],[\"Middle abbey street, outside celebration party shop.\"],[\"St Stephen's green North\"],[\"Sack like place\"],[\"Goldsworthy street outside Foxx Coffee House\"],[\"Lincoln Place\"],[\"Mount street upper\"],[\"Mount street lower opposite howl at the moon club\"],[\"Georges Quay\"],[\"Grand canal docks\"],[\"Grand canal docks outside fresh\"],[\"Blood stone road\"],[\"Both wall quay, opposite the Spenser. \"],[\"Sir john Robertson quay\"],[\"Start of Leinster street south\"],[\"Marlborough street opposite An Board Pleanala \"],[\"Mount street lower outside board bia\"],[\"Camden street lower, Infront of enable ireland\"],[\"North strand road\"],[\"Amiens street outside the funky skunk\"],[\"Bolton Street, outside DIT\"],[\"Eden Quay outside Beresford Court\"],[\"Talbot street outside Guiney and co.\"],[\"Top of Parnell street outside Foleys pharmacy\"],[\"St Stephens green north outside permanent tsb\"],[\"Jervis Street outside Penny's\"],[\"Wexford street, djinn shop, across the road from opium\\r\\n\"],[\"Aungier street, outside YMCA\"],[\"Cathal Brugha street\"],[\"Cathal Brugha Street outside DIT\"],[\"Camden street lower, Simon community shop,.\"],[\"Coppinger row\"],[\"Parnell street outside Centra \"],[\"Start of st. Stephen's Green terrace. \"],[\"Pembroke street lower, opposite coffee angel.\"],[\"O'Connell street, median, behind Sir John Gray monument\"],[\"South Circular road tesco\"],[\"Essex street east, outside the Clarence hotel\"],[\"The coombe outside ovenden house. \"],[\"College green, median\"],[\"North king street\"],[\"End of Adelaide road beside kiosk\"],[\"Start of Fitzwilliam square north\"],[\"Middle abbey street,  outside independent house newspaper limited.\"],[\"Middle abbey street, outside austrailia travel.\"],[\"Grand canal street lower\"],[\"Mount street lower opposite new mount house\"],[\"D'Oliver street\"],[\"Foley street outside dance Irelamd\"],[\"Blood stone road\"],[\"Mayor square outside Snap and national college of Ireland.\"],[\"Fade street, outside the rage record store\"],[\"Hume street\"],[\"Wolfe tone street\"],[\"Wolfe tone street outside AXA office\"],[\"Coppinger row \"],[\"Saclville Place\"],[\"Trinity street\"],[\"Pearce street opposite parser square\"],[\"Parnell street outside cineworld.\"],[\"Abbey Street Lower, outside Abbey Theatre.\"],[\"Abbey Street Lower outside Beresford Court.\"],[\"Pearce street and Townsend street\"],[\"Stephens green, in front of beneton shop\"],[\"East wall road outside the O2 \"],[\"Bedford row, beside Ladbrokes\"],[\"Talbot Street outside Carrolls shop\"],[\"Fleet Street, outside TGI restaurant.\"],[\"Aston quay, outside house of colour\"],[\"Harcourt street outside Starbucks \"],[\"New bride street , Infront of small green\"],[\"Mount street ctescent\"],[\"Beresford Place median\"],[\"Kevin's street outside o haras pharmacy\"],[\"Dorset street outside gaa ticket office \"],[\"Wexford street, Infront of mega bikes.\"],[\"Camden street lower, outside ulster bank\"],[\"Mountjoy square south outside dit\"],[\"Noel Purcell Walk, Infront of beaux lane house\"],[\"Chatham road, outside Mao restaurant\"],[\"William street south, outside dada restautsnt\"],[\"Saint Andrew street\"],[\"South George's street, outside Diwali\"],[\"George's street, outside Hogans pub\"],[\"Berkeley road outside Berkeley wash\"],[\"Cathal Brugha street outside the Irish aid office\"],[\"Cork street\"],[\"Camden street lower, Infront of icon health store. \"],[\"Drury street, outside Carousel\"],[\"Drury street outside Irish design shop\"],[\"End of Hatch street lower, both sides of the road, outside cafe sol\"],[\"Hatch street lower\"],[\"George's street, opposite Dublin business school\"],[\"Open square beside Dublin City hall\"],[\"Capel street outside spar\"],[\"Great strand street, outside pantibar\"],[\"Essex street west, outside the gaiety school of acting.\"],[\"Wellington quay\"],[\"Four courts luas stop\"],[\"Marlborough street\"],[\"Thomas street across from the hill top bar\"],[\"Francis street opposite the liberty bell pub\"],[\"Cornmarket street outside farrow and ball\"],[\"May lane outside Hanley at the bar\"],[\"North kings street outside centra\"],[\"Cathal Brugha Street outside the Living Room pub\"],[\"Parliament street outside paramount hotel\"],[\"Parliament street outside spar shop\"],[\"Eustace street, outside the Italian corner restaurant\"],[\"Essex street, outside the shack restaurant.\"],[\"Cope street, behind central bank\"],[\"Temple bar, outside Rory's fishing shop.\"],[\"Fleet Street, outside hard rock cafe\"],[\"Burgh quay\"],[\"Cork street\"],[\"Westmorleland street, outside Bewleys\"],[\"Christchurch square\"],[\"Thomas street outside st johns priory\"],[\"Merchants quay\"],[\"Parkgate street outside Landis\\\\subwau\"],[\"Capel street, outside mcQuillan tools\"],[\"Fitzwilliam street upper\"],[\"Fitzwilliam street lower\"],[\"Fitzwilliam street lower\"],[\"Church street Londis\"],[\"Top of Smithfield\"],[\"Fitzwilliam square north\"],[\"Manor street\"],[\"Middle abbey street across the road from the Gin Palace  pub\"],[\"Camden street, Infront of great deals store.\"],[\"Berkeley road outside post office\"],[\"Liffey street outside entrance to Arnotts.\"],[\"Mount street uppwr\"],[\"Charlemont place beside luas station \"],[\"Grand canal docks\"],[\"Admiral brown street\"],[\"All along Forbes street\"],[\"Blood stone /road horse fair intersection\"],[\"A'll along bood stone road\"],[\"All along Forbes street\"],[\"Fade street, outside hogans bar\"],[\"Benson street\"],[\"Horse fair\"],[\"Prussia street\"],[\"Start of South William street, outside jewl in the crown\"],[\" Parnell square west outside the rotunda hospital \"],[\"Queen street, probation service \"],[\"Christ church place, outside sunny's newsagent\"],[\"Wexford street, outside solo clothes shop.\"],[\"Francis street outside reillys pharmacy \"],[\"Houston train station\"],[\"Top of baggot street lower, end of pembroke street lower\"],[\"Edge of exchequer street, outside pharmacy and rustic stone\"],[\"Essex street, outside zaytoon\"],[\"Dame street,  outside Nico's restaurant\"],[\"Prince's street north, outside penny's.\"],[\"Leinster street south outside TCD Leinster street\"],[\"Aungier street outside DIT\"],[\"Start of castle street\"],[\"Molesworth street, \"],[\"Parnell Streer outside Aldi\"],[\"Prince's street north, outside penny's\"],[\"Talbot street outside wake cup\"],[\"Capel Street, outside The Horse Shoe shop\"],[\"Parnell street outside king fisher restraunt.\"],[\"Johnstone place, outside pharmacy\"],[\"Camden street upper, outside damascus gate restaurant \"],[\"Trinity street, outside jack jones shop\"],[\"End of Liffey street lower, outside the grand social\"],[\"End of Patricia street outside spar\"],[\"Start of westborough street, beside the butchers bar\"],[\"Heuston Luas stop\"],[\"James street outside McCanns pub\"],[\"Thomas street outside Massey bros funeral home\"],[\"Essex street east, outside costa cafe.\"],[\"Eustace street, outside the orseman pub\"],[\"Cecilia street, outside temple lane recording studios\"],[\"Cecilia street, outside luigi malones restaurant\"],[\"Fleet Street, across from thunder road cafe\"],[\"Infirmary road\"],[\"Middle abbey street outside arnotts.\"],[\"Upper abbey street near the Jervia Luas stop.\"],[\"Talbot street across the road from Paddy Power\"],[\"Top of Forbes street\"],[\"All along blood stone road\"],[\"North Circular road outside Matter hospital. \"],[\"Parnell street outside Jervis medical centre\"],[\"Wood quay, outside DCC\"],[\"Start of marborough street outside the abbey theatre\"],[\"Ormond square\"],[\"Drury street, outside George's st. arcade\"],[\"Sponsor Dock Luas station\"],[\"Outside criminal courts of justice\"],[\"Houston station,\"],[\"Eden quay\"],[\"Chatham road, outside DIT music and drama\"],[\"Parnell street outside cycleways. \"],[\"Bottom of grafton streer\"],[\"Baggot street lower outside tailored finance.\"],[\"Essex street, outside the porterhouse pub\"],[\"Wexford street, in front of whelans off licence\"],[\"Capel street outside codys of Capel Street.\"],[\"Parnell street across the road from Euro Giant shop\"],[\"Marlborough Street outside Spar shop\"],[\"Amiens Street at Luas station\"],[\"Camden street, outside penny farthing cycles\"],[\"Camden street lower, outside tommy Moore jewellers\"],[\"Cavendish road outside the Ambassador theatre.\"],[\"Beresford Place Infront of Busaras.\"],[\"Burgh quay, outside Jaffa deli\"],[\"Hawkins street, outside PCI college\"],[\"Westmoreland street, outside fexco\"],[\"College green, outside dubarry of Ireland shop\"],[\"Mabbot lane\"],[\"Top of Parnell square east.\"],[\"Bresford Place beside Liberty Hall and bus eireann bus stop\"],[\"Ovoca\"],[\"Hawkins street\"],[\"Cumberland street North outside nam thanh supermarket\"],[\"Clarendon street, across from BT\"],[\"Store street outside Bus Eireann\"],[\"North Frederick street outside Lady beauty Parlour\"],[\"South George's street, outside laser dvd\"],[\"Georges dock outside Ely chq\"],[\"Smithfield near luas station\"],[\"St James hospital\"],[\"Brooksfield road outside mace\"],[\"Tara street\"],[\"Bottom of Westmoreland street\"],[\"D'Oliver street\"],[\"Top of Capel Street\"],[\"Swift Row\"],[\"Bride Road\"],[\"Luke Street\"],[\"Francis Street at Thomas Street end\"],[\"Exchange Street Upper\"],[\"Charlemont Street \"],[\"Clanbrassil St north of Fumbally Lane\"],[\"Clanbrassil St south of Fumbally Lane\"],[\"Mary Street east of Jervis Lane Lower\"],[\"Thomas Davis Street South at Francis St end\"],[\"Ryders Row\"],[\"St Andrews Street\"],[\"Dame Court\"],[\"Barrow Street\"],[\"Ringsend Road\"],[\"Capel Street\"],[\"Green Street\"],[\"Dorset Street Lower\"],[\"Blessington Street\"],[\"King Street North\"],[\"Francis Street\"],[\"Patrick Street\"],[\"Moore Street\"],[\"Moore Street\"],[\"Moore Street\"],[\"Bellevue\"],[\"Golden Lane\"],[\"St. Stephens Green South\"],[\"St. Stephens Green West\"],[\"Kevin Street Lower\"],[\"Richmond Street South\"],[\"Richmond Street South\"],[\"Pleasents Street\"],[\"Oliver Bond Street\"],[\"Causeway Road\"],[\"Griffith Avenue\"],[\"Eden Quay\"],[\"Jervis Street 1\"],[\"Jervis Street 2\"],[\"Store Street\"],[\"North Circular Road\"],[\"North Circular Road\"],[\"Philbsborough Road/Connaught St\"],[\"Cardiff Lane\"],[\"Redstables Market\"],[\"Marks Alley West\"],[\"Carman's Hall at Francis Street\"],[\"Carman's Hall at Meath Street\"],[\"Dean Street\"],[\"Thomas Street\"],[\"Augustine Street West at Cornmarket\"],[\"North Wall Quay \"],[\"Northern Campshires\"],[\"Washington Street\"],[\"Greenville Terrace\"],[\"North Circular Road Opposite Library\"],[\"North Circular Road West of Berkeley Road\"],[\"Goldsmith Street Westside\"],[\"Phibsborough Road outside Doyles Bar\"],[\"Phibsborough Road Westside at Thunders Bakery\"],[\"Phibsborough Road Eastside south of NCR at AIB\"],[\"Phibsborough Road Eastside at Rothar\"],[\"North Circular Road east of Phibsborough Rd at Doyles\"],[\" Stoney Batter eastside outside Centra\"],[\"Manor Street eastside at Grants\"],[\"Manor Street eastside outside No. 3\"],[\"Manor Street westside\"],[\"Stephen Street Lower\"],[\"York Street, southside at Bright Wash\"],[\"Patrick Street \"],[\"Bishop Street\"],[\"Cuffe Street\"],[\"Holles Street\"],[\"Pearse Street outside subway\"],[\"Pearse Street outside Trinity Business\"],[\"Parkgate Street outside Nancy Hands\"],[\"Parkgate Street outside Westbrook Motors\"],[\"Blackhall Place\"],[\"Haymarket\"],[\"Coke Lane\"],[\"Baggot Street Lower at James Street East (Bank of Ireland)\"],[\"Baggot Street Lower west of Pembroke St Lower\"],[\"Wilton Terrace, at junction with Wilton Place\"],[\"Mount Street Lower outside No 33\"],[\"Herbert Street, south of Convent Close\"],[\"Sir John Rogerson's Quay east of Cardiff Lane\"],[\"Whitefriar Street, eastside south of Golden Lane\"],[\"Merrion Square North opposite No.6\"],[\"Fenian Street ,northside  east of Bass Place\"],[\"Adelaide Road , northside outside Eye and Ear Hospital\"],[\"Ailesbury Road, northside, west of Merlyn Park\"],[\"Strand Road Car Park, opposite No.9 Adelaide Mews\"],[\"Sandymout Village, eastside opposite No .95\"],[\"Sandymout Village, westside outsideNo .95\"],[\"Tudor Road, westside opposite Cowper Gardens \"],[\"Pine Road, northeastern corner at Ringsend Park\"],[\"Fitzwilliam Street westside, north of Bridge Street\"],[\"Ormond Quay Upper northside outside No.31-36\"],[\"Ormond Quay Upper northside outside No. 20\"],[\"Mary Street, southside east of Capel Street\"],[\"Yarnhall Street,  northside west of Bolton Street\"],[\"Parnell Square West south of entrance to Rotunda Hospital\"],[\"Parnell Square North opposite No. 18\"],[\"Beresford Lane, northside west of Gardiner Street Lower\"],[\"Talbot Street, northside under railway bridge\"],[\"Sheriff Street Upper,  northside opposite Castleforbes Street\"],[\"Sheriff Street Upper,  northside outside train station\"],[\"Mountjoy Square South northside opposite No. 40-45\"],[\"Mountjoy Square South, southside outside No. 48\"],[\"Gardiner Place northside at Temple Street\"],[\" Kings Inn Street\"],[\"Eccles street \"],[\"Temple Street North \"],[\"Temple Street North\"],[\"Marys Lane \"],[\" Herbert Park \"],[\" Merchants Quay \"],[\" New Street South \"],[\" Meath Street \"],[\"Newmarket \"],[\"Francis Street \"],[\" High Street \"],[\"Meath Street\"],[\" School Street\"],[\" James Street \"],[\" Bridgefoot Street \"],[\"St Johns Road West \"],[\" Watling Street \"],[\"\\u00a0 Taylor\\u2019s lane\"],[\"\\u00a0\\u00a0 Saint Augustine Street \"],[\" Grattan Crescent \"],[\"\\u00a0 Leinster Square \"],[\"\\u00a0 Howth Road \"],[\" Raheny Main Street \"],[\" Vernon Avenue \"],[\" Drumcondra Road Upper\"],[\"\\u00a0 Clonliffe Road \"],[\"\\u00a0 Finglas Road \"],[\" Seamus Ennis Road \"],[\"Finglas Road\"],[\"Coolock Main Street \"],[\"Poolbeg  \"],[\" South Earl Street.\"],[\" John Street West.\"],[\" Ormond Street.\"],[\" Ashtown Grove.\"],[\" Cameron Street.\"],[\" Benbulbin Road.\"],[\" Keeper Road.\"],[\"South Circular Road.\"],[\" Prospect Way.\"],[\" South Circular Road.\"],[\" Glasanaon Road.\"],[\" City Quay.\"],[\"Essex Street East.\"],[\"Wellington Quay.\"],[\"Clontarf Road.\"],[\"Parliment Street\"],[\"Fairview Avenue Lower.\"],[\"Bannow Road.\"],[\"Old Finglas Road.\"],[\"Prospect Square.\"],[\"Finglas Road.\"],[\"Ballymun road.\"],[\"Gateway Crescent.\"],[\"Millmount Avenue.\"],[\"Navan Road.\"],[\"Strand Road Car Park.\"],[\"Naas Road.\"],[\" Strand Road Car Park.\"],[\"Merrion Road\"],[\"Pearse St\"],[\"Harolds Cross Rd\"],[\"Oliver Bond St\"],[\"Drumcondra Rd Lwr\"],[\"Rathmines Rd Upr\"],[\"Charlemont St\"],[\"Mespil Road\"],[\"Camden St Lwr\"],[\"Pembroke Rd\"],[\"Phibsboro Rd\"],[\"East Rd\"],[\"Rathgar Rd\"],[\"Grace Park Rd\"],[\"James Walk\"],[\"Pearse St\"],[\"Clogher Rd\"],[\"Harolds Cross Rd\"],[\"Sundrive Rd\"],[\"Clanbrassil St Lwr\"],[\"Irishtown Rd\"],[\"Clanbrassil St Lwr\"],[\"St Davids Terrace\"],[\"Myrtle St\"],[\"Hogan Pl\"],[\"Greendale Rd\"],[\"The Rise\"],[\"Sundrive Rd\"],[\"Ellis Rd\"],[\"Drumcondra Rd Upr\"],[\"Ranelagh Rd\"],[\"Basin View\"],[\"Kimmage Rd Lwr\"],[\"North Strand Rd\"],[\"Navan Rd\"],[\"Kinvara Ave\"],[\"St Andrews St\"],[\"Clontard Road Car Park\"],[\"Cavendish road\"],[\"Parnell Square East\"],[\"Westmorland St/ Aston Quay Junction\"],[\"Lower bridge st\"],[\"Mount Drummoud\"],[\"Mount Drummoud 2\"],[\"Molesworth Street \"],[\"Sprout Kitchen, Sir John Rogerson's Quay\"],[\"Gerards, Sir John Rogerson's Quay\"],[\"The Lir Academy, Grand Canal Quay\"],[\"Charlemont place\"],[\"Grand Parade\"],[\"Imagine, Barrow street\"],[\"Outside Apartments, Barrow street\"],[\"Outside Apartments, Barrow street\"],[\"Asgard Road\"],[\"Hume Street \"],[\"Capel Street\"],[\"Brunswick St North\"],[\"8 Hatch Street Lower\"],[\"Arthur Cox, Hatch Street Lower\"],[\"Deloitte, Hatch Street upper\"],[\"Rathmines Road Upper\"],[\"Le Fanu Road, Ballyfermot\"],[\"City Quay  & Creighton Street\"],[\"Shandon Cres\"],[\"North Circular Road /Emmet Street \"],[\"Clonliffe Road\"],[\"NCR/Belvedere Road junction \"],[\"Coultry Park\"],[\"Fagens pub, Botanic Ave\"],[\"Griffth park, Botanic Ave\"],[\"Our Lady of Dolours Chuch, Botanic Ave\"],[\"St Ita's Road\"],[\"Ballybough Road\"],[\"Calderwood Road\"],[\"Calderwood Road  2\"],[\"Bushes Lane\"],[\"Kenilworth Square South\"],[\"Malahide Road\"],[\"Cumskeys bar,  Blackhorse Ave\"],[\"Clontarf Road\"],[\"Clontarf Road 2\"],[\"Loretto Convent, Sundrive Road 2\"],[\"Claddagh Grreen\"],[\"Richmond Row\"],[\"Armstrong Street\"],[\"Donore Avenue\"],[\"Greenville Avenue\"],[\"Spar Ranelagh Village\"],[\"Ailesbury Gardens\"],[\"Finglas Village (Massey Bros)\"],[\"Newbridge Avenue\"],[\"Richmond Street South\"],[\"Mount Street Lower (Bord Gais)\"],[\"Leinster Street South (Trinity Point)\"],[\"Thunder Road caf\\u00e9 - Fleet Street\"],[\"York Street - RSCI\"],[\"Hanover Street East(Jct with Erne St Lower)\"],[\"Hanover Street East(Opposite Eurospar)\"],[\"North Wall Quay (opposite 3arena)\"],[\"Commons Street (outside Bank of Ireland)\"],[\"Commons Street(outside Havana)\"],[\"Phibsborough Road (Student residences)\"],[\"Western Way\"],[\"Parnell Street (Jct North Great Georges St)\"],[\"Mountjoy Street (Dublin International Youth Hospital)\"],[\"Mountjoy Street (outside spar)\"],[\"Sean McDermott Street Lower (swimming Pool)\"],[\"Harcourt Road (investec)\"],[\"Harcourt Road (Baxter & Greene)\"],[\"Baggot Street Upper (Paddy Power)\"],[\"Orwell Road\"],[\"Milltown Road (Churchtown Rd Jct)\"],[\"Serpentine Avenue\"],[\"Church Avenue\"],[\"Emmet Road\"],[\"South Circular Road (dolphin electrical)\"],[\"South Circular Road (house 582)\"],[\"Lesson Street Upper\"],[\"Grosvenor Square (side of House 89)\"],[\"Shelbourne Road (centra)\"],[\"Jamestown Road (village shopping centre)\"],[\"Grange Road (Donaghmede Shopping Centre)\"],[\"La Costa takeaway, Clontarf Road (in car park)\"],[\"Seafield Road, Clontarf\"],[\"St Bridges Road, Clontarf\"],[\"Collins Avenue, Whitehall\"],[\"Barryscourt Road, Pedestrian crossing at NSC\"],[\"Bulfin Road (outside 52)\"],[\"Suir Road (zinc hair & beauty)\"],[\"St Gabriels Road, Clontarf East\"],[\"Angelesea Road (Library)\"],[\"North Circular Road (moldova Shop) Phibsborough\"],[\"Edenmore Park\"],[\"St Assams Park\"],[\"Bluebell Luas Stop, Naas Road\"],[\"Ringsend Road (Ash Ireland)\"],[\"Omni Shopping Centre, Swords Road\"],[\"Glengarriff Parade\"],[\"Wilton Place\"],[\"Clanbrassil St Lower\"],[\"Molesworth St\"],[\"Bolton St\"],[\"Grosvenor Rd\"],[\"City Quay\"],[\"Fleet St\"],[\"Pearce St\"],[\"Ross Road\"],[\"Bloomfield Ave (46)\"],[\"South Circular Road (Jct with Donore Ave)\"],[\"Bride St (Health Studio)\"],[\"Bride St (Opposite 79 at Park)\"],[\"4 Blessington St\"],[\"Bride St (Canon Court)\"],[\"Cuffe St (Opposite Mercer St Upper)\"],[\"Swords Rd (Larkhill Rd Jct)\"],[\"Barryscourt\"],[\"Braithewaite St (Jct with Poole St)\"],[\"Bride St (Park Entrance)\"],[\"28 Killarney St\"],[\"Crumlin Rd (Shop Center)\"],[\"Crumlin Rd (Jct with Brickfield Drive)\"],[\"Crumlin Village (Jct with Lisle Rd)\"],[\"St Marys Rd (Agnes Terrace Jct)\"],[\"Farnham Drive (Erins Isle GAA)\"],[\"Shanowen Rd (St Kevins Boys Club)\"],[\"Dunne St (Library)\"],[\"St Patricks Close (Jct with Kevin St Upper)\"],[\"Ballyfermot Rd (McLoughlins Butchers)\"],[\"46 Bulfin Rd\"],[\"Bluebell Rd (Community Center)\"],[\"Emmet Rd (outside Library)\"],[\"Clonard Rd (Jct with Crumlin Road)\"],[\"Long Mile Rd (outisde Kokonut Shop)\"],[\"16 Errigal Rd\"],[\"St Aidans Park Rd (Jct With Malahide Rd)\"],[\"Belgove Rd (jct with Summerville)\"],[\"Townsend St (Jct with Mark St)\"],[\"Ranelagh Road\"],[\"Haddington Road\"],[\"Clancarthy Road\"],[\"Anglesea Road(RDS Main Venue Gate)\"],[\"Kevin Street Lower (Outisde DIT Entrance)\"],[\"Cabra Road (Downeys Pub @ Dowth Ave Jct)\"],[\"Pearse Street (Outside GoHop)\"],[\"Daniel Street (Jct Harty Place)\"],[\"Erne Street Upper (Outsude Bike Shop) Jct Boyne St\"],[\"Lennox Street (Bretzel Bakery)\"],[\"Merrion Square South (Between house 76 & 77)\"],[\"Pearse Street (The Lombard Pub)\"],[\"Ravendale Park (Outside the Four Provnces Pub)\"],[\"Northumberland Road (Baggot Lane Jct)\"],[\"St Agnes Road (Outside Crumlin Garda Station)\"],[\"Conrad Hotel, Earlsfort Terrace\"],[\"Bishop Street (Intreo/Welfare Centre)\"],[\"Military Road, Rathmines (opposite Blackbird)\"],[\"Pearse Street(Outside Goldsmith Hall)\"],[\"Bride Road (Iveagh Fitness Club)\"],[\"Blessington Street (Jct with Mountjoy Street)\"],[\"New Street South (Peadar Browns Pub)\"],[\"New Street South (Fumbally Court)\"],[\"North Circular Road (Outside Mr Tubs Dry Cleaning)\"],[\"Lombard Street East (The Lombard Pub)\"],[\"Macken Street (Outside Flyfit Gym - Hanover St East Jct)\"],[\"Moss Street (Jct with Townsend Street)\"],[\"King Street North(Jct with Green Street)\"],[\"Pearse Street(Outside Maldron Hotel/Centra)\"],[\"Mount Prospect Avenue (Jct with Clontarf Rd)\"],[\"Cork Street (Robisnson Court opposite weaver park)\"],[\"Cork Street (Intreo Center)\"],[\"Cork Street (Southside Angling opposite Intreo)\"],[\"Wilder & Green, Milltown\"],[\"Oxmantown Road (Cowper Street Jct)\"],[\"Oxmantown Road (opposite the mascott pub)\"],[\"Blackhall Place(Jct with Blackhall Green)\"],[\"North Circular Road(Spar @ Portland Street Jct)\"],[\"Cork Street (Centz)\"],[\"All Saints Drive (Outside Raheny GAA)\"],[\"New Street South (Maldron Hotel)\"],[\"St Stephens Green (outside RSCI)\"],[\"Phibsborough Road (Opposite Bald Eagle Pub)\"],[\"Causeway Road Clontarf\"],[\"Parkgate Street (Jct with infirmary road - Nancy Hands pub)\"],[\"Bridgefoot Street (Jct with Thomas Street)\"],[\"Princes Street North (pennys at Oconnel Street)\"],[\"Liffey Street\"],[\"North Strand Road jct with Shamrock Place\"],[\"Parkgate Street\"],[\"Mulberry Lane Car Park\"],[\"Leinster Street South (Building No.9)\"],[\"Kilmainham Lane (House No.6)\"],[\"Kimmage Road Lower\"],[\"Wolf Tone Street (opposite Griffith College)\"],[\"Synge Street (close to Synge Lane)\"],[\"South Dock Street (jct with Barrow St)\"],[\"Milltown Road (outside Poise)\"],[\"St Stephens Green South\"],[\"Earlsfort Terrace (Outside HPRA)\"],[\"Chancery Place (outside Dublin Christian Mission)\"],[\"McAuley Road (Outside Entrance to St Pauls Artane FC)\"],[\"Wynnefield Road (Outside Rathmine Bikes)\"],[\"Lesson Street Lower (Outside The Sugar Club)\"],[\"East Road (Jct with Bargy Road)\"],[\"Fassaugh Avenue (Outside Londis)\"],[\"Grantham Street (Jct with Camden St Lower)\"],[\"St Marys Road Ballsbridge (Jct with Baggot Lane)\"],[\"Church Road (Outside Colt Technology)\"],[\"East Wall Road (Jct with Sheriff St Upper)\"],[\"Fitzmaurice Rd (Outside Ballgall Credit Union)\"],[\"Seville Place (Jct with Oriel St Lower)\"],[\"Percy Place (opposite Investment house)\"],[\"Chancery Lane (Outside Plus Architecture)\"],[\"Seville Place (Jct with Coburg Place)\"],[\"Hatch Street Upper (Outside Eversheds)\"],[\"Pearse Street (Outside Aras An Phiarsaigh)\"],[\"Eblana Villas (Jct with Grand Canal Street Lower)\"],[\"Hatch Street Upper (Outside Hardwicke House)\"],[\"Blackhall Place (outside Spar)\"],[\"Fassaugh Avenue (Outside NCBI)\"],[\"Anglesea Road (Jct Merrion Road)\"],[\"Anglesea Road (Jct Merrion Road)\"],[\"Hatch Street Upper (Outside One Place Park)\"],[\"Richmond Road (Jct with Richmond Avenue)\"],[\"Mountjoy Square North (Jct with MJS East)\"],[\"Clontarf Road (Jct with Dollymount Park)\"],[\"Cullenswood Park ( Jct with Ranelagh Road)\"],[\"N1 Ramp Road (Just off Ellenfield Park)\"],[\"Lorcan Avenue (Outside Kilmardinny Inn)\"],[\"Morehampton Road (Jct with Herbert Park)\"],[\"Walkinstown Road (Carprk opposite Halfway house)\"],[\"Mellows Road (Outside Community Center)\"],[\"Fassaugh Avenue (Cabra House Pub)\"],[\"Fassaugh Avenue (outside spar & Centra)\"],[\"Hatch Street Upper (Outside Three Park Place)\"],[\"Sybil Hill Road (Entrance to St Annes Park)\"],[\"Arran Quay\"],[\"Ovova Road (Outside City Building Supply)\"],[\"The Ivy, Molesworth Street (Jct with Dawson St)\"],[\"Imaal Road\"],[\"Hockey Club, Old Finglas Road\"],[\"James Larkin Road (Clontarf)\"],[\"St Stephens Green South\"],[\"Killester Ave (Jct with Killester Park)\"],[\"Killester Ave (Jct with Killester Park)\"],[\"Dorset Street Upper (Outside Gala)\"],[\"Coolock Drive (Jct with Oscar Traynor Rd)\"],[\"Elmfield Rise (Outside Spar)\"],[\"Carlingford Road (Opposite Andersons Creperie)\"],[\"Swords Road (The Viscount)\"],[\"William Street North (Outside Lowrys)\"],[\"North Wall Ave (Madden Property Consultants)\"],[\"Kilmainham Lane (Opposite La Dolce Vita)\"],[\"Harolds Cross Road (Greyhound Stadium)\"],[\"Nelson Street (Centre for Nurse Ed)\"],[\"Innisfallen Parade (Jct Dorset St Lower)\"],[\"Arnott Street (Jct with Heytesbury St)\"],[\"Terenure Road North (Terenure Laundrette)\"],[\"Eamoon Ceannt Park (Clogher Rd/Rutland Rd) Sundrive Pavillion\"],[\"Holyrood Park (Jct with Sandymount Ave)\"],[\"Tara Street (irish Times)\"],[\"Tara Street (irish Times)\"],[\"Maryfield Ave (Ardlea Inn)\"],[\"Coolock Drive (Mr Price)\"],[\"Mourne Road (Our Lady of Mercy Secondary School)\"],[\"St Michaels Estate (opposite Community Sports Centre)\"],[\"Wellington Street (Delahuntys Bar)\"],[\"Tyreconnell Road (Tesco)\"],[\"Rathmines Road Upper (Jct with Maxwell Lane)\"],[\"Angelesea Raod (Brookfield Apartments)\"],[\"Dolphin Road (Crumlin)\"],[\"Islandbridge\"],[\"Manor Place (Manor Street Jct)\"],[\"Drumcondra Rd Upper (Outside Insomnia)\"],[\"Drumcondra Rd Upper ( Home Farm FC)\"],[\"Swords Road ( Holy Child Church @ railing)\"],[\"Swords Road (Jct Collins Ave)\"],[\"Saint Annes Car Park\"],[\"Frederick Street North\"],[\"St Josephs Parade (National Training Center)\"],[\"Greenlea Road, Terenure\"],[\"Ellis Street\"],[\"McHughs, Malahide Road\"],[\"Kestral, Cromwellsfort Road\"],[\"Spar, Donnybrook Road\"],[\"Talbot Place\"],[\"Simmonscourt Road\"],[\"Lios na nOg, Oakley Road\"],[\"Aughrim Street Sports Hall, Aughrim Street\"],[\"Manor Street\"],[\"Clareville Road\"],[\"Moyne Road\"],[\"Mount Pleasant Square\"],[\"Finance Ireland, Pembroke Road\"],[\"Hume House, Pembroke Road\"],[\"The hardware Store, Dunville Avenue\"],[\"Seafield Road West, Clontarf\"],[\"Richmond Street North\"],[\"Terenure College Swimming Pool, Fortfield Road\"],[\"Mount Eden Road\"],[\"Old Mountpleasant 1\"],[\"Old Mountpleasant 2\"],[\"Main Street, Chapolizad\"],[\"Prospect Square Installation\"],[\"Circle K, Merrion Road\"],[\"Aparto, Dorset St Upper\"],[\"Emmet Road (McDowells Pub)\"],[\"Adelaide Road (Montague House)\"],[\"Malahide Road (Kilmore Rd Jct)\"],[\"Pembroke Street Lower (Californian Burrito Bar)\"],[\"Dermot O'Hurley Ave\"],[\"Mount Street Crescent (Herbert St Jct)\"],[\"Walkinstown Green (Heritage Credit Union)\"],[\"Mespil Road (Opposite building 39)\"],[\"Kings Inn Street\"],[\"Tyrconnell Street (Tyreconnel Road Jct)\"],[\"Dartmouth Road (Dartmouth Place Jct)\"],[\"Crawford Ave (Iona Road Jct)\"],[\"Cumberland Road (Fitzwilliam Place Jct)\"],[\"Adelaide Road (jct Hatch Lane)\"],[\"Slievenamon Road (Keeper Road Jct)\"],[\"Shelbourne Road (Starbucks)\"],[\"Herbert Park (astro turf entrance)\"],[\"Swords Street (Thor Park)\"],[\"Swords Street (Finn Street Jct)\"],[\"Patrick Street (St Patricks Cathedral)\"],[\"Seafield Road West (St John Baptist School)\"],[\"Drumcondra Road (Chilli Banana)\"],[\"Townsend Street\"],[\"Emmet Road\"],[\"Aungier Street\"],[\"Emmet Road\"],[\"Leinster Street North\"],[\"Oxmantown Road\"],[\"Clare Road\"],[\"Clonmel Street\"],[\"Kimmage Grove\"],[\"St Alphonsus Road\"],[\"Blackhall Street\"],[\"Ely Place\"],[\"Albert College Park\"],[\"Viking Place\"],[\"Ballyfermot Road\"],[\"South Circular Road\"]],\"hovertemplate\":\"<b>%{hovertext}</b><br><br>type=Stand<br>X=%{lat}<br>Y=%{lon}<br>location_stand=%{customdata[0]}<extra></extra>\",\"hovertext\":[\"East wall road outside the O2\",\"Camden street lower, outside centra shop\",\"Marks lane\",\"Custom House Quay, outside AIB International Centre\",\"Pearce street outside garden area\",\"Middle abbey street, outside arnotts carpark\",\"Foley street\",\"Bloomington street outside Dargans pharmacy.\",\"Parnell square north\",\"William street south, duke street gallery.\",\"North king street\",\"Maggot street lower outside Medmark healthcare \",\"Cuffe street, across from O'callaghan Stephen green hotel\",\"Parnell street outside temple hall\",\"Parnell street outside beauty chic\",\"Parnell street, outside 147 deli\",\"Wexford street, Infront of bank of ireland\",\"Bottom of George's street, beside the mercantile\",\"Fitzwilliam Place\",\"Capel street outside AIB bank\",\"Merrion street lower\",\"Earlsfort Terrace\",\"Abbey street lower near abbey street luas station\",\"Amiens street under train tracks\",\"North circular road outside carolans off licence\",\"Dorset Street Upper, outside Ritzy Rags Shop\",\"Foley street\",\"Dorset street upper outside techno logic \",\"Parnell street outside lomdis\",\"Top of Parnell street opposite Londis\",\"St Stephens green Luas, in front of certus\",\"Tara street\",\"Mayor street upper beside the point luas station\",\"Mountjoy square noeth\",\"Exchequer Street, outside Fallon Byrne \",\"Stephens street upper, beside IBOA House\",\"George's street great south outside Dublin business school\",\"Exchequer street\",\"Jervis street\",\"Patrick street opposite daybreak shop\",\"Opposite 179 Church street\",\"Baht street lower outside Larry Murphy's\",\"Maggot street lower outside bank of ireland\",\"Westland row\",\"Pearce street\",\"Aungier street outside DIT\",\"Capel street outside Dublin College of Advanced Studies\",\"Kings Inn Street\",\"top of Parnell street\",\"Parnell Street, outside Burger King\",\"Mary street outside Mary Mall\",\"Berkeley road outside Flanagans pharmacy\",\"Mayor street lower outside AIB\",\"George's Dock across the road from KPMG\",\"Suffolk street\",\"Westmoreland street\",\"Pearce street\",\"Wolfe Tone Street, outside Alexanders bridal shop\",\"Start of kings inn street\",\"Jervis street, outside McDonolds.\",\"Camden street lower\",\"High street\",\"York street, royal college of surgeons\",\"Parnell street\",\"Marlborough street outside eircom and kanoodle\",\"Parnell street outside euro giant\",\"Start of Summer hill\",\"St. Stephens Green, outside oxfam and specsavers\",\"Parnell Street, outside Alexander's bridal shop\",\"Merrion square North\",\"Mount street lower opposite new mount house\",\"Harcourt road, in front of regius building\",\"Mercer street outside DCC\",\"Marlborough street outside admiral restraunt\",\"Eden Quay ooutside Liberty Hall\",\"Talbot Street outside Singer shop\",\"York street, across from Dublinbike station\",\"Johnstons place outside pearls shop\",\"Camden street lower, outside cracker nut cafe\",\"Blessignton street outside La Pausa cafe\",\"North circular road and belvidire road junction\",\"Camden street lower, across from Fontana cafe\",\"Parnell square west\",\"Merrion street lower island\",\"Hatch street lower\",\"Capel street outside capel kebab and pizza house\",\"Jervis street opposite TP Smiths\",\"Aaran quay outside bank of Ireland\",\"Grattan bridge \",\"Parliament Street across from florentina restaurant\",\"Parliament street, outside subway \",\"Burgh quay\",\"Fatima luas stop\",\"Phoenix street north\",\"Merrion square east\",\"North kings street\",\"North kings streetboutside macro\",\"Fitzwilliam street lower\",\"Phisborough road opposite mc donalds\",\"Middle abbey street \",\"Middle abbey street outside hidden hearing.\",\"Middle abbey street, outside celebration party shop.\",\"St Stephen's green North\",\"Sack like place\",\"Goldsworthy street outside Foxx Coffee House\",\"Lincoln Place\",\"Mount street upper\",\"Mount street lower opposite howl at the moon club\",\"Georges Quay\",\"Grand canal docks\",\"Grand canal docks outside fresh\",\"Blood stone road\",\"Both wall quay, opposite the Spenser. \",\"Sir john Robertson quay\",\"Start of Leinster street south\",\"Marlborough street opposite An Board Pleanala \",\"Mount street lower outside board bia\",\"Camden street lower, Infront of enable ireland\",\"North strand road\",\"Amiens street outside the funky skunk\",\"Bolton Street, outside DIT\",\"Eden Quay outside Beresford Court\",\"Talbot street outside Guiney and co.\",\"Top of Parnell street outside Foleys pharmacy\",\"St Stephens green north outside permanent tsb\",\"Jervis Street outside Penny's\",\"Wexford street, djinn shop, across the road from opium\\r\\n\",\"Aungier street, outside YMCA\",\"Cathal Brugha street\",\"Cathal Brugha Street outside DIT\",\"Camden street lower, Simon community shop,.\",\"Coppinger row\",\"Parnell street outside Centra \",\"Start of st. Stephen's Green terrace. \",\"Pembroke street lower, opposite coffee angel.\",\"O'Connell street, median, behind Sir John Gray monument\",\"South Circular road tesco\",\"Essex street east, outside the Clarence hotel\",\"The coombe outside ovenden house. \",\"College green, median\",\"North king street\",\"End of Adelaide road beside kiosk\",\"Start of Fitzwilliam square north\",\"Middle abbey street,  outside independent house newspaper limited.\",\"Middle abbey street, outside austrailia travel.\",\"Grand canal street lower\",\"Mount street lower opposite new mount house\",\"D'Oliver street\",\"Foley street outside dance Irelamd\",\"Blood stone road\",\"Mayor square outside Snap and national college of Ireland.\",\"Fade street, outside the rage record store\",\"Hume street\",\"Wolfe tone street\",\"Wolfe tone street outside AXA office\",\"Coppinger row \",\"Saclville Place\",\"Trinity street\",\"Pearce street opposite parser square\",\"Parnell street outside cineworld.\",\"Abbey Street Lower, outside Abbey Theatre.\",\"Abbey Street Lower outside Beresford Court.\",\"Pearce street and Townsend street\",\"Stephens green, in front of beneton shop\",\"East wall road outside the O2 \",\"Bedford row, beside Ladbrokes\",\"Talbot Street outside Carrolls shop\",\"Fleet Street, outside TGI restaurant.\",\"Aston quay, outside house of colour\",\"Harcourt street outside Starbucks \",\"New bride street , Infront of small green\",\"Mount street ctescent\",\"Beresford Place median\",\"Kevin's street outside o haras pharmacy\",\"Dorset street outside gaa ticket office \",\"Wexford street, Infront of mega bikes.\",\"Camden street lower, outside ulster bank\",\"Mountjoy square south outside dit\",\"Noel Purcell Walk, Infront of beaux lane house\",\"Chatham road, outside Mao restaurant\",\"William street south, outside dada restautsnt\",\"Saint Andrew street\",\"South George's street, outside Diwali\",\"George's street, outside Hogans pub\",\"Berkeley road outside Berkeley wash\",\"Cathal Brugha street outside the Irish aid office\",\"Cork street\",\"Camden street lower, Infront of icon health store. \",\"Drury street, outside Carousel\",\"Drury street outside Irish design shop\",\"End of Hatch street lower, both sides of the road, outside cafe sol\",\"Hatch street lower\",\"George's street, opposite Dublin business school\",\"Open square beside Dublin City hall\",\"Capel street outside spar\",\"Great strand street, outside pantibar\",\"Essex street west, outside the gaiety school of acting.\",\"Wellington quay\",\"Four courts luas stop\",\"Marlborough street\",\"Thomas street across from the hill top bar\",\"Francis street opposite the liberty bell pub\",\"Cornmarket street outside farrow and ball\",\"May lane outside Hanley at the bar\",\"North kings street outside centra\",\"Cathal Brugha Street outside the Living Room pub\",\"Parliament street outside paramount hotel\",\"Parliament street outside spar shop\",\"Eustace street, outside the Italian corner restaurant\",\"Essex street, outside the shack restaurant.\",\"Cope street, behind central bank\",\"Temple bar, outside Rory's fishing shop.\",\"Fleet Street, outside hard rock cafe\",\"Burgh quay\",\"Cork street\",\"Westmorleland street, outside Bewleys\",\"Christchurch square\",\"Thomas street outside st johns priory\",\"Merchants quay\",\"Parkgate street outside Landis\\\\subwau\",\"Capel street, outside mcQuillan tools\",\"Fitzwilliam street upper\",\"Fitzwilliam street lower\",\"Fitzwilliam street lower\",\"Church street Londis\",\"Top of Smithfield\",\"Fitzwilliam square north\",\"Manor street\",\"Middle abbey street across the road from the Gin Palace  pub\",\"Camden street, Infront of great deals store.\",\"Berkeley road outside post office\",\"Liffey street outside entrance to Arnotts.\",\"Mount street uppwr\",\"Charlemont place beside luas station \",\"Grand canal docks\",\"Admiral brown street\",\"All along Forbes street\",\"Blood stone /road horse fair intersection\",\"A'll along bood stone road\",\"All along Forbes street\",\"Fade street, outside hogans bar\",\"Benson street\",\"Horse fair\",\"Prussia street\",\"Start of South William street, outside jewl in the crown\",\" Parnell square west outside the rotunda hospital \",\"Queen street, probation service \",\"Christ church place, outside sunny's newsagent\",\"Wexford street, outside solo clothes shop.\",\"Francis street outside reillys pharmacy \",\"Houston train station\",\"Top of baggot street lower, end of pembroke street lower\",\"Edge of exchequer street, outside pharmacy and rustic stone\",\"Essex street, outside zaytoon\",\"Dame street,  outside Nico's restaurant\",\"Prince's street north, outside penny's.\",\"Leinster street south outside TCD Leinster street\",\"Aungier street outside DIT\",\"Start of castle street\",\"Molesworth street, \",\"Parnell Streer outside Aldi\",\"Prince's street north, outside penny's\",\"Talbot street outside wake cup\",\"Capel Street, outside The Horse Shoe shop\",\"Parnell street outside king fisher restraunt.\",\"Johnstone place, outside pharmacy\",\"Camden street upper, outside damascus gate restaurant \",\"Trinity street, outside jack jones shop\",\"End of Liffey street lower, outside the grand social\",\"End of Patricia street outside spar\",\"Start of westborough street, beside the butchers bar\",\"Heuston Luas stop\",\"James street outside McCanns pub\",\"Thomas street outside Massey bros funeral home\",\"Essex street east, outside costa cafe.\",\"Eustace street, outside the orseman pub\",\"Cecilia street, outside temple lane recording studios\",\"Cecilia street, outside luigi malones restaurant\",\"Fleet Street, across from thunder road cafe\",\"Infirmary road\",\"Middle abbey street outside arnotts.\",\"Upper abbey street near the Jervia Luas stop.\",\"Talbot street across the road from Paddy Power\",\"Top of Forbes street\",\"All along blood stone road\",\"North Circular road outside Matter hospital. \",\"Parnell street outside Jervis medical centre\",\"Wood quay, outside DCC\",\"Start of marborough street outside the abbey theatre\",\"Ormond square\",\"Drury street, outside George's st. arcade\",\"Sponsor Dock Luas station\",\"Outside criminal courts of justice\",\"Houston station,\",\"Eden quay\",\"Chatham road, outside DIT music and drama\",\"Parnell street outside cycleways. \",\"Bottom of grafton streer\",\"Baggot street lower outside tailored finance.\",\"Essex street, outside the porterhouse pub\",\"Wexford street, in front of whelans off licence\",\"Capel street outside codys of Capel Street.\",\"Parnell street across the road from Euro Giant shop\",\"Marlborough Street outside Spar shop\",\"Amiens Street at Luas station\",\"Camden street, outside penny farthing cycles\",\"Camden street lower, outside tommy Moore jewellers\",\"Cavendish road outside the Ambassador theatre.\",\"Beresford Place Infront of Busaras.\",\"Burgh quay, outside Jaffa deli\",\"Hawkins street, outside PCI college\",\"Westmoreland street, outside fexco\",\"College green, outside dubarry of Ireland shop\",\"Mabbot lane\",\"Top of Parnell square east.\",\"Bresford Place beside Liberty Hall and bus eireann bus stop\",\"Ovoca\",\"Hawkins street\",\"Cumberland street North outside nam thanh supermarket\",\"Clarendon street, across from BT\",\"Store street outside Bus Eireann\",\"North Frederick street outside Lady beauty Parlour\",\"South George's street, outside laser dvd\",\"Georges dock outside Ely chq\",\"Smithfield near luas station\",\"St James hospital\",\"Brooksfield road outside mace\",\"Tara street\",\"Bottom of Westmoreland street\",\"D'Oliver street\",\"Top of Capel Street\",\"Swift Row\",\"Bride Road\",\"Luke Street\",\"Francis Street at Thomas Street end\",\"Exchange Street Upper\",\"Charlemont Street \",\"Clanbrassil St north of Fumbally Lane\",\"Clanbrassil St south of Fumbally Lane\",\"Mary Street east of Jervis Lane Lower\",\"Thomas Davis Street South at Francis St end\",\"Ryders Row\",\"St Andrews Street\",\"Dame Court\",\"Barrow Street\",\"Ringsend Road\",\"Capel Street\",\"Green Street\",\"Dorset Street Lower\",\"Blessington Street\",\"King Street North\",\"Francis Street\",\"Patrick Street\",\"Moore Street\",\"Moore Street\",\"Moore Street\",\"Bellevue\",\"Golden Lane\",\"St. Stephens Green South\",\"St. Stephens Green West\",\"Kevin Street Lower\",\"Richmond Street South\",\"Richmond Street South\",\"Pleasents Street\",\"Oliver Bond Street\",\"Causeway Road\",\"Griffith Avenue\",\"Eden Quay\",\"Jervis Street 1\",\"Jervis Street 2\",\"Store Street\",\"North Circular Road\",\"North Circular Road\",\"Philbsborough Road/Connaught St\",\"Cardiff Lane\",\"Redstables Market\",\"Marks Alley West\",\"Carman's Hall at Francis Street\",\"Carman's Hall at Meath Street\",\"Dean Street\",\"Thomas Street\",\"Augustine Street West at Cornmarket\",\"North Wall Quay \",\"Northern Campshires\",\"Washington Street\",\"Greenville Terrace\",\"North Circular Road Opposite Library\",\"North Circular Road West of Berkeley Road\",\"Goldsmith Street Westside\",\"Phibsborough Road outside Doyles Bar\",\"Phibsborough Road Westside at Thunders Bakery\",\"Phibsborough Road Eastside south of NCR at AIB\",\"Phibsborough Road Eastside at Rothar\",\"North Circular Road east of Phibsborough Rd at Doyles\",\" Stoney Batter eastside outside Centra\",\"Manor Street eastside at Grants\",\"Manor Street eastside outside No. 3\",\"Manor Street westside\",\"Stephen Street Lower\",\"York Street, southside at Bright Wash\",\"Patrick Street \",\"Bishop Street\",\"Cuffe Street\",\"Holles Street\",\"Pearse Street outside subway\",\"Pearse Street outside Trinity Business\",\"Parkgate Street outside Nancy Hands\",\"Parkgate Street outside Westbrook Motors\",\"Blackhall Place\",\"Haymarket\",\"Coke Lane\",\"Baggot Street Lower at James Street East (Bank of Ireland)\",\"Baggot Street Lower west of Pembroke St Lower\",\"Wilton Terrace, at junction with Wilton Place\",\"Mount Street Lower outside No 33\",\"Herbert Street, south of Convent Close\",\"Sir John Rogerson's Quay east of Cardiff Lane\",\"Whitefriar Street, eastside south of Golden Lane\",\"Merrion Square North opposite No.6\",\"Fenian Street ,northside  east of Bass Place\",\"Adelaide Road , northside outside Eye and Ear Hospital\",\"Ailesbury Road, northside, west of Merlyn Park\",\"Strand Road Car Park, opposite No.9 Adelaide Mews\",\"Sandymout Village, eastside opposite No .95\",\"Sandymout Village, westside outsideNo .95\",\"Tudor Road, westside opposite Cowper Gardens \",\"Pine Road, northeastern corner at Ringsend Park\",\"Fitzwilliam Street westside, north of Bridge Street\",\"Ormond Quay Upper northside outside No.31-36\",\"Ormond Quay Upper northside outside No. 20\",\"Mary Street, southside east of Capel Street\",\"Yarnhall Street,  northside west of Bolton Street\",\"Parnell Square West south of entrance to Rotunda Hospital\",\"Parnell Square North opposite No. 18\",\"Beresford Lane, northside west of Gardiner Street Lower\",\"Talbot Street, northside under railway bridge\",\"Sheriff Street Upper,  northside opposite Castleforbes Street\",\"Sheriff Street Upper,  northside outside train station\",\"Mountjoy Square South northside opposite No. 40-45\",\"Mountjoy Square South, southside outside No. 48\",\"Gardiner Place northside at Temple Street\",\" Kings Inn Street\",\"Eccles street \",\"Temple Street North \",\"Temple Street North\",\"Marys Lane \",\" Herbert Park \",\" Merchants Quay \",\" New Street South \",\" Meath Street \",\"Newmarket \",\"Francis Street \",\" High Street \",\"Meath Street\",\" School Street\",\" James Street \",\" Bridgefoot Street \",\"St Johns Road West \",\" Watling Street \",\"\\u00a0 Taylor\\u2019s lane\",\"\\u00a0\\u00a0 Saint Augustine Street \",\" Grattan Crescent \",\"\\u00a0 Leinster Square \",\"\\u00a0 Howth Road \",\" Raheny Main Street \",\" Vernon Avenue \",\" Drumcondra Road Upper\",\"\\u00a0 Clonliffe Road \",\"\\u00a0 Finglas Road \",\" Seamus Ennis Road \",\"Finglas Road\",\"Coolock Main Street \",\"Poolbeg  \",\" South Earl Street.\",\" John Street West.\",\" Ormond Street.\",\" Ashtown Grove.\",\" Cameron Street.\",\" Benbulbin Road.\",\" Keeper Road.\",\"South Circular Road.\",\" Prospect Way.\",\" South Circular Road.\",\" Glasanaon Road.\",\" City Quay.\",\"Essex Street East.\",\"Wellington Quay.\",\"Clontarf Road.\",\"Parliment Street\",\"Fairview Avenue Lower.\",\"Bannow Road.\",\"Old Finglas Road.\",\"Prospect Square.\",\"Finglas Road.\",\"Ballymun road.\",\"Gateway Crescent.\",\"Millmount Avenue.\",\"Navan Road.\",\"Strand Road Car Park.\",\"Naas Road.\",\" Strand Road Car Park.\",\"Merrion Road\",\"Pearse St\",\"Harolds Cross Rd\",\"Oliver Bond St\",\"Drumcondra Rd Lwr\",\"Rathmines Rd Upr\",\"Charlemont St\",\"Mespil Road\",\"Camden St Lwr\",\"Pembroke Rd\",\"Phibsboro Rd\",\"East Rd\",\"Rathgar Rd\",\"Grace Park Rd\",\"James Walk\",\"Pearse St\",\"Clogher Rd\",\"Harolds Cross Rd\",\"Sundrive Rd\",\"Clanbrassil St Lwr\",\"Irishtown Rd\",\"Clanbrassil St Lwr\",\"St Davids Terrace\",\"Myrtle St\",\"Hogan Pl\",\"Greendale Rd\",\"The Rise\",\"Sundrive Rd\",\"Ellis Rd\",\"Drumcondra Rd Upr\",\"Ranelagh Rd\",\"Basin View\",\"Kimmage Rd Lwr\",\"North Strand Rd\",\"Navan Rd\",\"Kinvara Ave\",\"St Andrews St\",\"Clontard Road Car Park\",\"Cavendish road\",\"Parnell Square East\",\"Westmorland St/ Aston Quay Junction\",\"Lower bridge st\",\"Mount Drummoud\",\"Mount Drummoud 2\",\"Molesworth Street \",\"Sprout Kitchen, Sir John Rogerson's Quay\",\"Gerards, Sir John Rogerson's Quay\",\"The Lir Academy, Grand Canal Quay\",\"Charlemont place\",\"Grand Parade\",\"Imagine, Barrow street\",\"Outside Apartments, Barrow street\",\"Outside Apartments, Barrow street\",\"Asgard Road\",\"Hume Street \",\"Capel Street\",\"Brunswick St North\",\"8 Hatch Street Lower\",\"Arthur Cox, Hatch Street Lower\",\"Deloitte, Hatch Street upper\",\"Rathmines Road Upper\",\"Le Fanu Road, Ballyfermot\",\"City Quay  & Creighton Street\",\"Shandon Cres\",\"North Circular Road /Emmet Street \",\"Clonliffe Road\",\"NCR/Belvedere Road junction \",\"Coultry Park\",\"Fagens pub, Botanic Ave\",\"Griffth park, Botanic Ave\",\"Our Lady of Dolours Chuch, Botanic Ave\",\"St Ita's Road\",\"Ballybough Road\",\"Calderwood Road\",\"Calderwood Road  2\",\"Bushes Lane\",\"Kenilworth Square South\",\"Malahide Road\",\"Cumskeys bar,  Blackhorse Ave\",\"Clontarf Road\",\"Clontarf Road 2\",\"Loretto Convent, Sundrive Road 2\",\"Claddagh Grreen\",\"Richmond Row\",\"Armstrong Street\",\"Donore Avenue\",\"Greenville Avenue\",\"Spar Ranelagh Village\",\"Ailesbury Gardens\",\"Finglas Village (Massey Bros)\",\"Newbridge Avenue\",\"Richmond Street South\",\"Mount Street Lower (Bord Gais)\",\"Leinster Street South (Trinity Point)\",\"Thunder Road caf\\u00e9 - Fleet Street\",\"York Street - RSCI\",\"Hanover Street East(Jct with Erne St Lower)\",\"Hanover Street East(Opposite Eurospar)\",\"North Wall Quay (opposite 3arena)\",\"Commons Street (outside Bank of Ireland)\",\"Commons Street(outside Havana)\",\"Phibsborough Road (Student residences)\",\"Western Way\",\"Parnell Street (Jct North Great Georges St)\",\"Mountjoy Street (Dublin International Youth Hospital)\",\"Mountjoy Street (outside spar)\",\"Sean McDermott Street Lower (swimming Pool)\",\"Harcourt Road (investec)\",\"Harcourt Road (Baxter & Greene)\",\"Baggot Street Upper (Paddy Power)\",\"Orwell Road\",\"Milltown Road (Churchtown Rd Jct)\",\"Serpentine Avenue\",\"Church Avenue\",\"Emmet Road\",\"South Circular Road (dolphin electrical)\",\"South Circular Road (house 582)\",\"Lesson Street Upper\",\"Grosvenor Square (side of House 89)\",\"Shelbourne Road (centra)\",\"Jamestown Road (village shopping centre)\",\"Grange Road (Donaghmede Shopping Centre)\",\"La Costa takeaway, Clontarf Road (in car park)\",\"Seafield Road, Clontarf\",\"St Bridges Road, Clontarf\",\"Collins Avenue, Whitehall\",\"Barryscourt Road, Pedestrian crossing at NSC\",\"Bulfin Road (outside 52)\",\"Suir Road (zinc hair & beauty)\",\"St Gabriels Road, Clontarf East\",\"Angelesea Road (Library)\",\"North Circular Road (moldova Shop) Phibsborough\",\"Edenmore Park\",\"St Assams Park\",\"Bluebell Luas Stop, Naas Road\",\"Ringsend Road (Ash Ireland)\",\"Omni Shopping Centre, Swords Road\",\"Glengarriff Parade\",\"Wilton Place\",\"Clanbrassil St Lower\",\"Molesworth St\",\"Bolton St\",\"Grosvenor Rd\",\"City Quay\",\"Fleet St\",\"Pearce St\",\"Ross Road\",\"Bloomfield Ave (46)\",\"South Circular Road (Jct with Donore Ave)\",\"Bride St (Health Studio)\",\"Bride St (Opposite 79 at Park)\",\"4 Blessington St\",\"Bride St (Canon Court)\",\"Cuffe St (Opposite Mercer St Upper)\",\"Swords Rd (Larkhill Rd Jct)\",\"Barryscourt\",\"Braithewaite St (Jct with Poole St)\",\"Bride St (Park Entrance)\",\"28 Killarney St\",\"Crumlin Rd (Shop Center)\",\"Crumlin Rd (Jct with Brickfield Drive)\",\"Crumlin Village (Jct with Lisle Rd)\",\"St Marys Rd (Agnes Terrace Jct)\",\"Farnham Drive (Erins Isle GAA)\",\"Shanowen Rd (St Kevins Boys Club)\",\"Dunne St (Library)\",\"St Patricks Close (Jct with Kevin St Upper)\",\"Ballyfermot Rd (McLoughlins Butchers)\",\"46 Bulfin Rd\",\"Bluebell Rd (Community Center)\",\"Emmet Rd (outside Library)\",\"Clonard Rd (Jct with Crumlin Road)\",\"Long Mile Rd (outisde Kokonut Shop)\",\"16 Errigal Rd\",\"St Aidans Park Rd (Jct With Malahide Rd)\",\"Belgove Rd (jct with Summerville)\",\"Townsend St (Jct with Mark St)\",\"Ranelagh Road\",\"Haddington Road\",\"Clancarthy Road\",\"Anglesea Road(RDS Main Venue Gate)\",\"Kevin Street Lower (Outisde DIT Entrance)\",\"Cabra Road (Downeys Pub @ Dowth Ave Jct)\",\"Pearse Street (Outside GoHop)\",\"Daniel Street (Jct Harty Place)\",\"Erne Street Upper (Outsude Bike Shop) Jct Boyne St\",\"Lennox Street (Bretzel Bakery)\",\"Merrion Square South (Between house 76 & 77)\",\"Pearse Street (The Lombard Pub)\",\"Ravendale Park (Outside the Four Provnces Pub)\",\"Northumberland Road (Baggot Lane Jct)\",\"St Agnes Road (Outside Crumlin Garda Station)\",\"Conrad Hotel, Earlsfort Terrace\",\"Bishop Street (Intreo/Welfare Centre)\",\"Military Road, Rathmines (opposite Blackbird)\",\"Pearse Street(Outside Goldsmith Hall)\",\"Bride Road (Iveagh Fitness Club)\",\"Blessington Street (Jct with Mountjoy Street)\",\"New Street South (Peadar Browns Pub)\",\"New Street South (Fumbally Court)\",\"North Circular Road (Outside Mr Tubs Dry Cleaning)\",\"Lombard Street East (The Lombard Pub)\",\"Macken Street (Outside Flyfit Gym - Hanover St East Jct)\",\"Moss Street (Jct with Townsend Street)\",\"King Street North(Jct with Green Street)\",\"Pearse Street(Outside Maldron Hotel/Centra)\",\"Mount Prospect Avenue (Jct with Clontarf Rd)\",\"Cork Street (Robisnson Court opposite weaver park)\",\"Cork Street (Intreo Center)\",\"Cork Street (Southside Angling opposite Intreo)\",\"Wilder & Green, Milltown\",\"Oxmantown Road (Cowper Street Jct)\",\"Oxmantown Road (opposite the mascott pub)\",\"Blackhall Place(Jct with Blackhall Green)\",\"North Circular Road(Spar @ Portland Street Jct)\",\"Cork Street (Centz)\",\"All Saints Drive (Outside Raheny GAA)\",\"New Street South (Maldron Hotel)\",\"St Stephens Green (outside RSCI)\",\"Phibsborough Road (Opposite Bald Eagle Pub)\",\"Causeway Road Clontarf\",\"Parkgate Street (Jct with infirmary road - Nancy Hands pub)\",\"Bridgefoot Street (Jct with Thomas Street)\",\"Princes Street North (pennys at Oconnel Street)\",\"Liffey Street\",\"North Strand Road jct with Shamrock Place\",\"Parkgate Street\",\"Mulberry Lane Car Park\",\"Leinster Street South (Building No.9)\",\"Kilmainham Lane (House No.6)\",\"Kimmage Road Lower\",\"Wolf Tone Street (opposite Griffith College)\",\"Synge Street (close to Synge Lane)\",\"South Dock Street (jct with Barrow St)\",\"Milltown Road (outside Poise)\",\"St Stephens Green South\",\"Earlsfort Terrace (Outside HPRA)\",\"Chancery Place (outside Dublin Christian Mission)\",\"McAuley Road (Outside Entrance to St Pauls Artane FC)\",\"Wynnefield Road (Outside Rathmine Bikes)\",\"Lesson Street Lower (Outside The Sugar Club)\",\"East Road (Jct with Bargy Road)\",\"Fassaugh Avenue (Outside Londis)\",\"Grantham Street (Jct with Camden St Lower)\",\"St Marys Road Ballsbridge (Jct with Baggot Lane)\",\"Church Road (Outside Colt Technology)\",\"East Wall Road (Jct with Sheriff St Upper)\",\"Fitzmaurice Rd (Outside Ballgall Credit Union)\",\"Seville Place (Jct with Oriel St Lower)\",\"Percy Place (opposite Investment house)\",\"Chancery Lane (Outside Plus Architecture)\",\"Seville Place (Jct with Coburg Place)\",\"Hatch Street Upper (Outside Eversheds)\",\"Pearse Street (Outside Aras An Phiarsaigh)\",\"Eblana Villas (Jct with Grand Canal Street Lower)\",\"Hatch Street Upper (Outside Hardwicke House)\",\"Blackhall Place (outside Spar)\",\"Fassaugh Avenue (Outside NCBI)\",\"Anglesea Road (Jct Merrion Road)\",\"Anglesea Road (Jct Merrion Road)\",\"Hatch Street Upper (Outside One Place Park)\",\"Richmond Road (Jct with Richmond Avenue)\",\"Mountjoy Square North (Jct with MJS East)\",\"Clontarf Road (Jct with Dollymount Park)\",\"Cullenswood Park ( Jct with Ranelagh Road)\",\"N1 Ramp Road (Just off Ellenfield Park)\",\"Lorcan Avenue (Outside Kilmardinny Inn)\",\"Morehampton Road (Jct with Herbert Park)\",\"Walkinstown Road (Carprk opposite Halfway house)\",\"Mellows Road (Outside Community Center)\",\"Fassaugh Avenue (Cabra House Pub)\",\"Fassaugh Avenue (outside spar & Centra)\",\"Hatch Street Upper (Outside Three Park Place)\",\"Sybil Hill Road (Entrance to St Annes Park)\",\"Arran Quay\",\"Ovova Road (Outside City Building Supply)\",\"The Ivy, Molesworth Street (Jct with Dawson St)\",\"Imaal Road\",\"Hockey Club, Old Finglas Road\",\"James Larkin Road (Clontarf)\",\"St Stephens Green South\",\"Killester Ave (Jct with Killester Park)\",\"Killester Ave (Jct with Killester Park)\",\"Dorset Street Upper (Outside Gala)\",\"Coolock Drive (Jct with Oscar Traynor Rd)\",\"Elmfield Rise (Outside Spar)\",\"Carlingford Road (Opposite Andersons Creperie)\",\"Swords Road (The Viscount)\",\"William Street North (Outside Lowrys)\",\"North Wall Ave (Madden Property Consultants)\",\"Kilmainham Lane (Opposite La Dolce Vita)\",\"Harolds Cross Road (Greyhound Stadium)\",\"Nelson Street (Centre for Nurse Ed)\",\"Innisfallen Parade (Jct Dorset St Lower)\",\"Arnott Street (Jct with Heytesbury St)\",\"Terenure Road North (Terenure Laundrette)\",\"Eamoon Ceannt Park (Clogher Rd/Rutland Rd) Sundrive Pavillion\",\"Holyrood Park (Jct with Sandymount Ave)\",\"Tara Street (irish Times)\",\"Tara Street (irish Times)\",\"Maryfield Ave (Ardlea Inn)\",\"Coolock Drive (Mr Price)\",\"Mourne Road (Our Lady of Mercy Secondary School)\",\"St Michaels Estate (opposite Community Sports Centre)\",\"Wellington Street (Delahuntys Bar)\",\"Tyreconnell Road (Tesco)\",\"Rathmines Road Upper (Jct with Maxwell Lane)\",\"Angelesea Raod (Brookfield Apartments)\",\"Dolphin Road (Crumlin)\",\"Islandbridge\",\"Manor Place (Manor Street Jct)\",\"Drumcondra Rd Upper (Outside Insomnia)\",\"Drumcondra Rd Upper ( Home Farm FC)\",\"Swords Road ( Holy Child Church @ railing)\",\"Swords Road (Jct Collins Ave)\",\"Saint Annes Car Park\",\"Frederick Street North\",\"St Josephs Parade (National Training Center)\",\"Greenlea Road, Terenure\",\"Ellis Street\",\"McHughs, Malahide Road\",\"Kestral, Cromwellsfort Road\",\"Spar, Donnybrook Road\",\"Talbot Place\",\"Simmonscourt Road\",\"Lios na nOg, Oakley Road\",\"Aughrim Street Sports Hall, Aughrim Street\",\"Manor Street\",\"Clareville Road\",\"Moyne Road\",\"Mount Pleasant Square\",\"Finance Ireland, Pembroke Road\",\"Hume House, Pembroke Road\",\"The hardware Store, Dunville Avenue\",\"Seafield Road West, Clontarf\",\"Richmond Street North\",\"Terenure College Swimming Pool, Fortfield Road\",\"Mount Eden Road\",\"Old Mountpleasant 1\",\"Old Mountpleasant 2\",\"Main Street, Chapolizad\",\"Prospect Square Installation\",\"Circle K, Merrion Road\",\"Aparto, Dorset St Upper\",\"Emmet Road (McDowells Pub)\",\"Adelaide Road (Montague House)\",\"Malahide Road (Kilmore Rd Jct)\",\"Pembroke Street Lower (Californian Burrito Bar)\",\"Dermot O'Hurley Ave\",\"Mount Street Crescent (Herbert St Jct)\",\"Walkinstown Green (Heritage Credit Union)\",\"Mespil Road (Opposite building 39)\",\"Kings Inn Street\",\"Tyrconnell Street (Tyreconnel Road Jct)\",\"Dartmouth Road (Dartmouth Place Jct)\",\"Crawford Ave (Iona Road Jct)\",\"Cumberland Road (Fitzwilliam Place Jct)\",\"Adelaide Road (jct Hatch Lane)\",\"Slievenamon Road (Keeper Road Jct)\",\"Shelbourne Road (Starbucks)\",\"Herbert Park (astro turf entrance)\",\"Swords Street (Thor Park)\",\"Swords Street (Finn Street Jct)\",\"Patrick Street (St Patricks Cathedral)\",\"Seafield Road West (St John Baptist School)\",\"Drumcondra Road (Chilli Banana)\",\"Townsend Street\",\"Emmet Road\",\"Aungier Street\",\"Emmet Road\",\"Leinster Street North\",\"Oxmantown Road\",\"Clare Road\",\"Clonmel Street\",\"Kimmage Grove\",\"St Alphonsus Road\",\"Blackhall Street\",\"Ely Place\",\"Albert College Park\",\"Viking Place\",\"Ballyfermot Road\",\"South Circular Road\"],\"lat\":[53.34779261,53.33424783,53.34494805,53.34851312,53.34296483,53.34817688,53.35182974,53.35686542,53.35398625,53.34211451,53.35055212,53.33485887,53.33769129,53.35392471,53.3509772,53.35342112,53.33630513,53.34393043,53.33299531,53.34846989,53.341293,53.33366002,53.34867644,53.35221799,53.35921696,53.35274391,53.35165203,53.35275832,53.35264945,53.35410392,53.33916468,53.34695679,53.34845548,53.35708473,53.34307452,53.34103437,53.34339079,53.34308013,53.3471065,53.34126417,53.34595443,53.33677519,53.33588071,53.34336116,53.34337317,53.33866101,53.35013744,53.35202907,53.35419437,53.3508299,53.348618,53.35896725,53.34900307,53.34960348,53.34371105,53.34383275,53.34522827,53.34989648,53.3519178,53.34864922,53.33448808,53.34357364,53.33909021,53.34999014,53.35296244,53.35033197,53.35440329,53.34013196,53.34997173,53.34094069,53.33881395,53.33274144,53.33893887,53.352234,53.34845308,53.35073224,53.33883157,53.34064683,53.33501182,53.35618587,53.35946908,53.3351824,53.35358842,53.34184388,53.3341197,53.34716815,53.34744836,53.34645482,53.34572226,53.34433076,53.34442924,53.34716014,53.33847123,53.34695199,53.33943693,53.35073624,53.35059775,53.33709791,53.36211259,53.34814966,53.34799275,53.3481929,53.33898211,53.34909033,53.34132102,53.34185349,53.33711313,53.33927038,53.34738591,53.34301848,53.34339239,53.34491682,53.3476477,53.34621063,53.3417502,53.35260382,53.3378138,53.33482844,53.35520694,53.35334747,53.35134383,53.34901267,53.35066259,53.3537389,53.3399558,53.34998454,53.33662064,53.3392936,53.35237568,53.35225641,53.33423822,53.34211691,53.35127979,53.3362755,53.33690652,53.34860279,53.33232339,53.34511458,53.33919831,53.34439721,53.35032477,53.3323394,53.33551714,53.34824573,53.34790949,53.33936646,53.33894527,53.34681028,53.35146871,53.34555893,53.34893742,53.34194797,53.33800839,53.34936332,53.34796313,53.34194076,53.34913596,53.34380633,53.3428079,53.350079,53.34880213,53.34901748,53.34580232,53.3398373,53.34842026,53.34615699,53.35029835,53.34583434,53.34607693,53.3327959,53.33779779,53.33666389,53.34915197,53.33774334,53.36081366,53.33737258,53.33563406,53.35602898,53.34045385,53.34104558,53.34134584,53.34365901,53.34274625,53.34206327,53.35812925,53.35209391,53.33420699,53.33621064,53.34294562,53.34274225,53.33438318,53.33374331,53.34348527,53.34402251,53.34736269,53.34653888,53.34472227,53.34537639,53.34685272,53.34818009,53.34313377,53.34155082,53.34326188,53.3480536,53.35087553,53.35221318,53.34471186,53.34468624,53.34561337,53.34549008,53.34492803,53.34562138,53.34577029,53.34702084,53.33423022,53.34617781,53.34257811,53.34286315,53.34495686,53.34817688,53.34804559,53.33552355,53.33788988,53.33777617,53.35003177,53.34944898,53.33571254,53.35308412,53.34801997,53.33592955,53.35858467,53.34852353,53.33702184,53.33091783,53.34258852,53.34532995,53.34498248,53.3450089,53.34507375,53.34482395,53.34207047,53.34433076,53.34497847,53.35609622,53.3428119,53.35301127,53.34779341,53.34315219,53.33649172,53.34295923,53.34612577,53.33771531,53.34296563,53.34496807,53.3442603,53.34896464,53.34181265,53.33863779,53.34391522,53.34132903,53.35051289,53.34894062,53.35126939,53.35090915,53.35177931,53.34102076,53.33286797,53.34383996,53.34680228,53.33910542,53.34332353,53.34690716,53.34351569,53.34319623,53.34538679,53.34536358,53.3450073,53.3450113,53.34571905,53.34846509,53.34809683,53.34786626,53.35108127,53.34462059,53.3446302,53.3602014,53.35003097,53.34501931,53.34837783,53.34610495,53.34238835,53.34872687,53.34829617,53.3466958,53.34794472,53.34105679,53.35093077,53.34330432,53.3359728,53.34503372,53.33655017,53.34913196,53.35023351,53.35024071,53.35103243,53.33578381,53.33561404,53.35282476,53.34952263,53.34728023,53.34717936,53.34530433,53.34428192,53.35223079,53.35443291,53.3487581,53.33352788,53.34618021,53.35383416,53.34278548,53.34995172,53.35554873,53.34248363,53.34945698,53.3472354,53.34093668,53.33877552,53.3473715,53.34397447,53.34672142,53.34861,53.34682,53.34107,53.34664,53.33306,53.3442738,53.3326694,53.33306,53.33306,53.33306,53.33306,53.33306,53.33306,53.3430248,53.3398189,53.3421581,53.3505313,53.350129,53.3584466,53.3565719,53.3501175,53.3399963,53.3403522,53.3510254,53.3510254,53.3510254,53.3469491,53.3406124,53.29026,53.33306,53.3376053,53.3313584,53.3313584,53.33306,53.3439514,53.3712282,53.3788013,53.3483343,53.3468758,53.3487939,53.3501144,53.3592049,53.3592049,53.33306,53.3443365,53.33306,53.33306,53.33306,53.33306,53.3389329,53.3429858,53.33306,53.3475452,53.33306,53.3319485,53.3325186,53.33306,53.33306,53.33306,53.33306,53.33306,53.33306,53.33306,53.33306,53.33306,53.33306,53.33306,53.33306,53.3410575,53.33306,53.3403522,53.3383299,53.3375449,53.3405656,53.33306,53.33306,53.33306,53.33306,53.3479323,53.3476787,53.3469439,53.33306,53.33306,53.33306,53.33306,53.33306,53.33306,53.33306,53.33306,53.33306,53.33306,53.33306,53.33306,53.33306,53.33306,53.33306,53.33306,53.33306,53.33306,53.33306,53.33306,53.33306,53.33306,53.33306,53.33306,53.33306,53.33306,53.33306,53.33306,53.33306,53.33306,53.33306,53.3584367,53.3563456,53.3563456,53.33306,53.325892,53.3339931,53.3380398,53.3425649,53.3380113,53.3399963,53.3432452,53.3425649,53.3414563,53.3426844,53.3443552,53.33306,53.3451317,53.3411477,53.33306,53.3414746,53.3234833,53.3761156,53.3799135,53.3654115,53.3735222,53.3629737,53.3779606,53.3900482,53.3779606,53.386699,53.3421059,53.3415036,53.3434284,53.3378579,53.3709789,53.3354299,53.3353596,53.3318268,53.335624,53.3674352,53.335624,53.3871423,53.3471749,53.3452006,53.3455634,53.3629491,53.33306,53.3638024,53.3705241,53.3779236,53.3693445,53.3779606,53.3960916,53.3945183,53.3704808,53.3719432,53.33306,53.3336734,53.33306,53.313516,53.3429308,53.33306,53.3439514,53.3676927,53.3207433,53.3326694,53.332576,53.3361223,53.3321431,53.3627205,53.3520505,53.3121398,53.3806573,53.3384237,53.3429308,53.3250321,53.33306,53.3195715,53.3339141,53.3398828,53.3339141,53.33306,53.3564982,53.3410994,53.3852508,53.3802634,53.3195715,53.3070186,53.3761635,53.3268527,53.33306,53.3124885,53.356529,53.3840992,53.3692621,53.33306,53.33306,53.33306,53.354535,53.33306,53.3452473,53.33306,53.33306,53.3411651,53.33306,53.3465569,53.33306,53.3309263,53.330981,53.33306,53.33306,53.33306,53.3458744,53.3380021,53.3505313,53.3505567,53.3341036,53.3336985,53.3337307,53.3207433,53.3370018,53.33306,53.3645219,53.33306,53.3629737,53.33306,53.3978388,53.33306,53.33306,53.33306,53.3717034,53.3594596,53.3759586,53.3759586,53.3190121,53.3171783,53.4047016,53.33306,53.3629491,53.3639558,53.33306,53.33306,53.3310035,53.3288936,53.3312354,53.3340542,53.33306,53.3193751,53.33306,53.3343784,53.3313584,53.33306,53.29026,53.3456141,53.33306,53.33306,53.33306,53.33306,53.33306,53.33306,53.33306,53.3549572,53.33306,53.33306,53.33306,53.33306,53.33306,53.33306,53.33306,53.311793,53.33306,53.3305476,53.3848459,53.3406192,53.33306,53.33306,53.33306,53.33306,53.33306,53.33306,53.33306,53.33306,53.3638731,53.33306,53.3813711,53.33306,53.33306,53.33306,53.3644974,53.33306,53.33306,53.3875593,53.33306,53.33306,53.33306,53.3918925,53.3622279,53.3343034,53.3339141,53.3411651,53.3521653,53.3199799,53.3471749,53.3457272,53.33306,53.3418898,53.3259862,53.33306,53.33306,53.33306,53.3563519,53.33306,53.33306,53.33306,53.3975826,53.33306,53.33306,53.3547726,53.33306,53.33306,53.33306,53.33306,53.33306,53.33306,53.33306,53.33306,53.33306,53.3397428,53.33306,53.33306,53.33306,53.33306,53.325809,53.33306,53.33306,53.33306,53.3268527,53.33678,53.374318,53.327709,53.337618,53.361108,53.344744,53.334619,53.342148,53.3313,53.339214,53.344121,53.314549,53.333091,53.319346,53.334827,53.338313,53.326949,53.343927,53.341513,53.356716,53.336184,53.337025,53.360855,53.344291,53.343945,53.345896,53.350585,53.343184,53.367156,53.338403,53.338643,53.338478,53.31216,53.353598,53.354525,53.349167,53.358943,53.33704426,53.378562,53.338325,53.338254,53.364132,53.36999,53.34813,53.34365,53.348928,53.34852,53.356239,53.3481122,53.322805,53.341848,53.341653,53.314828,53.349583,53.332375,53.341087,53.313495,53.336882,53.334384,53.346122,53.382456,53.322066,53.335506,53.354491,53.367071,53.334169,53.333541,53.356739,53.349525,53.382604,53.352352,53.335487,53.341102,53.353055,53.333891,53.345087,53.340457,53.333835,53.34707291,53.366893,53.328537,53.328424,53.33397937,53.363278,53.357415,53.362822,53.323646,53.387103,53.391242,53.324841,53.323811,53.39013,53.367375,53.367392,53.33391504,53.37237867,53.34591638,53.333725,53.341311,53.361605,53.37729,53.371418,53.336841,53.3759,53.375602,53.355902,53.392112,53.400056,53.366278,53.38089,53.35750389,53.349409,53.341904,53.3240331,53.358146,53.36073337,53.335579,53.31449,53.325842,53.32797593,53.346316,53.34600478,53.386623,53.393498,53.331016,53.339315,53.35561866,53.338659,53.315996,53.322721,53.333972,53.34514,53.352257,53.368913,53.376327,53.384768,53.382077,53.373835,53.355563,53.357288,53.307368,53.347219,53.381154,53.317304,53.321338,53.350851,53.325628,53.321919,53.354861,53.353064,53.319003,53.321075,53.327007,53.331339,53.331121,53.320952,53.364032,53.35830128,53.302703,53.321886,53.326692,53.32661,53.349867,53.369308,53.318298,53.355012,53.340166,53.332867,53.37982,53.337525,53.339931,53.336778,53.321183,53.332977,53.351541,53.337751,53.329331,53.365796,53.333881,53.332713,53.332099,53.331071,53.327586,53.352445,53.353166,53.339636,53.364059,53.3723,53.345667,53.340166,53.340891,53.340305,53.364387,53.3524,53.374373,53.335965,53.317272,53.364992,53.348463,53.33703972,53.382512,53.350008,53.342442,53.335294],\"legendgroup\":\"Stand\",\"lon\":[-6.22726053,-6.265138686,-6.249765605,-6.251051724,-6.242272854,-6.262080967,-6.25176385,-6.268160194,-6.264363527,-6.262504756,-6.271338612,-6.245986372,-6.262797117,-6.25826081,-6.264474839,-6.259794384,-6.265522242,-6.264283061,-6.252724081,-6.268814653,-6.250445545,-6.258763075,-6.257420629,-6.249542981,-6.259003133,-6.26837343,-6.252315044,-6.268642992,-6.261105984,-6.257088035,-6.261493564,-6.254994571,-6.228922158,-6.258693337,-6.263477057,-6.267122179,-6.264492273,-6.263179332,-6.266077459,-6.272172779,-6.275383383,-6.248770505,-6.247810274,-6.24988094,-6.245094538,-6.26622498,-6.269459724,-6.268934011,-6.257198006,-6.264808774,-6.267952323,-6.269868761,-6.24368906,-6.24969855,-6.260666102,-6.249374002,-6.255238652,-6.267784685,-6.268844157,-6.266541481,-6.26539886,-6.27489002,-6.263350993,-6.268060952,-6.259502023,-6.266872734,-6.256611943,-6.26113683,-6.267641187,-6.250421405,-6.243741363,-6.263815016,-6.264456064,-6.259013861,-6.255112588,-6.254687458,-6.262134612,-6.263308078,-6.26537472,-6.265439093,-6.259095669,-6.265355945,-6.265075654,-6.250158548,-6.256172061,-6.268229932,-6.266204864,-6.27913177,-6.267873198,-6.267226785,-6.267397106,-6.257717013,-6.292895526,-6.277207285,-6.246668994,-6.270769984,-6.270670742,-6.248680651,-6.272837967,-6.262333095,-6.262656301,-6.260793507,-6.256654859,-6.258557886,-6.257915497,-6.252296269,-6.244401187,-6.245165616,-6.253649443,-6.238718927,-6.238583475,-6.236217767,-6.24309361,-6.2415272,-6.252639592,-6.259177476,-6.240792274,-6.265382767,-6.245928705,-6.248283684,-6.269626021,-6.25492081,-6.254671365,-6.258886456,-6.260423362,-6.267024279,-6.265439093,-6.266015768,-6.25944972,-6.259444356,-6.26539886,-6.262373328,-6.263774782,-6.257439405,-6.25215143,-6.259725988,-6.274455339,-6.266537458,-6.273295283,-6.260206103,-6.2726596,-6.253476441,-6.250662804,-6.261388958,-6.263314784,-6.241157055,-6.244124919,-6.258493513,-6.252858192,-6.235854328,-6.24304533,-6.263821721,-6.255581975,-6.267700195,-6.26718387,-6.261603534,-6.258242726,-6.26198709,-6.242224574,-6.267755181,-6.256624013,-6.255399585,-6.256809086,-6.260926276,-6.227487177,-6.261851639,-6.2569727,-6.259736717,-6.262689829,-6.262397468,-6.269115061,-6.243086904,-6.254668683,-6.266076118,-6.260073334,-6.265628189,-6.265334487,-6.256683022,-6.26425758,-6.26260668,-6.263074726,-6.261555254,-6.264543235,-6.264674664,-6.269145906,-6.26068756,-6.290507019,-6.265275478,-6.262984872,-6.263002306,-6.255485415,-6.25756681,-6.264339387,-6.266876757,-6.26842171,-6.267835647,-6.268506199,-6.267154366,-6.272738725,-6.257389784,-6.28135398,-6.275115162,-6.275891662,-6.275187582,-6.270484328,-6.260164529,-6.267481595,-6.267346144,-6.264945567,-6.264374256,-6.26306802,-6.262601316,-6.260741204,-6.25832051,-6.290792674,-6.259278059,-6.271794587,-6.277763844,-6.272678375,-6.294609457,-6.26865238,-6.250543445,-6.248227358,-6.248077154,-6.274377555,-6.277834922,-6.251549274,-6.285188198,-6.263397932,-6.265190989,-6.269591153,-6.264034957,-6.244546026,-6.258653104,-6.238808781,-6.239453852,-6.238279045,-6.235983074,-6.235950887,-6.238179803,-6.264417171,-6.233445704,-6.236972809,-6.287840903,-6.262051463,-6.26450032,-6.279795617,-6.270240247,-6.265384108,-6.276079416,-6.293238848,-6.251306534,-6.264303178,-6.267253608,-6.26409933,-6.260648668,-6.252918541,-6.266168654,-6.267496347,-6.258029491,-6.265747547,-6.260790825,-6.250971258,-6.269926429,-6.263267845,-6.263511926,-6.265024692,-6.262032688,-6.263313442,-6.272449046,-6.269899607,-6.29202649,-6.288935244,-6.280841678,-6.265047491,-6.264875829,-6.263965219,-6.263536066,-6.261535138,-6.295009106,-6.262722015,-6.264595538,-6.252361983,-6.238356829,-6.236162782,-6.266330928,-6.267299205,-6.270107478,-6.257431358,-6.271288991,-6.263249069,-6.237128377,-6.296098083,-6.297288984,-6.257094741,-6.262814552,-6.265170872,-6.259318292,-6.247524619,-6.267343462,-6.265596002,-6.26895681,-6.266548187,-6.258189082,-6.249909103,-6.265365332,-6.265102476,-6.261722893,-6.252375394,-6.257043779,-6.257368326,-6.259280741,-6.25984937,-6.254621744,-6.263313442,-6.255112588,-6.272549629,-6.257003546,-6.258065701,-6.260721087,-6.251509041,-6.264576763,-6.2644279,-6.248142868,-6.278260052,-6.292752028,-6.300144196,-6.255120635,-6.249292195,-6.258726865,-6.26884,-6.26593,-6.27172,-6.25401,-6.24889,-6.2680002,-6.263414,-6.24889,-6.24889,-6.24889,-6.24889,-6.24889,-6.24889,-6.2637142,-6.2381879,-6.236524,-6.2697237,-6.270556,-6.2625638,-6.2672672,-6.274779,-6.2739689,-6.2722839,-6.2633858,-6.2633858,-6.2633858,-6.3103413,-6.268837,-6.34151,-6.24889,-6.2661334,-6.2645596,-6.2645596,-6.24889,-6.2795992,-6.1510199,-6.2663651,-6.2551721,-6.2658794,-6.2666729,-6.251902,-6.2586973,-6.2586973,-6.24889,-6.2408231,-6.24889,-6.24889,-6.24889,-6.24889,-6.2726872,-6.2802443,-6.24889,-6.239849,-6.24889,-6.2795725,-6.2786406,-6.24889,-6.24889,-6.24889,-6.24889,-6.24889,-6.24889,-6.24889,-6.24889,-6.24889,-6.24889,-6.24889,-6.24889,-6.2636415,-6.24889,-6.2722839,-6.2676884,-6.262927,-6.2459603,-6.24889,-6.24889,-6.24889,-6.24889,-6.2821655,-6.2793713,-6.2793207,-6.24889,-6.24889,-6.24889,-6.24889,-6.24889,-6.24889,-6.24889,-6.24889,-6.24889,-6.24889,-6.24889,-6.24889,-6.24889,-6.24889,-6.24889,-6.24889,-6.24889,-6.24889,-6.24889,-6.24889,-6.24889,-6.24889,-6.24889,-6.24889,-6.24889,-6.24889,-6.24889,-6.24889,-6.24889,-6.24889,-6.24889,-6.2670729,-6.2617487,-6.2617487,-6.24889,-6.2345055,-6.2868286,-6.2725762,-6.2791596,-6.277184,-6.2739689,-6.2741552,-6.2791596,-6.2824274,-6.2931528,-6.2809863,-6.24889,-6.2847701,-6.2835841,-6.24889,-6.3191342,-6.2669481,-6.1915304,-6.1752674,-6.1951817,-6.2519675,-6.2549515,-6.2875242,-6.3003697,-6.2875242,-6.2014202,-6.1513684,-6.2801689,-6.2774237,-6.2816112,-6.3254094,-6.2862387,-6.3121661,-6.3018706,-6.2961151,-6.2725635,-6.2961151,-6.2909762,-6.2508861,-6.2656938,-6.2660649,-6.2272787,-6.24889,-6.2360715,-6.297153,-6.2868196,-6.2719581,-6.2875242,-6.2642909,-6.2667109,-6.2599213,-6.3315063,-6.24889,-6.3289236,-6.24889,-6.2023088,-6.2427021,-6.24889,-6.2795992,-6.2554355,-6.2654206,-6.263414,-6.2501219,-6.265341,-6.2357458,-6.272452,-6.2328022,-6.2740978,-6.2396281,-6.2938946,-6.2427021,-6.300026,-6.24889,-6.2907401,-6.2749034,-6.2235335,-6.2749034,-6.24889,-6.271693,-6.245238,-6.1534387,-6.2629171,-6.2907401,-6.3375581,-6.250008,-6.2573033,-6.24889,-6.2989682,-6.2442572,-6.3660158,-6.3171997,-6.24889,-6.24889,-6.24889,-6.2635331,-6.24889,-6.2758865,-6.24889,-6.24889,-6.257171,-6.24889,-6.2446892,-6.24889,-6.2588557,-6.2570893,-6.24889,-6.24889,-6.24889,-6.2369239,-6.2558594,-6.2697237,-6.279585,-6.2564553,-6.2579857,-6.2592038,-6.2654206,-6.3539768,-6.24889,-6.280998,-6.24889,-6.2549515,-6.24889,-6.2549933,-6.24889,-6.24889,-6.24889,-6.2655016,-6.2454179,-6.2402286,-6.2402286,-6.2737461,-6.2756373,-6.1834728,-6.24889,-6.2272787,-6.2245496,-6.24889,-6.24889,-6.2650851,-6.2758896,-6.2837703,-6.2778702,-6.24889,-6.2091028,-6.24889,-6.2247925,-6.2645596,-6.24889,-6.34151,-6.2610506,-6.24889,-6.24889,-6.24889,-6.24889,-6.24889,-6.24889,-6.24889,-6.2692743,-6.24889,-6.24889,-6.24889,-6.24889,-6.24889,-6.24889,-6.24889,-6.2745505,-6.24889,-6.2245243,-6.376417,-6.3081675,-6.24889,-6.24889,-6.24889,-6.24889,-6.24889,-6.24889,-6.24889,-6.24889,-6.1919671,-6.24889,-6.2406167,-6.24889,-6.24889,-6.24889,-6.1839957,-6.24889,-6.24889,-6.1833155,-6.24889,-6.24889,-6.24889,-6.2463432,-6.2649396,-6.2487457,-6.2749034,-6.257171,-6.2690429,-6.2709382,-6.2508861,-6.2605991,-6.24889,-6.2714724,-6.2451272,-6.24889,-6.24889,-6.24889,-6.2658594,-6.24889,-6.24889,-6.24889,-6.2082597,-6.24889,-6.24889,-6.2477561,-6.24889,-6.24889,-6.24889,-6.24889,-6.24889,-6.24889,-6.24889,-6.24889,-6.24889,-6.3143112,-6.24889,-6.24889,-6.24889,-6.24889,-6.3214561,-6.24889,-6.24889,-6.24889,-6.2573033,-6.2358456,-6.2178078,-6.2307652,-6.2679919,-6.283,-6.251984,-6.2717671,-6.244941,-6.2649838,-6.250658,-6.248966,-6.300165,-6.23584,-6.31511,-6.257925,-6.266577,-6.265378,-6.248683,-6.2707143,-6.2676167,-6.2733493,-6.2728832,-6.27365,-6.249048,-6.240987,-6.252151,-6.2706952,-6.244032,-6.17288,-6.280837,-6.279866,-6.279785,-6.247767,-6.291439,-6.292933,-6.281974,-6.25684,-6.286518574,-6.178134,-6.2723897,-6.262208,-6.272032,-6.14895,-6.29417,-6.281284,-6.260975,-6.264058,-6.244854,-6.2941508,-6.236991,-6.253055,-6.3028928,-6.295824,-6.26769,-6.266876,-6.236043,-6.24677,-6.259567,-6.258206,-6.272299,-6.195036,-6.267124,-6.256507,-6.229751,-6.293967,-6.265531,-6.241728,-6.233024,-6.22712,-6.277686,-6.243393,-6.242767,-6.268772,-6.244337,-6.257983,-6.2547123,-6.243109,-6.2598105,-6.282331844,-6.292718,-6.23059,-6.230617,-6.261724242,-6.243744,-6.257314,-6.178398,-6.250202,-6.242104,-6.234954,-6.240554,-6.327954,-6.311036,-6.298704,-6.299124,-6.260607446,-6.194035777,-6.27587837,-6.269798,-6.257962,-6.28613,-6.275765,-6.166817,-6.259403,-6.209,-6.209501,-6.265499,-6.205152,-6.171093,-6.256676,-6.245648,-6.248031086,-6.229783,-6.307589,-6.278548121,-6.267227,-6.26076081,-6.268985,-6.282547,-6.289827,-6.220836032,-6.255063,-6.255049903,-6.211416,-6.203269,-6.319627,-6.316478,-6.265913827,-6.322062,-6.26526,-6.230233,-6.301908,-6.308024,-6.28415,-6.254743,-6.250063,-6.243105,-6.244497,-6.175331,-6.2647773,-6.266006,-6.299807,-6.283783,-6.208471,-6.332645,-6.234825,-6.25142,-6.226857,-6.25632,-6.29025,-6.285122,-6.281421,-6.255761,-6.258448,-6.23449,-6.2339,-6.257226,-6.199151,-6.250524612,-6.297947,-6.239063,-6.258051,-6.257754,-6.34487,-6.271493,-6.2108075,-6.266235,-6.316787,-6.26012,-6.210781,-6.251547,-6.22746,-6.244001,-6.335011,-6.249024,-6.267718,-6.323397,-6.258119,-6.262973,-6.251684,-6.257413,-6.305912,-6.231793,-6.235294,-6.291885,-6.291547,-6.272362,-6.197649,-6.252584,-6.25093,-6.316787,-6.265634,-6.315118,-6.275507,-6.289245,-6.255575,-6.2624615,-6.2922769,-6.260116,-6.28003,-6.254552121,-6.261817,-6.283897,-6.349356,-6.294869],\"marker\":{\"color\":\"#636efa\"},\"mode\":\"markers\",\"name\":\"Stand\",\"showlegend\":true,\"subplot\":\"mapbox\",\"type\":\"scattermapbox\"},{\"customdata\":[[\"Charleville Mall\"],[\"North Strand Rd N/B\"],[\"Guild Street\"],[\"Grove Road Totem\"],[\"North Strand Rd S/B\"],[\"Richmond Street 1\"],[\"Richmond Street 2\"],[\"Drumcondra\"],[\"Clontarf - James Larkin Rd\"],[\"Clontarf - Pebble Beach Carpark\"],[\"Griffith Avenue (Clare Rd Side)\"],[\"Griffith Avenue (Lane Side)\"]],\"hovertemplate\":\"<b>%{hovertext}</b><br><br>type=Counter<br>X=%{lat}<br>Y=%{lon}<br>location_stand=%{customdata[0]}<extra></extra>\",\"hovertext\":[\"Charleville Mall\",\"North Strand Rd N/B\",\"Guild Street\",\"Grove Road Totem\",\"North Strand Rd S/B\",\"Richmond Street 1\",\"Richmond Street 2\",\"Drumcondra\",\"Clontarf - James Larkin Rd\",\"Clontarf - Pebble Beach Carpark\",\"Griffith Avenue (Clare Rd Side)\",\"Griffith Avenue (Lane Side)\"],\"lat\":[53.35694847,53.35853,53.34815,53.3296435,53.35846619,53.3303987,53.33227358,53.362866,53.367859,53.358266,53.37659864,53.377],\"legendgroup\":\"Counter\",\"lon\":[-6.245350215,-6.24134,-6.24098,-6.2701778,-6.241417032,-6.264258456464106,-6.264814344,-6.258533,-6.171466,-6.191038,-6.253883207,-6.255],\"marker\":{\"color\":\"#EF553B\"},\"mode\":\"markers\",\"name\":\"Counter\",\"showlegend\":true,\"subplot\":\"mapbox\",\"type\":\"scattermapbox\"}],                        {\"template\":{\"data\":{\"histogram2dcontour\":[{\"type\":\"histogram2dcontour\",\"colorbar\":{\"outlinewidth\":0,\"ticks\":\"\"},\"colorscale\":[[0.0,\"#0d0887\"],[0.1111111111111111,\"#46039f\"],[0.2222222222222222,\"#7201a8\"],[0.3333333333333333,\"#9c179e\"],[0.4444444444444444,\"#bd3786\"],[0.5555555555555556,\"#d8576b\"],[0.6666666666666666,\"#ed7953\"],[0.7777777777777778,\"#fb9f3a\"],[0.8888888888888888,\"#fdca26\"],[1.0,\"#f0f921\"]]}],\"choropleth\":[{\"type\":\"choropleth\",\"colorbar\":{\"outlinewidth\":0,\"ticks\":\"\"}}],\"histogram2d\":[{\"type\":\"histogram2d\",\"colorbar\":{\"outlinewidth\":0,\"ticks\":\"\"},\"colorscale\":[[0.0,\"#0d0887\"],[0.1111111111111111,\"#46039f\"],[0.2222222222222222,\"#7201a8\"],[0.3333333333333333,\"#9c179e\"],[0.4444444444444444,\"#bd3786\"],[0.5555555555555556,\"#d8576b\"],[0.6666666666666666,\"#ed7953\"],[0.7777777777777778,\"#fb9f3a\"],[0.8888888888888888,\"#fdca26\"],[1.0,\"#f0f921\"]]}],\"heatmap\":[{\"type\":\"heatmap\",\"colorbar\":{\"outlinewidth\":0,\"ticks\":\"\"},\"colorscale\":[[0.0,\"#0d0887\"],[0.1111111111111111,\"#46039f\"],[0.2222222222222222,\"#7201a8\"],[0.3333333333333333,\"#9c179e\"],[0.4444444444444444,\"#bd3786\"],[0.5555555555555556,\"#d8576b\"],[0.6666666666666666,\"#ed7953\"],[0.7777777777777778,\"#fb9f3a\"],[0.8888888888888888,\"#fdca26\"],[1.0,\"#f0f921\"]]}],\"heatmapgl\":[{\"type\":\"heatmapgl\",\"colorbar\":{\"outlinewidth\":0,\"ticks\":\"\"},\"colorscale\":[[0.0,\"#0d0887\"],[0.1111111111111111,\"#46039f\"],[0.2222222222222222,\"#7201a8\"],[0.3333333333333333,\"#9c179e\"],[0.4444444444444444,\"#bd3786\"],[0.5555555555555556,\"#d8576b\"],[0.6666666666666666,\"#ed7953\"],[0.7777777777777778,\"#fb9f3a\"],[0.8888888888888888,\"#fdca26\"],[1.0,\"#f0f921\"]]}],\"contourcarpet\":[{\"type\":\"contourcarpet\",\"colorbar\":{\"outlinewidth\":0,\"ticks\":\"\"}}],\"contour\":[{\"type\":\"contour\",\"colorbar\":{\"outlinewidth\":0,\"ticks\":\"\"},\"colorscale\":[[0.0,\"#0d0887\"],[0.1111111111111111,\"#46039f\"],[0.2222222222222222,\"#7201a8\"],[0.3333333333333333,\"#9c179e\"],[0.4444444444444444,\"#bd3786\"],[0.5555555555555556,\"#d8576b\"],[0.6666666666666666,\"#ed7953\"],[0.7777777777777778,\"#fb9f3a\"],[0.8888888888888888,\"#fdca26\"],[1.0,\"#f0f921\"]]}],\"surface\":[{\"type\":\"surface\",\"colorbar\":{\"outlinewidth\":0,\"ticks\":\"\"},\"colorscale\":[[0.0,\"#0d0887\"],[0.1111111111111111,\"#46039f\"],[0.2222222222222222,\"#7201a8\"],[0.3333333333333333,\"#9c179e\"],[0.4444444444444444,\"#bd3786\"],[0.5555555555555556,\"#d8576b\"],[0.6666666666666666,\"#ed7953\"],[0.7777777777777778,\"#fb9f3a\"],[0.8888888888888888,\"#fdca26\"],[1.0,\"#f0f921\"]]}],\"mesh3d\":[{\"type\":\"mesh3d\",\"colorbar\":{\"outlinewidth\":0,\"ticks\":\"\"}}],\"scatter\":[{\"fillpattern\":{\"fillmode\":\"overlay\",\"size\":10,\"solidity\":0.2},\"type\":\"scatter\"}],\"parcoords\":[{\"type\":\"parcoords\",\"line\":{\"colorbar\":{\"outlinewidth\":0,\"ticks\":\"\"}}}],\"scatterpolargl\":[{\"type\":\"scatterpolargl\",\"marker\":{\"colorbar\":{\"outlinewidth\":0,\"ticks\":\"\"}}}],\"bar\":[{\"error_x\":{\"color\":\"#2a3f5f\"},\"error_y\":{\"color\":\"#2a3f5f\"},\"marker\":{\"line\":{\"color\":\"#E5ECF6\",\"width\":0.5},\"pattern\":{\"fillmode\":\"overlay\",\"size\":10,\"solidity\":0.2}},\"type\":\"bar\"}],\"scattergeo\":[{\"type\":\"scattergeo\",\"marker\":{\"colorbar\":{\"outlinewidth\":0,\"ticks\":\"\"}}}],\"scatterpolar\":[{\"type\":\"scatterpolar\",\"marker\":{\"colorbar\":{\"outlinewidth\":0,\"ticks\":\"\"}}}],\"histogram\":[{\"marker\":{\"pattern\":{\"fillmode\":\"overlay\",\"size\":10,\"solidity\":0.2}},\"type\":\"histogram\"}],\"scattergl\":[{\"type\":\"scattergl\",\"marker\":{\"colorbar\":{\"outlinewidth\":0,\"ticks\":\"\"}}}],\"scatter3d\":[{\"type\":\"scatter3d\",\"line\":{\"colorbar\":{\"outlinewidth\":0,\"ticks\":\"\"}},\"marker\":{\"colorbar\":{\"outlinewidth\":0,\"ticks\":\"\"}}}],\"scattermapbox\":[{\"type\":\"scattermapbox\",\"marker\":{\"colorbar\":{\"outlinewidth\":0,\"ticks\":\"\"}}}],\"scatterternary\":[{\"type\":\"scatterternary\",\"marker\":{\"colorbar\":{\"outlinewidth\":0,\"ticks\":\"\"}}}],\"scattercarpet\":[{\"type\":\"scattercarpet\",\"marker\":{\"colorbar\":{\"outlinewidth\":0,\"ticks\":\"\"}}}],\"carpet\":[{\"aaxis\":{\"endlinecolor\":\"#2a3f5f\",\"gridcolor\":\"white\",\"linecolor\":\"white\",\"minorgridcolor\":\"white\",\"startlinecolor\":\"#2a3f5f\"},\"baxis\":{\"endlinecolor\":\"#2a3f5f\",\"gridcolor\":\"white\",\"linecolor\":\"white\",\"minorgridcolor\":\"white\",\"startlinecolor\":\"#2a3f5f\"},\"type\":\"carpet\"}],\"table\":[{\"cells\":{\"fill\":{\"color\":\"#EBF0F8\"},\"line\":{\"color\":\"white\"}},\"header\":{\"fill\":{\"color\":\"#C8D4E3\"},\"line\":{\"color\":\"white\"}},\"type\":\"table\"}],\"barpolar\":[{\"marker\":{\"line\":{\"color\":\"#E5ECF6\",\"width\":0.5},\"pattern\":{\"fillmode\":\"overlay\",\"size\":10,\"solidity\":0.2}},\"type\":\"barpolar\"}],\"pie\":[{\"automargin\":true,\"type\":\"pie\"}]},\"layout\":{\"autotypenumbers\":\"strict\",\"colorway\":[\"#636efa\",\"#EF553B\",\"#00cc96\",\"#ab63fa\",\"#FFA15A\",\"#19d3f3\",\"#FF6692\",\"#B6E880\",\"#FF97FF\",\"#FECB52\"],\"font\":{\"color\":\"#2a3f5f\"},\"hovermode\":\"closest\",\"hoverlabel\":{\"align\":\"left\"},\"paper_bgcolor\":\"white\",\"plot_bgcolor\":\"#E5ECF6\",\"polar\":{\"bgcolor\":\"#E5ECF6\",\"angularaxis\":{\"gridcolor\":\"white\",\"linecolor\":\"white\",\"ticks\":\"\"},\"radialaxis\":{\"gridcolor\":\"white\",\"linecolor\":\"white\",\"ticks\":\"\"}},\"ternary\":{\"bgcolor\":\"#E5ECF6\",\"aaxis\":{\"gridcolor\":\"white\",\"linecolor\":\"white\",\"ticks\":\"\"},\"baxis\":{\"gridcolor\":\"white\",\"linecolor\":\"white\",\"ticks\":\"\"},\"caxis\":{\"gridcolor\":\"white\",\"linecolor\":\"white\",\"ticks\":\"\"}},\"coloraxis\":{\"colorbar\":{\"outlinewidth\":0,\"ticks\":\"\"}},\"colorscale\":{\"sequential\":[[0.0,\"#0d0887\"],[0.1111111111111111,\"#46039f\"],[0.2222222222222222,\"#7201a8\"],[0.3333333333333333,\"#9c179e\"],[0.4444444444444444,\"#bd3786\"],[0.5555555555555556,\"#d8576b\"],[0.6666666666666666,\"#ed7953\"],[0.7777777777777778,\"#fb9f3a\"],[0.8888888888888888,\"#fdca26\"],[1.0,\"#f0f921\"]],\"sequentialminus\":[[0.0,\"#0d0887\"],[0.1111111111111111,\"#46039f\"],[0.2222222222222222,\"#7201a8\"],[0.3333333333333333,\"#9c179e\"],[0.4444444444444444,\"#bd3786\"],[0.5555555555555556,\"#d8576b\"],[0.6666666666666666,\"#ed7953\"],[0.7777777777777778,\"#fb9f3a\"],[0.8888888888888888,\"#fdca26\"],[1.0,\"#f0f921\"]],\"diverging\":[[0,\"#8e0152\"],[0.1,\"#c51b7d\"],[0.2,\"#de77ae\"],[0.3,\"#f1b6da\"],[0.4,\"#fde0ef\"],[0.5,\"#f7f7f7\"],[0.6,\"#e6f5d0\"],[0.7,\"#b8e186\"],[0.8,\"#7fbc41\"],[0.9,\"#4d9221\"],[1,\"#276419\"]]},\"xaxis\":{\"gridcolor\":\"white\",\"linecolor\":\"white\",\"ticks\":\"\",\"title\":{\"standoff\":15},\"zerolinecolor\":\"white\",\"automargin\":true,\"zerolinewidth\":2},\"yaxis\":{\"gridcolor\":\"white\",\"linecolor\":\"white\",\"ticks\":\"\",\"title\":{\"standoff\":15},\"zerolinecolor\":\"white\",\"automargin\":true,\"zerolinewidth\":2},\"scene\":{\"xaxis\":{\"backgroundcolor\":\"#E5ECF6\",\"gridcolor\":\"white\",\"linecolor\":\"white\",\"showbackground\":true,\"ticks\":\"\",\"zerolinecolor\":\"white\",\"gridwidth\":2},\"yaxis\":{\"backgroundcolor\":\"#E5ECF6\",\"gridcolor\":\"white\",\"linecolor\":\"white\",\"showbackground\":true,\"ticks\":\"\",\"zerolinecolor\":\"white\",\"gridwidth\":2},\"zaxis\":{\"backgroundcolor\":\"#E5ECF6\",\"gridcolor\":\"white\",\"linecolor\":\"white\",\"showbackground\":true,\"ticks\":\"\",\"zerolinecolor\":\"white\",\"gridwidth\":2}},\"shapedefaults\":{\"line\":{\"color\":\"#2a3f5f\"}},\"annotationdefaults\":{\"arrowcolor\":\"#2a3f5f\",\"arrowhead\":0,\"arrowwidth\":1},\"geo\":{\"bgcolor\":\"white\",\"landcolor\":\"#E5ECF6\",\"subunitcolor\":\"white\",\"showland\":true,\"showlakes\":true,\"lakecolor\":\"white\"},\"title\":{\"x\":0.05},\"mapbox\":{\"style\":\"light\"}}},\"mapbox\":{\"domain\":{\"x\":[0.0,1.0],\"y\":[0.0,1.0]},\"center\":{\"lat\":53.3441459411285,\"lon\":-6.259409278256385},\"zoom\":8,\"style\":\"open-street-map\"},\"legend\":{\"title\":{\"text\":\"type\"},\"tracegroupgap\":0},\"margin\":{\"t\":60},\"height\":1000,\"width\":1000},                        {\"responsive\": true}                    ).then(function(){\n",
       "                            \n",
       "var gd = document.getElementById('56b1e674-795b-496b-956d-d8a9989a53af');\n",
       "var x = new MutationObserver(function (mutations, observer) {{\n",
       "        var display = window.getComputedStyle(gd).display;\n",
       "        if (!display || display === 'none') {{\n",
       "            console.log([gd, 'removed!']);\n",
       "            Plotly.purge(gd);\n",
       "            observer.disconnect();\n",
       "        }}\n",
       "}});\n",
       "\n",
       "// Listen for the removal of the full notebook cells\n",
       "var notebookContainer = gd.closest('#notebook-container');\n",
       "if (notebookContainer) {{\n",
       "    x.observe(notebookContainer, {childList: true});\n",
       "}}\n",
       "\n",
       "// Listen for the clearing of the current output cell\n",
       "var outputEl = gd.closest('.output');\n",
       "if (outputEl) {{\n",
       "    x.observe(outputEl, {childList: true});\n",
       "}}\n",
       "\n",
       "                        })                };                });            </script>        </div>"
      ]
     },
     "metadata": {},
     "output_type": "display_data"
    }
   ],
   "source": [
    "\n",
    "fig = px.scatter_mapbox(stands, lat=\"X\", lon=\"Y\", hover_name=\"location_stand\", hover_data=[\"location_stand\"], color = 'type',zoom=8, height=1000,width=1000)\n",
    "fig.update_layout(mapbox_style=\"open-street-map\")\n",
    "fig1.update_layout(mapbox_style=\"open-street-map\")\n",
    "#fig.add_trace(fig1)\n",
    "fig.show()\n"
   ]
  },
  {
   "cell_type": "code",
   "execution_count": null,
   "id": "99bd1de9",
   "metadata": {},
   "outputs": [],
   "source": []
  }
 ],
 "metadata": {
  "kernelspec": {
   "display_name": "Python 3 (ipykernel)",
   "language": "python",
   "name": "python3"
  },
  "language_info": {
   "codemirror_mode": {
    "name": "ipython",
    "version": 3
   },
   "file_extension": ".py",
   "mimetype": "text/x-python",
   "name": "python",
   "nbconvert_exporter": "python",
   "pygments_lexer": "ipython3",
   "version": "3.8.5"
  },
  "varInspector": {
   "cols": {
    "lenName": 16,
    "lenType": 16,
    "lenVar": 40
   },
   "kernels_config": {
    "python": {
     "delete_cmd_postfix": "",
     "delete_cmd_prefix": "del ",
     "library": "var_list.py",
     "varRefreshCmd": "print(var_dic_list())"
    },
    "r": {
     "delete_cmd_postfix": ") ",
     "delete_cmd_prefix": "rm(",
     "library": "var_list.r",
     "varRefreshCmd": "cat(var_dic_list()) "
    }
   },
   "types_to_exclude": [
    "module",
    "function",
    "builtin_function_or_method",
    "instance",
    "_Feature"
   ],
   "window_display": false
  }
 },
 "nbformat": 4,
 "nbformat_minor": 5
}
